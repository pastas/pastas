{
 "cells": [
  {
   "cell_type": "markdown",
   "metadata": {},
   "source": [
    "# Interactive plots \n",
    "\n",
    "*D.A. Brakenhoff (Artesia Water 2023)*\n",
    "\n",
    "This notebook shows how interactive plots can be created using the Plotly extension.\n",
    "\n",
    "Extensions can be used to add functionality to existing classes in Pastas. In this\n",
    "example the plotly extension is registered to the `pastas.Model` class, allowing us to\n",
    "create interactive figures."
   ]
  },
  {
   "cell_type": "code",
   "execution_count": null,
   "metadata": {},
   "outputs": [],
   "source": [
    "# import the requisite packages\n",
    "\n",
    "import pandas as pd\n",
    "import pastas as ps\n",
    "\n",
    "ps.set_log_level(\"ERROR\")"
   ]
  },
  {
   "cell_type": "markdown",
   "metadata": {},
   "source": [
    "Read in the heads, precipitation and evaporation data from the first example notebook."
   ]
  },
  {
   "cell_type": "code",
   "execution_count": null,
   "metadata": {},
   "outputs": [],
   "source": [
    "# read observations and create the time series model\n",
    "obs = pd.read_csv(\"data/head_nb1.csv\", index_col=0, parse_dates=True).squeeze(\"columns\")\n",
    "\n",
    "\n",
    "# read weather data\n",
    "rain = pd.read_csv(\"data/rain_nb1.csv\", index_col=0, parse_dates=True).squeeze(\n",
    "    \"columns\"\n",
    ")\n",
    "evap = pd.read_csv(\"data/evap_nb1.csv\", index_col=0, parse_dates=True).squeeze(\n",
    "    \"columns\"\n",
    ")"
   ]
  },
  {
   "cell_type": "markdown",
   "metadata": {},
   "source": [
    "Create a pastas Model and add a linear recharge model using the precipitation and\n",
    "evaporation timeseries. Finally, solve the model."
   ]
  },
  {
   "cell_type": "code",
   "execution_count": null,
   "metadata": {},
   "outputs": [],
   "source": [
    "# Create the time series model\n",
    "ml = ps.Model(obs, name=\"head\")\n",
    "\n",
    "# Create recharge stressmodel\n",
    "sm = ps.RechargeModel(prec=rain, evap=evap, rfunc=ps.Exponential(), name=\"recharge\")\n",
    "ml.add_stressmodel(sm)\n",
    "\n",
    "# Solve\n",
    "ml.solve()"
   ]
  },
  {
   "cell_type": "markdown",
   "metadata": {},
   "source": [
    "In order to add the interactive plotting extension to the `pastas.Model` class, we need\n",
    "to register the extension. The Plotly extension is already part of the pastas plotting\n",
    "library, but since it requires the `plotly` package as an optional dependency, it is\n",
    "not registered by default.\n",
    "\n",
    "In order to use the interactive plots, `plotly` needs to be installed. Once `plotly` is\n",
    "available, the extension can be registered using `ps.extensions.register_plotly()`."
   ]
  },
  {
   "cell_type": "code",
   "execution_count": null,
   "metadata": {},
   "outputs": [],
   "source": [
    "# register plotly extension, requires plotly to be installed\n",
    "ps.extensions.register_plotly()"
   ]
  },
  {
   "cell_type": "markdown",
   "metadata": {},
   "source": [
    "Now all pastas models have a plotly sub-module:"
   ]
  },
  {
   "cell_type": "code",
   "execution_count": null,
   "metadata": {},
   "outputs": [],
   "source": [
    "ml.plotly"
   ]
  },
  {
   "cell_type": "markdown",
   "metadata": {},
   "source": [
    "The following interactive plots are available:"
   ]
  },
  {
   "cell_type": "code",
   "execution_count": null,
   "metadata": {},
   "outputs": [],
   "source": [
    "[method for method in dir(ml.plotly) if not method.startswith(\"_\")]"
   ]
  },
  {
   "cell_type": "markdown",
   "metadata": {},
   "source": [
    "The simple `ml.plotly.plot()` shows the observations and the model simulation. This is similar to the standard `ml.plot()`."
   ]
  },
  {
   "cell_type": "code",
   "execution_count": null,
   "metadata": {},
   "outputs": [],
   "source": [
    "fig = ml.plotly.plot()\n",
    "fig"
   ]
  },
  {
   "cell_type": "markdown",
   "metadata": {},
   "source": [
    "For a more detailed look at the model results, the `ml.plotly.results()` plot is\n",
    "available. This is similar to `ml.plots.results()`."
   ]
  },
  {
   "cell_type": "code",
   "execution_count": null,
   "metadata": {},
   "outputs": [],
   "source": [
    "fig = ml.plotly.results()\n",
    "fig.update_layout(height=600)"
   ]
  },
  {
   "cell_type": "markdown",
   "metadata": {},
   "source": [
    "Finally, the model diagnostics are also available through `ml.plotly.diagnostics()`.\n",
    "This is similar to `ml.plots.diagnostics()`."
   ]
  },
  {
   "cell_type": "code",
   "execution_count": null,
   "metadata": {},
   "outputs": [],
   "source": [
    "fig = ml.plotly.diagnostics()\n",
    "fig.update_layout(height=800, width=800)"
   ]
  }
 ],
 "metadata": {
  "CodeCell": {
   "cm_config": {
    "lineWrapping": true
   }
  },
  "MarkdownCell": {
   "cm_config": {
    "lineWrapping": true
   }
  },
  "anaconda-cloud": {},
  "kernelspec": {
   "display_name": "pastas_dev",
   "language": "python",
   "name": "python3"
  },
  "language_info": {
   "codemirror_mode": {
    "name": "ipython",
    "version": 3
   },
   "file_extension": ".py",
   "mimetype": "text/x-python",
   "name": "python",
   "nbconvert_exporter": "python",
   "pygments_lexer": "ipython3",
   "version": "3.10.12"
  },
  "vscode": {
   "interpreter": {
    "hash": "29475f8be425919747d373d827cb41e481e140756dd3c75aa328bf3399a0138e"
   }
  },
  "widgets": {
   "state": {},
   "version": "1.1.2"
  }
 },
 "nbformat": 4,
 "nbformat_minor": 4
}
