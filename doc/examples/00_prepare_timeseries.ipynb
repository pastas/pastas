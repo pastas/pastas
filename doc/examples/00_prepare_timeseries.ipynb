{
 "cells": [
  {
   "cell_type": "markdown",
   "id": "0fa962db",
   "metadata": {},
   "source": [
    "# Preprocessing user-provided time series\n",
    "*Developed by D. Brakenhoff, Artesia, and R.A. Collenteur, Eawag, January (2021-2023)*\n",
    "\n",
    "This notebooks shows how to solve the most common errors that arise during the validation of the user provided time series. After showing how to deal with some of the easier errors, we will dive into the topic of making time series equidistant. For this purpose Pastas contains a lot of helper functions.   \n",
    "\n",
    "<div class=\"alert alert-info\">\n",
    "\n",
    "<b>Note</b> \n",
    "To see the Error messages returned by `validate_series` method, you have to uncomment the code-line. This is done to make sure the notebook still runs automatically for our Documentation website.\n",
    "</div>\n"
   ]
  },
  {
   "cell_type": "code",
   "execution_count": 2,
   "id": "b17ac4c8",
   "metadata": {},
   "outputs": [
    {
     "name": "stdout",
     "output_type": "stream",
     "text": [
      "Python version: 3.9.7 | packaged by conda-forge | (default, Sep 29 2021, 19:20:46) \n",
      "[GCC 9.4.0]\n",
      "NumPy version: 1.21.2\n",
      "SciPy version: 1.7.3\n",
      "Pandas version: 1.5.2\n",
      "Pastas version: 0.22.0b0\n",
      "Matplotlib version: 3.6.1\n"
     ]
    }
   ],
   "source": [
    "import pastas as ps\n",
    "import pandas as pd\n",
    "import numpy as np\n",
    "import matplotlib.pyplot as plt\n",
    "\n",
    "ps.show_versions()"
   ]
  },
  {
   "cell_type": "markdown",
   "id": "26679c9f",
   "metadata": {},
   "source": [
    "## 1. Validating the time series, what is checked?\n",
    "\n",
    "Let us first look at the docstring of the `ps.validate_stress` method, which can be used to automatically check user-provided input time series. This method is also ud internally in Pastas to check all user provided time series. For the stresses `ps.validate_stress` is used and for the oseries the `ps.validate_oseries` is used. The only difference between these methods is that the oseries are not checked for equidistant time series."
   ]
  },
  {
   "cell_type": "code",
   "execution_count": 3,
   "id": "551898d6",
   "metadata": {},
   "outputs": [
    {
     "name": "stdout",
     "output_type": "stream",
     "text": [
      "\u001b[0;31mSignature:\u001b[0m \u001b[0mps\u001b[0m\u001b[0;34m.\u001b[0m\u001b[0mvalidate_stress\u001b[0m\u001b[0;34m(\u001b[0m\u001b[0mseries\u001b[0m\u001b[0;34m:\u001b[0m \u001b[0mpandas\u001b[0m\u001b[0;34m.\u001b[0m\u001b[0mcore\u001b[0m\u001b[0;34m.\u001b[0m\u001b[0mseries\u001b[0m\u001b[0;34m.\u001b[0m\u001b[0mSeries\u001b[0m\u001b[0;34m)\u001b[0m\u001b[0;34m\u001b[0m\u001b[0;34m\u001b[0m\u001b[0m\n",
      "\u001b[0;31mDocstring:\u001b[0m\n",
      "Method to validate user-provided stress input time series.\n",
      "\n",
      "Parameters\n",
      "----------\n",
      "series: pandas.Series\n",
      "    Pandas.Series object containing the series time series.\n",
      "\n",
      "Notes\n",
      "-----\n",
      "The Series are validated for the following cases:\n",
      "\n",
      "0. Make sure the series is a Pandas.Series\n",
      "1. Make sure the values are floats\n",
      "2. Make sure the index is a DatetimeIndex\n",
      "3. Make sure the indices are datetime64\n",
      "4. Make sure the index is monotonically increasing\n",
      "5. Make sure there are no duplicate indices\n",
      "6. Make sure the time series has no nan-values\n",
      "7. Make sure the time series has equidistant time steps\n",
      "\n",
      "If any of these checks are not passed the method will throw an error that needs\n",
      "to be fixed by the user.\n",
      "\n",
      "Examples\n",
      "--------\n",
      "\n",
      ">>> ps.validate_stress(series)\n",
      "\u001b[0;31mFile:\u001b[0m      ~/Github/pastas/pastas/timeseries.py\n",
      "\u001b[0;31mType:\u001b[0m      function\n"
     ]
    }
   ],
   "source": [
    "ps.validate_stress?"
   ]
  },
  {
   "cell_type": "markdown",
   "id": "014d8fbb",
   "metadata": {},
   "source": [
    "### a. If the time series is a DataFrame"
   ]
  },
  {
   "cell_type": "code",
   "execution_count": 15,
   "id": "a1c46ab1",
   "metadata": {},
   "outputs": [
    {
     "name": "stderr",
     "output_type": "stream",
     "text": [
      "ERROR: Expected a Pandas Series, got <class 'pandas.core.frame.DataFrame'>\n"
     ]
    },
    {
     "name": "stdout",
     "output_type": "stream",
     "text": [
      "ValueError: Expected a Pandas Series, got <class 'pandas.core.frame.DataFrame'>\n"
     ]
    }
   ],
   "source": [
    "index = pd.date_range(\"2000-01-01\", \"2000-01-10\")\n",
    "series = pd.DataFrame(data=[np.arange(10.)], index=index)\n",
    "\n",
    "# Here's error message return by Pastas\n",
    "\n",
    "try: \n",
    "    ps.validate_stress(series)\n",
    "except Exception as e:\n",
    "    print(f\"{type(e).__name__}: {e}\")"
   ]
  },
  {
   "cell_type": "code",
   "execution_count": 4,
   "id": "ecc32bd0",
   "metadata": {},
   "outputs": [
    {
     "data": {
      "text/plain": [
       "2000-01-01    0.0\n",
       "2000-01-02    0.0\n",
       "2000-01-03    0.0\n",
       "2000-01-04    0.0\n",
       "2000-01-05    0.0\n",
       "2000-01-06    0.0\n",
       "2000-01-07    0.0\n",
       "2000-01-08    0.0\n",
       "2000-01-09    0.0\n",
       "2000-01-10    0.0\n",
       "Freq: D, Name: 0, dtype: float64"
      ]
     },
     "execution_count": 4,
     "metadata": {},
     "output_type": "execute_result"
    }
   ],
   "source": [
    "series.iloc[:,0]  # Simpy select the first column"
   ]
  },
  {
   "cell_type": "markdown",
   "id": "7c661c66",
   "metadata": {},
   "source": [
    "### b. If values are not floats"
   ]
  },
  {
   "cell_type": "code",
   "execution_count": 16,
   "id": "8157f7ac",
   "metadata": {},
   "outputs": [
    {
     "name": "stderr",
     "output_type": "stream",
     "text": [
      "ERROR: Values of time series Stress are not dtype=float.\n"
     ]
    },
    {
     "name": "stdout",
     "output_type": "stream",
     "text": [
      "ValueError: Values of time series Stress are not dtype=float.\n"
     ]
    }
   ],
   "source": [
    "index = pd.date_range(\"2000-01-01\", \"2000-01-10\")\n",
    "series = pd.Series(data=range(10), index=index, name=\"Stress\")\n",
    "\n",
    "# Here's error message return by Pastas\n",
    "try: \n",
    "    ps.validate_stress(series)\n",
    "except Exception as e:\n",
    "    print(f\"{type(e).__name__}: {e}\")"
   ]
  },
  {
   "cell_type": "code",
   "execution_count": 17,
   "id": "33ad8003",
   "metadata": {},
   "outputs": [],
   "source": [
    "# Here is a possible fix to this issue\n",
    "series = series.astype(float)"
   ]
  },
  {
   "cell_type": "markdown",
   "id": "5499a9b3",
   "metadata": {},
   "source": [
    "### c. If the index is not a datetimeindex"
   ]
  },
  {
   "cell_type": "code",
   "execution_count": 18,
   "id": "c6d36722",
   "metadata": {},
   "outputs": [
    {
     "name": "stderr",
     "output_type": "stream",
     "text": [
      "ERROR: Index os series Stress is not a pandas.DatetimeIndex.\n"
     ]
    },
    {
     "name": "stdout",
     "output_type": "stream",
     "text": [
      "ValueError: Index os series Stress is not a pandas.DatetimeIndex.\n"
     ]
    }
   ],
   "source": [
    "series = pd.Series(data=np.arange(10.), index=range(10), name=\"Stress\")\n",
    "\n",
    "# Here's error message return by Pastas\n",
    "try: \n",
    "    ps.validate_stress(series)\n",
    "except Exception as e:\n",
    "    print(f\"{type(e).__name__}: {e}\")"
   ]
  },
  {
   "cell_type": "code",
   "execution_count": 19,
   "id": "de8c98b2",
   "metadata": {},
   "outputs": [],
   "source": [
    "# Here is a possible fix to this issue\n",
    "series.index = pd.to_datetime(series.index)\n",
    "ps.validate_stress(series)"
   ]
  },
  {
   "cell_type": "markdown",
   "id": "bae16d66",
   "metadata": {},
   "source": [
    "### d. If index is not monotonically increasing"
   ]
  },
  {
   "cell_type": "code",
   "execution_count": 20,
   "id": "0845c73e",
   "metadata": {},
   "outputs": [
    {
     "name": "stderr",
     "output_type": "stream",
     "text": [
      "ERROR: The time-indices of series Stress are not monotonically increasing. Try to use `series.sort_index()` to fix it.\n"
     ]
    },
    {
     "name": "stdout",
     "output_type": "stream",
     "text": [
      "ValueError: The time-indices of series Stress are not monotonically increasing. Try to use `series.sort_index()` to fix it.\n"
     ]
    }
   ],
   "source": [
    "index = pd.to_datetime([\"2000-01-01\", \"2000-01-03\", \"2000-01-02\", \"2000-01-4\"])\n",
    "series = pd.Series(data=np.arange(4.), index=index, name=\"Stress\")\n",
    "\n",
    "# Here's error message return by Pastas\n",
    "try: \n",
    "    ps.validate_stress(series)\n",
    "except Exception as e:\n",
    "    print(f\"{type(e).__name__}: {e}\")"
   ]
  },
  {
   "cell_type": "code",
   "execution_count": 21,
   "id": "a5b674e7",
   "metadata": {},
   "outputs": [],
   "source": [
    "# Here is a possible fix to this issue\n",
    "series = series.sort_index()\n",
    "ps.validate_stress(series)"
   ]
  },
  {
   "cell_type": "markdown",
   "id": "6e56dd3d",
   "metadata": {},
   "source": [
    "### e. If the index has duplicate indices"
   ]
  },
  {
   "cell_type": "code",
   "execution_count": 22,
   "id": "77919194",
   "metadata": {},
   "outputs": [
    {
     "name": "stderr",
     "output_type": "stream",
     "text": [
      "ERROR: duplicate time-indexes were found in the time series Stress. Make sure there are no duplicate indices. For example by `grouped = series.groupby(level=0); series = grouped.mean()`\n"
     ]
    },
    {
     "name": "stdout",
     "output_type": "stream",
     "text": [
      "ValueError: duplicate time-indexes were found in the time series Stress. Make sure there are no duplicate indices. For example by `grouped = series.groupby(level=0); series = grouped.mean()`\n"
     ]
    }
   ],
   "source": [
    "index = pd.to_datetime([\"2000-01-01\", \"2000-01-02\", \"2000-01-02\", \"2000-01-3\"])\n",
    "series = pd.Series(data=np.arange(4.), index=index, name=\"Stress\")\n",
    "\n",
    "# Here's error message return by Pastas\n",
    "try: \n",
    "    ps.validate_stress(series)\n",
    "except Exception as e:\n",
    "    print(f\"{type(e).__name__}: {e}\")"
   ]
  },
  {
   "cell_type": "code",
   "execution_count": 23,
   "id": "0373d496",
   "metadata": {},
   "outputs": [],
   "source": [
    "# Here is a possible fix to this issue\n",
    "grouped = series.groupby(level=0)\n",
    "series = grouped.mean()\n",
    "ps.validate_stress(series)"
   ]
  },
  {
   "cell_type": "markdown",
   "id": "491848b0",
   "metadata": {},
   "source": [
    "### f. If the time series has nan-values"
   ]
  },
  {
   "cell_type": "code",
   "execution_count": 24,
   "id": "326f59e7",
   "metadata": {},
   "outputs": [
    {
     "name": "stderr",
     "output_type": "stream",
     "text": [
      "ERROR: The time series Stress has nan-values. Please fill or remove all the nan-values from the time series. For example by using  series.fillna(0.0).\n"
     ]
    },
    {
     "name": "stdout",
     "output_type": "stream",
     "text": [
      "ValueError: The time series Stress has nan-values. Please fill or remove all the nan-values from the time series. For example by using  series.fillna(0.0).\n"
     ]
    }
   ],
   "source": [
    "index = pd.date_range(\"2000-01-01\", \"2000-01-10\")\n",
    "series = pd.Series(data=np.arange(10.), index=index, name=\"Stress\")\n",
    "series.loc[\"2000-01-05\"] = np.nan\n",
    "\n",
    "# Here's error message return by Pastas\n",
    "try: \n",
    "    ps.validate_stress(series)\n",
    "except Exception as e:\n",
    "    print(f\"{type(e).__name__}: {e}\")"
   ]
  },
  {
   "cell_type": "code",
   "execution_count": 25,
   "id": "fde8602e",
   "metadata": {},
   "outputs": [],
   "source": [
    "# Here is a possible fix to this issue for oseries\n",
    "series.dropna()                             # simply drop the nan-values\n",
    "\n",
    "# Here is a possible fix to this issue for stresses\n",
    "series = series.fillna(series.mean())       # For example for water levels\n",
    "series = series.fillna(0.0)                 # For example for precipitation\n",
    "series = series.interpolate(method=\"time\")  # For example for evaporation"
   ]
  },
  {
   "cell_type": "markdown",
   "id": "1ee239c0",
   "metadata": {},
   "source": [
    "## 2. If a stress time series has non-equidistant time steps\n"
   ]
  },
  {
   "cell_type": "code",
   "execution_count": 27,
   "id": "1ada41d4",
   "metadata": {},
   "outputs": [
    {
     "name": "stderr",
     "output_type": "stream",
     "text": [
      "ERROR: The frequency of the index of time series Stress could not be inferred. Please provide a time series with a regular time step.\n"
     ]
    },
    {
     "name": "stdout",
     "output_type": "stream",
     "text": [
      "ValueError: The frequency of the index of time series Stress could not be inferred. Please provide a time series with a regular time step.\n"
     ]
    }
   ],
   "source": [
    "# Create timeseries\n",
    "freq = \"6H\"\n",
    "idx0 = pd.date_range(\"2000-01-01\", freq=freq, periods=7).tolist()\n",
    "idx0[0] = pd.Timestamp(\"2000-01-01 04:00:00\")\n",
    "idx0[-1] = pd.Timestamp(\"2000-01-02 11:00:00\")\n",
    "series = pd.Series(index=idx0, data=np.arange(len(idx0), dtype=float), name=\"Stress\")\n",
    "\n",
    "# Here's error message return by Pastas\n",
    "try: \n",
    "    ps.validate_stress(series)\n",
    "except Exception as e:\n",
    "    print(f\"{type(e).__name__}: {e}\")"
   ]
  },
  {
   "cell_type": "markdown",
   "id": "cd8b4b3e",
   "metadata": {},
   "source": [
    "We define 3 pandas methods for resampling to an equidistant timeseries. \n",
    "\n",
    "1. The first takes a sample at equidistant timesteps from the original series, at the user-specified frequency.\n",
    "2. The second creates a new equidistant index, rounded to the user-specified frequency. Then `Series.reindex()` is used with `method=\"nearest\"`.\n",
    "2. The third method rounds the series index down to the nearest user-specified frequency, then drops the duplicates before calling `Series.asfreq` with the user-specified frequency. This ensures no duplicates are in the resulting timeseries.\n",
    "\n",
    "Pastas contains the function `pastas.utils.get_equidistant_timeseries()` which does something similar, but attempts to minimize the number of dropped points and ensures that each observation from the original timeseries is used only once in the resulting equidistant timeseries.\n",
    "\n",
    "\n",
    "_**Note:** in terms of performance the pandas methods are undoubtedly faster._"
   ]
  },
  {
   "cell_type": "code",
   "execution_count": 28,
   "id": "32c29d59",
   "metadata": {},
   "outputs": [],
   "source": [
    "def pandas_sample(series, freq):\n",
    "    series = series.copy()\n",
    "    t_offset = ps.utils._get_time_offset(series.index, freq).value_counts().idxmax()\n",
    "    new_idx = pd.date_range(\n",
    "        series.index[0].floor(freq) + t_offset,\n",
    "        series.index[-1].floor(freq) + t_offset,\n",
    "        freq=freq,\n",
    "    )\n",
    "    return series.reindex(new_idx)\n",
    "\n",
    "\n",
    "def pandas_nearest(series, freq, tolerance=None):\n",
    "    series = series.copy()\n",
    "    # Create equidistant timeseries with Pandas\n",
    "    idx = pd.date_range(\n",
    "        series.index[0].floor(freq), series.index[-1].ceil(freq), freq=freq\n",
    "    )\n",
    "    spandas = series.reindex(idx, method=\"nearest\", tolerance=tolerance)\n",
    "    return spandas\n",
    "\n",
    "\n",
    "def pandas_asfreq(series, freq):\n",
    "    # Create equidistant timeseries with most frequent samples\n",
    "    series = series.copy()\n",
    "    series.index = series.index.floor(freq)\n",
    "    spandas = (\n",
    "        series.reset_index()\n",
    "        .drop_duplicates(subset=\"index\", keep=\"first\", inplace=False)\n",
    "        .set_index(\"index\")\n",
    "        .asfreq(freq)\n",
    "        .squeeze()\n",
    "    )\n",
    "    return spandas"
   ]
  },
  {
   "cell_type": "markdown",
   "id": "b5698c04",
   "metadata": {},
   "source": [
    "# Example 1\n",
    "\n",
    "Lets create a timeseries spaced which is normally spaced with a frequency of 6 hours. The first and last measurement are shifted a bit later and earlier respectively. The two method compared here are the new function in Pastas and the Pandas reindex function."
   ]
  },
  {
   "cell_type": "code",
   "execution_count": 29,
   "id": "7e1b552d",
   "metadata": {},
   "outputs": [
    {
     "data": {
      "image/png": "[encoded data removed]",
      "text/plain": [
       "<Figure size 720x288 with 1 Axes>"
      ]
     },
     "metadata": {
      "needs_background": "light"
     },
     "output_type": "display_data"
    }
   ],
   "source": [
    "# Create timeseries\n",
    "freq = \"6H\"\n",
    "idx0 = pd.date_range(\"2000-01-01\", freq=freq, periods=7).tolist()\n",
    "idx0[0] = pd.Timestamp(\"2000-01-01 04:00:00\")\n",
    "idx0[-1] = pd.Timestamp(\"2000-01-02 11:00:00\")\n",
    "series = pd.Series(index=idx0, data=np.arange(len(idx0), dtype=float))\n",
    "\n",
    "# Create equidistant timeseries with Pastas\n",
    "s_pd1 = pandas_sample(series, freq)\n",
    "s_pd2 = pandas_nearest(series, freq)\n",
    "s_pd3 = pandas_asfreq(series, freq)\n",
    "s_pastas = ps.utils.get_equidistant_series(series, freq)\n",
    "\n",
    "# Create figure\n",
    "plt.figure(figsize=(10, 4))\n",
    "ax = series.plot(\n",
    "    marker=\"o\",\n",
    "    label=\"original timeseries\",\n",
    "    ms=10,\n",
    ")\n",
    "s_pd2.plot(ax=ax, marker=\"x\", ms=8, label=\"pandas_nearest\")\n",
    "s_pd3.plot(ax=ax, marker=\"^\", ms=8, label=\"pandas_asfreq\")\n",
    "s_pd1.plot(ax=ax, marker=\"+\", ms=16, label=\"pandas_sample\")\n",
    "s_pastas.plot(ax=ax, marker=\".\", label=\"pastas equidistant\")\n",
    "ax.grid(True)\n",
    "ax.legend(loc=\"best\")\n",
    "ax.set_xlabel(\"\");"
   ]
  },
  {
   "cell_type": "markdown",
   "id": "28ef93e8",
   "metadata": {},
   "source": [
    "As we can see, both the `pandas_nearest` and `pandas_asfreq` methods and `get_equidistant_series` show the expected behavior. The data at the beginning and at the end is shifted to the nearest equidistant timestamp. The `pandas_sample` method drops 2 datapoints because they're measured at different time offsets."
   ]
  },
  {
   "cell_type": "code",
   "execution_count": 30,
   "id": "9bd555d8",
   "metadata": {},
   "outputs": [
    {
     "data": {
      "text/html": [
       "<div>\n",
       "<style scoped>\n",
       "    .dataframe tbody tr th:only-of-type {\n",
       "        vertical-align: middle;\n",
       "    }\n",
       "\n",
       "    .dataframe tbody tr th {\n",
       "        vertical-align: top;\n",
       "    }\n",
       "\n",
       "    .dataframe thead th {\n",
       "        text-align: right;\n",
       "    }\n",
       "</style>\n",
       "<table border=\"1\" class=\"dataframe\">\n",
       "  <thead>\n",
       "    <tr style=\"text-align: right;\">\n",
       "      <th></th>\n",
       "      <th>original</th>\n",
       "      <th>pandas_sample</th>\n",
       "      <th>pandas_nearest</th>\n",
       "      <th>pandas_asfreq</th>\n",
       "      <th>pastas</th>\n",
       "    </tr>\n",
       "  </thead>\n",
       "  <tbody>\n",
       "    <tr>\n",
       "      <th>2000-01-01 00:00:00</th>\n",
       "      <td>NaN</td>\n",
       "      <td>NaN</td>\n",
       "      <td>0.0</td>\n",
       "      <td>0.0</td>\n",
       "      <td>0.0</td>\n",
       "    </tr>\n",
       "    <tr>\n",
       "      <th>2000-01-01 04:00:00</th>\n",
       "      <td>0.0</td>\n",
       "      <td>NaN</td>\n",
       "      <td>NaN</td>\n",
       "      <td>NaN</td>\n",
       "      <td>NaN</td>\n",
       "    </tr>\n",
       "    <tr>\n",
       "      <th>2000-01-01 06:00:00</th>\n",
       "      <td>1.0</td>\n",
       "      <td>1.0</td>\n",
       "      <td>1.0</td>\n",
       "      <td>1.0</td>\n",
       "      <td>1.0</td>\n",
       "    </tr>\n",
       "    <tr>\n",
       "      <th>2000-01-01 12:00:00</th>\n",
       "      <td>2.0</td>\n",
       "      <td>2.0</td>\n",
       "      <td>2.0</td>\n",
       "      <td>2.0</td>\n",
       "      <td>2.0</td>\n",
       "    </tr>\n",
       "    <tr>\n",
       "      <th>2000-01-01 18:00:00</th>\n",
       "      <td>3.0</td>\n",
       "      <td>3.0</td>\n",
       "      <td>3.0</td>\n",
       "      <td>3.0</td>\n",
       "      <td>3.0</td>\n",
       "    </tr>\n",
       "    <tr>\n",
       "      <th>2000-01-02 00:00:00</th>\n",
       "      <td>4.0</td>\n",
       "      <td>4.0</td>\n",
       "      <td>4.0</td>\n",
       "      <td>4.0</td>\n",
       "      <td>4.0</td>\n",
       "    </tr>\n",
       "    <tr>\n",
       "      <th>2000-01-02 06:00:00</th>\n",
       "      <td>5.0</td>\n",
       "      <td>5.0</td>\n",
       "      <td>5.0</td>\n",
       "      <td>5.0</td>\n",
       "      <td>5.0</td>\n",
       "    </tr>\n",
       "    <tr>\n",
       "      <th>2000-01-02 11:00:00</th>\n",
       "      <td>6.0</td>\n",
       "      <td>NaN</td>\n",
       "      <td>NaN</td>\n",
       "      <td>NaN</td>\n",
       "      <td>NaN</td>\n",
       "    </tr>\n",
       "    <tr>\n",
       "      <th>2000-01-02 12:00:00</th>\n",
       "      <td>NaN</td>\n",
       "      <td>NaN</td>\n",
       "      <td>6.0</td>\n",
       "      <td>NaN</td>\n",
       "      <td>6.0</td>\n",
       "    </tr>\n",
       "  </tbody>\n",
       "</table>\n",
       "</div>"
      ],
      "text/plain": [
       "                     original  pandas_sample  pandas_nearest  pandas_asfreq  \\\n",
       "2000-01-01 00:00:00       NaN            NaN             0.0            0.0   \n",
       "2000-01-01 04:00:00       0.0            NaN             NaN            NaN   \n",
       "2000-01-01 06:00:00       1.0            1.0             1.0            1.0   \n",
       "2000-01-01 12:00:00       2.0            2.0             2.0            2.0   \n",
       "2000-01-01 18:00:00       3.0            3.0             3.0            3.0   \n",
       "2000-01-02 00:00:00       4.0            4.0             4.0            4.0   \n",
       "2000-01-02 06:00:00       5.0            5.0             5.0            5.0   \n",
       "2000-01-02 11:00:00       6.0            NaN             NaN            NaN   \n",
       "2000-01-02 12:00:00       NaN            NaN             6.0            NaN   \n",
       "\n",
       "                     pastas  \n",
       "2000-01-01 00:00:00     0.0  \n",
       "2000-01-01 04:00:00     NaN  \n",
       "2000-01-01 06:00:00     1.0  \n",
       "2000-01-01 12:00:00     2.0  \n",
       "2000-01-01 18:00:00     3.0  \n",
       "2000-01-02 00:00:00     4.0  \n",
       "2000-01-02 06:00:00     5.0  \n",
       "2000-01-02 11:00:00     NaN  \n",
       "2000-01-02 12:00:00     6.0  "
      ]
     },
     "execution_count": 30,
     "metadata": {},
     "output_type": "execute_result"
    }
   ],
   "source": [
    "dfall = pd.concat([series, s_pd1, s_pd2, s_pd3, s_pastas], axis=1)\n",
    "dfall.columns = [\n",
    "    \"original\",\n",
    "    \"pandas_sample\",\n",
    "    \"pandas_nearest\",\n",
    "    \"pandas_asfreq\",\n",
    "    \"pastas\",\n",
    "]\n",
    "dfall"
   ]
  },
  {
   "cell_type": "markdown",
   "id": "a2157590",
   "metadata": {},
   "source": [
    "### Example 2"
   ]
  },
  {
   "cell_type": "code",
   "execution_count": 31,
   "id": "a07ec7a1",
   "metadata": {},
   "outputs": [
    {
     "data": {
      "image/png": "[encoded data removed]",
      "text/plain": [
       "<Figure size 720x288 with 1 Axes>"
      ]
     },
     "metadata": {
      "needs_background": "light"
     },
     "output_type": "display_data"
    }
   ],
   "source": [
    "# Create timeseries\n",
    "freq = \"D\"\n",
    "idx0 = pd.date_range(\"2000-01-01\", freq=freq, periods=7).tolist()\n",
    "idx0[0] = pd.Timestamp(\"2000-01-01 09:00:00\")\n",
    "del idx0[2]\n",
    "del idx0[2]\n",
    "idx0[-2] = pd.Timestamp(\"2000-01-06 13:00:00\")\n",
    "idx0[-1] = pd.Timestamp(\"2000-01-06 23:00:00\")\n",
    "series = pd.Series(index=idx0, data=np.arange(len(idx0), dtype=float))\n",
    "\n",
    "# Create equidistant timeseries\n",
    "s_pd1 = pandas_sample(series, freq)\n",
    "s_pd2 = pandas_nearest(series, freq)\n",
    "s_pd3 = pandas_asfreq(series, freq)\n",
    "s_pastas = ps.utils.get_equidistant_series(series, freq)\n",
    "\n",
    "# Create figure\n",
    "plt.figure(figsize=(10, 4))\n",
    "ax = series.plot(marker=\"o\", label=\"original\", ms=10)\n",
    "s_pd2.plot(ax=ax, marker=\"x\", ms=10, label=\"pandas nearest\")\n",
    "s_pd3.plot(ax=ax, marker=\"^\", ms=8, label=\"pandas asfreq\")\n",
    "s_pd1.plot(ax=ax, marker=\"+\", ms=16, label=\"pandas sample\")\n",
    "s_pastas.plot(ax=ax, marker=\".\", label=\"equidistant\")\n",
    "ax.grid(True)\n",
    "ax.legend(loc=\"best\")\n",
    "ax.set_xlabel(\"\");"
   ]
  },
  {
   "cell_type": "markdown",
   "id": "7edda080",
   "metadata": {},
   "source": [
    "In this example, the shortcomings of `pandas_nearest` are clearly visible. It duplicates observations from the original timeseries to fill the gaps. This can be solved by passing e.g. `tolerance=\"0.99{freq}\"` to `series.reindex()` in which case the gaps will not be filled. However, with very irregular timesteps this is not guaranteed to work and duplicates may still occur. The `pandas_asfreq` and pastas methods work as expected and use the available data to create a reasonable equidistant timeseries from the original data. The `pandas_sample` method is only able to keep two observations from the original series in this example."
   ]
  },
  {
   "cell_type": "code",
   "execution_count": 32,
   "id": "3cf2d63f",
   "metadata": {},
   "outputs": [
    {
     "data": {
      "text/html": [
       "<div>\n",
       "<style scoped>\n",
       "    .dataframe tbody tr th:only-of-type {\n",
       "        vertical-align: middle;\n",
       "    }\n",
       "\n",
       "    .dataframe tbody tr th {\n",
       "        vertical-align: top;\n",
       "    }\n",
       "\n",
       "    .dataframe thead th {\n",
       "        text-align: right;\n",
       "    }\n",
       "</style>\n",
       "<table border=\"1\" class=\"dataframe\">\n",
       "  <thead>\n",
       "    <tr style=\"text-align: right;\">\n",
       "      <th></th>\n",
       "      <th>original</th>\n",
       "      <th>pandas_sample</th>\n",
       "      <th>pandas_nearest</th>\n",
       "      <th>pandas_asfreq</th>\n",
       "      <th>pastas</th>\n",
       "    </tr>\n",
       "  </thead>\n",
       "  <tbody>\n",
       "    <tr>\n",
       "      <th>2000-01-01 00:00:00</th>\n",
       "      <td>NaN</td>\n",
       "      <td>NaN</td>\n",
       "      <td>0.0</td>\n",
       "      <td>0.0</td>\n",
       "      <td>0.0</td>\n",
       "    </tr>\n",
       "    <tr>\n",
       "      <th>2000-01-01 09:00:00</th>\n",
       "      <td>0.0</td>\n",
       "      <td>NaN</td>\n",
       "      <td>NaN</td>\n",
       "      <td>NaN</td>\n",
       "      <td>NaN</td>\n",
       "    </tr>\n",
       "    <tr>\n",
       "      <th>2000-01-02 00:00:00</th>\n",
       "      <td>1.0</td>\n",
       "      <td>1.0</td>\n",
       "      <td>1.0</td>\n",
       "      <td>1.0</td>\n",
       "      <td>1.0</td>\n",
       "    </tr>\n",
       "    <tr>\n",
       "      <th>2000-01-03 00:00:00</th>\n",
       "      <td>NaN</td>\n",
       "      <td>NaN</td>\n",
       "      <td>1.0</td>\n",
       "      <td>NaN</td>\n",
       "      <td>NaN</td>\n",
       "    </tr>\n",
       "    <tr>\n",
       "      <th>2000-01-04 00:00:00</th>\n",
       "      <td>NaN</td>\n",
       "      <td>NaN</td>\n",
       "      <td>2.0</td>\n",
       "      <td>NaN</td>\n",
       "      <td>NaN</td>\n",
       "    </tr>\n",
       "    <tr>\n",
       "      <th>2000-01-05 00:00:00</th>\n",
       "      <td>2.0</td>\n",
       "      <td>2.0</td>\n",
       "      <td>2.0</td>\n",
       "      <td>2.0</td>\n",
       "      <td>2.0</td>\n",
       "    </tr>\n",
       "    <tr>\n",
       "      <th>2000-01-06 00:00:00</th>\n",
       "      <td>NaN</td>\n",
       "      <td>NaN</td>\n",
       "      <td>3.0</td>\n",
       "      <td>3.0</td>\n",
       "      <td>3.0</td>\n",
       "    </tr>\n",
       "    <tr>\n",
       "      <th>2000-01-06 13:00:00</th>\n",
       "      <td>3.0</td>\n",
       "      <td>NaN</td>\n",
       "      <td>NaN</td>\n",
       "      <td>NaN</td>\n",
       "      <td>NaN</td>\n",
       "    </tr>\n",
       "    <tr>\n",
       "      <th>2000-01-06 23:00:00</th>\n",
       "      <td>4.0</td>\n",
       "      <td>NaN</td>\n",
       "      <td>NaN</td>\n",
       "      <td>NaN</td>\n",
       "      <td>NaN</td>\n",
       "    </tr>\n",
       "    <tr>\n",
       "      <th>2000-01-07 00:00:00</th>\n",
       "      <td>NaN</td>\n",
       "      <td>NaN</td>\n",
       "      <td>4.0</td>\n",
       "      <td>NaN</td>\n",
       "      <td>4.0</td>\n",
       "    </tr>\n",
       "  </tbody>\n",
       "</table>\n",
       "</div>"
      ],
      "text/plain": [
       "                     original  pandas_sample  pandas_nearest  pandas_asfreq  \\\n",
       "2000-01-01 00:00:00       NaN            NaN             0.0            0.0   \n",
       "2000-01-01 09:00:00       0.0            NaN             NaN            NaN   \n",
       "2000-01-02 00:00:00       1.0            1.0             1.0            1.0   \n",
       "2000-01-03 00:00:00       NaN            NaN             1.0            NaN   \n",
       "2000-01-04 00:00:00       NaN            NaN             2.0            NaN   \n",
       "2000-01-05 00:00:00       2.0            2.0             2.0            2.0   \n",
       "2000-01-06 00:00:00       NaN            NaN             3.0            3.0   \n",
       "2000-01-06 13:00:00       3.0            NaN             NaN            NaN   \n",
       "2000-01-06 23:00:00       4.0            NaN             NaN            NaN   \n",
       "2000-01-07 00:00:00       NaN            NaN             4.0            NaN   \n",
       "\n",
       "                     pastas  \n",
       "2000-01-01 00:00:00     0.0  \n",
       "2000-01-01 09:00:00     NaN  \n",
       "2000-01-02 00:00:00     1.0  \n",
       "2000-01-03 00:00:00     NaN  \n",
       "2000-01-04 00:00:00     NaN  \n",
       "2000-01-05 00:00:00     2.0  \n",
       "2000-01-06 00:00:00     3.0  \n",
       "2000-01-06 13:00:00     NaN  \n",
       "2000-01-06 23:00:00     NaN  \n",
       "2000-01-07 00:00:00     4.0  "
      ]
     },
     "execution_count": 32,
     "metadata": {},
     "output_type": "execute_result"
    }
   ],
   "source": [
    "dfall = pd.concat([series, s_pd1, s_pd2, s_pd3, s_pastas], axis=1)\n",
    "dfall.columns = [\n",
    "    \"original\",\n",
    "    \"pandas_sample\",\n",
    "    \"pandas_nearest\",\n",
    "    \"pandas_asfreq\",\n",
    "    \"pastas\",\n",
    "]\n",
    "dfall"
   ]
  },
  {
   "cell_type": "markdown",
   "id": "3bf2680d",
   "metadata": {},
   "source": [
    "### Example 3"
   ]
  },
  {
   "cell_type": "code",
   "execution_count": 33,
   "id": "3f2aec36",
   "metadata": {},
   "outputs": [
    {
     "data": {
      "image/png": "[encoded data removed]",
      "text/plain": [
       "<Figure size 720x432 with 1 Axes>"
      ]
     },
     "metadata": {
      "needs_background": "light"
     },
     "output_type": "display_data"
    }
   ],
   "source": [
    "# Create timeseries\n",
    "freq = \"2H\"\n",
    "freq2 = \"1H\"\n",
    "idx0 = pd.date_range(\"2000-01-01 18:00:00\", freq=freq, periods=3).tolist()\n",
    "idx1 = pd.date_range(\"2000-01-02 01:30:00\", freq=freq2, periods=10).tolist()\n",
    "idx0 = idx0 + idx1\n",
    "idx0[3] = pd.Timestamp(\"2000-01-02 01:31:00\")\n",
    "series = pd.Series(index=idx0, data=np.arange(len(idx0), dtype=float))\n",
    "series.iloc[8:10] = np.nan\n",
    "\n",
    "\n",
    "# Create equidistant timeseries\n",
    "s_pd1 = pandas_sample(series, freq)\n",
    "s_pd2 = pandas_nearest(series, freq)\n",
    "s_pd3 = pandas_asfreq(series, freq)\n",
    "s_pastas1 = ps.utils.get_equidistant_series(series, freq, minimize_data_loss=True)\n",
    "s_pastas2 = ps.utils.get_equidistant_series(series, freq, minimize_data_loss=False)\n",
    "\n",
    "\n",
    "# Create figure\n",
    "plt.figure(figsize=(10, 6))\n",
    "ax = series.plot(marker=\"o\", label=\"original\", ms=10)\n",
    "s_pd2.plot(ax=ax, marker=\"x\", ms=10, label=\"pandas nearest\")\n",
    "s_pd3.plot(ax=ax, marker=\"^\", ms=8, label=\"pandas asfreq\")\n",
    "s_pd1.plot(ax=ax, marker=\"+\", ms=16, label=\"pandas sample\")\n",
    "s_pastas1.plot(ax=ax, marker=\".\", ms=6, label=\"equidistant (minimize data loss)\")\n",
    "s_pastas2.plot(ax=ax, marker=\"+\", ms=10, label=\"equidistant (default)\")\n",
    "ax.grid(True)\n",
    "ax.legend(loc=\"best\")\n",
    "ax.set_xlabel(\"\");"
   ]
  },
  {
   "cell_type": "markdown",
   "id": "11e6d379",
   "metadata": {},
   "source": [
    "In this example we can observe the following behavior in each method:\n",
    "- `pandas_sample` retains 4 values.\n",
    "- `pandas_nearest` duplicates some observations in the equidistant timeseries.\n",
    "- `pandas_asfreq` does quite well, but drops some observations near the gap in the original timeseries.\n",
    "- the pastas method with the default option misses an observation right after the gap in the original timeseries.\n",
    "- the pastas method with `minimize_data_loss=True` fills this gap, using as much data as possible from the original timeseries.\n",
    "\n",
    "The results from the `pandas_asfreq` and pastas method are both good, but the pastas methods retains more of the original data."
   ]
  },
  {
   "cell_type": "code",
   "execution_count": 34,
   "id": "6bb4c521",
   "metadata": {},
   "outputs": [
    {
     "data": {
      "text/html": [
       "<div>\n",
       "<style scoped>\n",
       "    .dataframe tbody tr th:only-of-type {\n",
       "        vertical-align: middle;\n",
       "    }\n",
       "\n",
       "    .dataframe tbody tr th {\n",
       "        vertical-align: top;\n",
       "    }\n",
       "\n",
       "    .dataframe thead th {\n",
       "        text-align: right;\n",
       "    }\n",
       "</style>\n",
       "<table border=\"1\" class=\"dataframe\">\n",
       "  <thead>\n",
       "    <tr style=\"text-align: right;\">\n",
       "      <th></th>\n",
       "      <th>original</th>\n",
       "      <th>pandas_sample</th>\n",
       "      <th>pandas_nearest</th>\n",
       "      <th>pandas_asfreq</th>\n",
       "      <th>pastas (default)</th>\n",
       "      <th>pastas (minimize data loss)</th>\n",
       "    </tr>\n",
       "  </thead>\n",
       "  <tbody>\n",
       "    <tr>\n",
       "      <th>2000-01-01 18:00:00</th>\n",
       "      <td>0.0</td>\n",
       "      <td>NaN</td>\n",
       "      <td>0.0</td>\n",
       "      <td>0.0</td>\n",
       "      <td>0.0</td>\n",
       "      <td>0.0</td>\n",
       "    </tr>\n",
       "    <tr>\n",
       "      <th>2000-01-01 18:30:00</th>\n",
       "      <td>NaN</td>\n",
       "      <td>NaN</td>\n",
       "      <td>NaN</td>\n",
       "      <td>NaN</td>\n",
       "      <td>NaN</td>\n",
       "      <td>NaN</td>\n",
       "    </tr>\n",
       "    <tr>\n",
       "      <th>2000-01-01 20:00:00</th>\n",
       "      <td>1.0</td>\n",
       "      <td>NaN</td>\n",
       "      <td>1.0</td>\n",
       "      <td>1.0</td>\n",
       "      <td>1.0</td>\n",
       "      <td>1.0</td>\n",
       "    </tr>\n",
       "    <tr>\n",
       "      <th>2000-01-01 20:30:00</th>\n",
       "      <td>NaN</td>\n",
       "      <td>NaN</td>\n",
       "      <td>NaN</td>\n",
       "      <td>NaN</td>\n",
       "      <td>NaN</td>\n",
       "      <td>NaN</td>\n",
       "    </tr>\n",
       "    <tr>\n",
       "      <th>2000-01-01 22:00:00</th>\n",
       "      <td>2.0</td>\n",
       "      <td>NaN</td>\n",
       "      <td>2.0</td>\n",
       "      <td>2.0</td>\n",
       "      <td>2.0</td>\n",
       "      <td>2.0</td>\n",
       "    </tr>\n",
       "    <tr>\n",
       "      <th>2000-01-01 22:30:00</th>\n",
       "      <td>NaN</td>\n",
       "      <td>NaN</td>\n",
       "      <td>NaN</td>\n",
       "      <td>NaN</td>\n",
       "      <td>NaN</td>\n",
       "      <td>NaN</td>\n",
       "    </tr>\n",
       "    <tr>\n",
       "      <th>2000-01-02 00:00:00</th>\n",
       "      <td>NaN</td>\n",
       "      <td>NaN</td>\n",
       "      <td>3.0</td>\n",
       "      <td>3.0</td>\n",
       "      <td>3.0</td>\n",
       "      <td>3.0</td>\n",
       "    </tr>\n",
       "    <tr>\n",
       "      <th>2000-01-02 00:30:00</th>\n",
       "      <td>NaN</td>\n",
       "      <td>NaN</td>\n",
       "      <td>NaN</td>\n",
       "      <td>NaN</td>\n",
       "      <td>NaN</td>\n",
       "      <td>NaN</td>\n",
       "    </tr>\n",
       "    <tr>\n",
       "      <th>2000-01-02 01:31:00</th>\n",
       "      <td>3.0</td>\n",
       "      <td>NaN</td>\n",
       "      <td>NaN</td>\n",
       "      <td>NaN</td>\n",
       "      <td>NaN</td>\n",
       "      <td>NaN</td>\n",
       "    </tr>\n",
       "    <tr>\n",
       "      <th>2000-01-02 02:00:00</th>\n",
       "      <td>NaN</td>\n",
       "      <td>NaN</td>\n",
       "      <td>3.0</td>\n",
       "      <td>4.0</td>\n",
       "      <td>NaN</td>\n",
       "      <td>4.0</td>\n",
       "    </tr>\n",
       "    <tr>\n",
       "      <th>2000-01-02 02:30:00</th>\n",
       "      <td>4.0</td>\n",
       "      <td>4.0</td>\n",
       "      <td>NaN</td>\n",
       "      <td>NaN</td>\n",
       "      <td>NaN</td>\n",
       "      <td>NaN</td>\n",
       "    </tr>\n",
       "    <tr>\n",
       "      <th>2000-01-02 03:30:00</th>\n",
       "      <td>5.0</td>\n",
       "      <td>NaN</td>\n",
       "      <td>NaN</td>\n",
       "      <td>NaN</td>\n",
       "      <td>NaN</td>\n",
       "      <td>NaN</td>\n",
       "    </tr>\n",
       "    <tr>\n",
       "      <th>2000-01-02 04:00:00</th>\n",
       "      <td>NaN</td>\n",
       "      <td>NaN</td>\n",
       "      <td>6.0</td>\n",
       "      <td>6.0</td>\n",
       "      <td>5.0</td>\n",
       "      <td>5.0</td>\n",
       "    </tr>\n",
       "    <tr>\n",
       "      <th>2000-01-02 04:30:00</th>\n",
       "      <td>6.0</td>\n",
       "      <td>6.0</td>\n",
       "      <td>NaN</td>\n",
       "      <td>NaN</td>\n",
       "      <td>NaN</td>\n",
       "      <td>NaN</td>\n",
       "    </tr>\n",
       "    <tr>\n",
       "      <th>2000-01-02 05:30:00</th>\n",
       "      <td>7.0</td>\n",
       "      <td>NaN</td>\n",
       "      <td>NaN</td>\n",
       "      <td>NaN</td>\n",
       "      <td>NaN</td>\n",
       "      <td>NaN</td>\n",
       "    </tr>\n",
       "    <tr>\n",
       "      <th>2000-01-02 06:00:00</th>\n",
       "      <td>NaN</td>\n",
       "      <td>NaN</td>\n",
       "      <td>NaN</td>\n",
       "      <td>NaN</td>\n",
       "      <td>7.0</td>\n",
       "      <td>7.0</td>\n",
       "    </tr>\n",
       "    <tr>\n",
       "      <th>2000-01-02 06:30:00</th>\n",
       "      <td>NaN</td>\n",
       "      <td>NaN</td>\n",
       "      <td>NaN</td>\n",
       "      <td>NaN</td>\n",
       "      <td>NaN</td>\n",
       "      <td>NaN</td>\n",
       "    </tr>\n",
       "    <tr>\n",
       "      <th>2000-01-02 07:30:00</th>\n",
       "      <td>NaN</td>\n",
       "      <td>NaN</td>\n",
       "      <td>NaN</td>\n",
       "      <td>NaN</td>\n",
       "      <td>NaN</td>\n",
       "      <td>NaN</td>\n",
       "    </tr>\n",
       "    <tr>\n",
       "      <th>2000-01-02 08:00:00</th>\n",
       "      <td>NaN</td>\n",
       "      <td>NaN</td>\n",
       "      <td>10.0</td>\n",
       "      <td>10.0</td>\n",
       "      <td>NaN</td>\n",
       "      <td>10.0</td>\n",
       "    </tr>\n",
       "    <tr>\n",
       "      <th>2000-01-02 08:30:00</th>\n",
       "      <td>10.0</td>\n",
       "      <td>10.0</td>\n",
       "      <td>NaN</td>\n",
       "      <td>NaN</td>\n",
       "      <td>NaN</td>\n",
       "      <td>NaN</td>\n",
       "    </tr>\n",
       "    <tr>\n",
       "      <th>2000-01-02 09:30:00</th>\n",
       "      <td>11.0</td>\n",
       "      <td>NaN</td>\n",
       "      <td>NaN</td>\n",
       "      <td>NaN</td>\n",
       "      <td>NaN</td>\n",
       "      <td>NaN</td>\n",
       "    </tr>\n",
       "    <tr>\n",
       "      <th>2000-01-02 10:00:00</th>\n",
       "      <td>NaN</td>\n",
       "      <td>NaN</td>\n",
       "      <td>12.0</td>\n",
       "      <td>12.0</td>\n",
       "      <td>11.0</td>\n",
       "      <td>11.0</td>\n",
       "    </tr>\n",
       "    <tr>\n",
       "      <th>2000-01-02 10:30:00</th>\n",
       "      <td>12.0</td>\n",
       "      <td>12.0</td>\n",
       "      <td>NaN</td>\n",
       "      <td>NaN</td>\n",
       "      <td>NaN</td>\n",
       "      <td>NaN</td>\n",
       "    </tr>\n",
       "    <tr>\n",
       "      <th>2000-01-02 12:00:00</th>\n",
       "      <td>NaN</td>\n",
       "      <td>NaN</td>\n",
       "      <td>12.0</td>\n",
       "      <td>NaN</td>\n",
       "      <td>12.0</td>\n",
       "      <td>12.0</td>\n",
       "    </tr>\n",
       "  </tbody>\n",
       "</table>\n",
       "</div>"
      ],
      "text/plain": [
       "                     original  pandas_sample  pandas_nearest  pandas_asfreq  \\\n",
       "2000-01-01 18:00:00       0.0            NaN             0.0            0.0   \n",
       "2000-01-01 18:30:00       NaN            NaN             NaN            NaN   \n",
       "2000-01-01 20:00:00       1.0            NaN             1.0            1.0   \n",
       "2000-01-01 20:30:00       NaN            NaN             NaN            NaN   \n",
       "2000-01-01 22:00:00       2.0            NaN             2.0            2.0   \n",
       "2000-01-01 22:30:00       NaN            NaN             NaN            NaN   \n",
       "2000-01-02 00:00:00       NaN            NaN             3.0            3.0   \n",
       "2000-01-02 00:30:00       NaN            NaN             NaN            NaN   \n",
       "2000-01-02 01:31:00       3.0            NaN             NaN            NaN   \n",
       "2000-01-02 02:00:00       NaN            NaN             3.0            4.0   \n",
       "2000-01-02 02:30:00       4.0            4.0             NaN            NaN   \n",
       "2000-01-02 03:30:00       5.0            NaN             NaN            NaN   \n",
       "2000-01-02 04:00:00       NaN            NaN             6.0            6.0   \n",
       "2000-01-02 04:30:00       6.0            6.0             NaN            NaN   \n",
       "2000-01-02 05:30:00       7.0            NaN             NaN            NaN   \n",
       "2000-01-02 06:00:00       NaN            NaN             NaN            NaN   \n",
       "2000-01-02 06:30:00       NaN            NaN             NaN            NaN   \n",
       "2000-01-02 07:30:00       NaN            NaN             NaN            NaN   \n",
       "2000-01-02 08:00:00       NaN            NaN            10.0           10.0   \n",
       "2000-01-02 08:30:00      10.0           10.0             NaN            NaN   \n",
       "2000-01-02 09:30:00      11.0            NaN             NaN            NaN   \n",
       "2000-01-02 10:00:00       NaN            NaN            12.0           12.0   \n",
       "2000-01-02 10:30:00      12.0           12.0             NaN            NaN   \n",
       "2000-01-02 12:00:00       NaN            NaN            12.0            NaN   \n",
       "\n",
       "                     pastas (default)  pastas (minimize data loss)  \n",
       "2000-01-01 18:00:00               0.0                          0.0  \n",
       "2000-01-01 18:30:00               NaN                          NaN  \n",
       "2000-01-01 20:00:00               1.0                          1.0  \n",
       "2000-01-01 20:30:00               NaN                          NaN  \n",
       "2000-01-01 22:00:00               2.0                          2.0  \n",
       "2000-01-01 22:30:00               NaN                          NaN  \n",
       "2000-01-02 00:00:00               3.0                          3.0  \n",
       "2000-01-02 00:30:00               NaN                          NaN  \n",
       "2000-01-02 01:31:00               NaN                          NaN  \n",
       "2000-01-02 02:00:00               NaN                          4.0  \n",
       "2000-01-02 02:30:00               NaN                          NaN  \n",
       "2000-01-02 03:30:00               NaN                          NaN  \n",
       "2000-01-02 04:00:00               5.0                          5.0  \n",
       "2000-01-02 04:30:00               NaN                          NaN  \n",
       "2000-01-02 05:30:00               NaN                          NaN  \n",
       "2000-01-02 06:00:00               7.0                          7.0  \n",
       "2000-01-02 06:30:00               NaN                          NaN  \n",
       "2000-01-02 07:30:00               NaN                          NaN  \n",
       "2000-01-02 08:00:00               NaN                         10.0  \n",
       "2000-01-02 08:30:00               NaN                          NaN  \n",
       "2000-01-02 09:30:00               NaN                          NaN  \n",
       "2000-01-02 10:00:00              11.0                         11.0  \n",
       "2000-01-02 10:30:00               NaN                          NaN  \n",
       "2000-01-02 12:00:00              12.0                         12.0  "
      ]
     },
     "execution_count": 34,
     "metadata": {},
     "output_type": "execute_result"
    }
   ],
   "source": [
    "dfall = pd.concat([series, s_pd1, s_pd2, s_pd3, s_pastas2, s_pastas1], axis=1)\n",
    "dfall.columns = [\n",
    "    \"original\",\n",
    "    \"pandas_sample\",\n",
    "    \"pandas_nearest\",\n",
    "    \"pandas_asfreq\",\n",
    "    \"pastas (default)\",\n",
    "    \"pastas (minimize data loss)\",\n",
    "]\n",
    "dfall"
   ]
  },
  {
   "cell_type": "markdown",
   "id": "ff010e31",
   "metadata": {},
   "source": [
    "### Example 4"
   ]
  },
  {
   "cell_type": "code",
   "execution_count": 35,
   "id": "d503cd41",
   "metadata": {},
   "outputs": [
    {
     "data": {
      "text/plain": [
       "Text(0.5, 0, '')"
      ]
     },
     "execution_count": 35,
     "metadata": {},
     "output_type": "execute_result"
    },
    {
     "data": {
      "image/png": "[encoded data removed]",
      "text/plain": [
       "<Figure size 720x432 with 1 Axes>"
      ]
     },
     "metadata": {
      "needs_background": "light"
     },
     "output_type": "display_data"
    }
   ],
   "source": [
    "# Create timeseries\n",
    "freq = \"2H\"\n",
    "freq2 = \"1H\"\n",
    "idx0 = pd.date_range(\"2000-01-01 18:00:00\", freq=freq, periods=3).tolist()\n",
    "idx1 = pd.date_range(\"2000-01-02 00:00:00\", freq=freq2, periods=10).tolist()\n",
    "idx0 = idx0 + idx1\n",
    "series = pd.Series(index=idx0, data=np.arange(len(idx0), dtype=float))\n",
    "series.iloc[8:10] = np.nan\n",
    "\n",
    "# Create equidistant timeseries\n",
    "s_pd1 = pandas_sample(series, freq)\n",
    "s_pd2 = pandas_nearest(series, freq)\n",
    "s_pd3 = pandas_asfreq(series, freq)\n",
    "s_pastas1 = ps.utils.get_equidistant_series(series, freq, minimize_data_loss=True)\n",
    "s_pastas2 = ps.utils.get_equidistant_series(series, freq, minimize_data_loss=False)\n",
    "\n",
    "# Create figure\n",
    "plt.figure(figsize=(10, 6))\n",
    "ax = series.plot(marker=\"o\", label=\"original\", ms=10)\n",
    "s_pd2.plot(ax=ax, marker=\"x\", ms=10, label=\"pandas nearest\")\n",
    "s_pd3.plot(ax=ax, marker=\"^\", ms=8, label=\"pandas asfreq\")\n",
    "s_pd1.plot(ax=ax, marker=\"+\", ms=16, label=\"pandas sample\")\n",
    "s_pastas1.plot(ax=ax, marker=\".\", ms=6, label=\"equidistant (minimize data loss)\")\n",
    "s_pastas2.plot(ax=ax, marker=\"+\", ms=10, label=\"equidistant (default)\")\n",
    "ax.grid(True)\n",
    "ax.legend(loc=\"best\")\n",
    "ax.set_xlabel(\"\");"
   ]
  },
  {
   "cell_type": "markdown",
   "id": "0194b906",
   "metadata": {},
   "source": [
    "Similar to the previous example, the pastas method retains the most data from the original timeseries. In this case both pandas methods perform well, but do omit some of the original data at the end of the timeseries or near the gap in the original timeseries."
   ]
  },
  {
   "cell_type": "code",
   "execution_count": 36,
   "id": "4493ee9b",
   "metadata": {},
   "outputs": [
    {
     "data": {
      "text/html": [
       "<div>\n",
       "<style scoped>\n",
       "    .dataframe tbody tr th:only-of-type {\n",
       "        vertical-align: middle;\n",
       "    }\n",
       "\n",
       "    .dataframe tbody tr th {\n",
       "        vertical-align: top;\n",
       "    }\n",
       "\n",
       "    .dataframe thead th {\n",
       "        text-align: right;\n",
       "    }\n",
       "</style>\n",
       "<table border=\"1\" class=\"dataframe\">\n",
       "  <thead>\n",
       "    <tr style=\"text-align: right;\">\n",
       "      <th></th>\n",
       "      <th>original</th>\n",
       "      <th>pandas_sample</th>\n",
       "      <th>pandas_nearest</th>\n",
       "      <th>pandas_asfreq</th>\n",
       "      <th>pastas (default)</th>\n",
       "      <th>pastas (minimize data loss)</th>\n",
       "    </tr>\n",
       "  </thead>\n",
       "  <tbody>\n",
       "    <tr>\n",
       "      <th>2000-01-01 18:00:00</th>\n",
       "      <td>0.0</td>\n",
       "      <td>0.0</td>\n",
       "      <td>0.0</td>\n",
       "      <td>0.0</td>\n",
       "      <td>0.0</td>\n",
       "      <td>0.0</td>\n",
       "    </tr>\n",
       "    <tr>\n",
       "      <th>2000-01-01 20:00:00</th>\n",
       "      <td>1.0</td>\n",
       "      <td>1.0</td>\n",
       "      <td>1.0</td>\n",
       "      <td>1.0</td>\n",
       "      <td>1.0</td>\n",
       "      <td>1.0</td>\n",
       "    </tr>\n",
       "    <tr>\n",
       "      <th>2000-01-01 22:00:00</th>\n",
       "      <td>2.0</td>\n",
       "      <td>2.0</td>\n",
       "      <td>2.0</td>\n",
       "      <td>2.0</td>\n",
       "      <td>2.0</td>\n",
       "      <td>2.0</td>\n",
       "    </tr>\n",
       "    <tr>\n",
       "      <th>2000-01-02 00:00:00</th>\n",
       "      <td>3.0</td>\n",
       "      <td>3.0</td>\n",
       "      <td>3.0</td>\n",
       "      <td>3.0</td>\n",
       "      <td>3.0</td>\n",
       "      <td>3.0</td>\n",
       "    </tr>\n",
       "    <tr>\n",
       "      <th>2000-01-02 01:00:00</th>\n",
       "      <td>4.0</td>\n",
       "      <td>NaN</td>\n",
       "      <td>NaN</td>\n",
       "      <td>NaN</td>\n",
       "      <td>NaN</td>\n",
       "      <td>NaN</td>\n",
       "    </tr>\n",
       "    <tr>\n",
       "      <th>2000-01-02 02:00:00</th>\n",
       "      <td>5.0</td>\n",
       "      <td>5.0</td>\n",
       "      <td>5.0</td>\n",
       "      <td>5.0</td>\n",
       "      <td>5.0</td>\n",
       "      <td>5.0</td>\n",
       "    </tr>\n",
       "    <tr>\n",
       "      <th>2000-01-02 03:00:00</th>\n",
       "      <td>6.0</td>\n",
       "      <td>NaN</td>\n",
       "      <td>NaN</td>\n",
       "      <td>NaN</td>\n",
       "      <td>NaN</td>\n",
       "      <td>NaN</td>\n",
       "    </tr>\n",
       "    <tr>\n",
       "      <th>2000-01-02 04:00:00</th>\n",
       "      <td>7.0</td>\n",
       "      <td>7.0</td>\n",
       "      <td>7.0</td>\n",
       "      <td>7.0</td>\n",
       "      <td>7.0</td>\n",
       "      <td>7.0</td>\n",
       "    </tr>\n",
       "    <tr>\n",
       "      <th>2000-01-02 05:00:00</th>\n",
       "      <td>NaN</td>\n",
       "      <td>NaN</td>\n",
       "      <td>NaN</td>\n",
       "      <td>NaN</td>\n",
       "      <td>NaN</td>\n",
       "      <td>NaN</td>\n",
       "    </tr>\n",
       "    <tr>\n",
       "      <th>2000-01-02 06:00:00</th>\n",
       "      <td>NaN</td>\n",
       "      <td>NaN</td>\n",
       "      <td>NaN</td>\n",
       "      <td>NaN</td>\n",
       "      <td>NaN</td>\n",
       "      <td>10.0</td>\n",
       "    </tr>\n",
       "    <tr>\n",
       "      <th>2000-01-02 07:00:00</th>\n",
       "      <td>10.0</td>\n",
       "      <td>NaN</td>\n",
       "      <td>NaN</td>\n",
       "      <td>NaN</td>\n",
       "      <td>NaN</td>\n",
       "      <td>NaN</td>\n",
       "    </tr>\n",
       "    <tr>\n",
       "      <th>2000-01-02 08:00:00</th>\n",
       "      <td>11.0</td>\n",
       "      <td>11.0</td>\n",
       "      <td>11.0</td>\n",
       "      <td>11.0</td>\n",
       "      <td>11.0</td>\n",
       "      <td>11.0</td>\n",
       "    </tr>\n",
       "    <tr>\n",
       "      <th>2000-01-02 09:00:00</th>\n",
       "      <td>12.0</td>\n",
       "      <td>NaN</td>\n",
       "      <td>NaN</td>\n",
       "      <td>NaN</td>\n",
       "      <td>NaN</td>\n",
       "      <td>NaN</td>\n",
       "    </tr>\n",
       "    <tr>\n",
       "      <th>2000-01-02 10:00:00</th>\n",
       "      <td>NaN</td>\n",
       "      <td>NaN</td>\n",
       "      <td>12.0</td>\n",
       "      <td>NaN</td>\n",
       "      <td>12.0</td>\n",
       "      <td>12.0</td>\n",
       "    </tr>\n",
       "  </tbody>\n",
       "</table>\n",
       "</div>"
      ],
      "text/plain": [
       "                     original  pandas_sample  pandas_nearest  pandas_asfreq  \\\n",
       "2000-01-01 18:00:00       0.0            0.0             0.0            0.0   \n",
       "2000-01-01 20:00:00       1.0            1.0             1.0            1.0   \n",
       "2000-01-01 22:00:00       2.0            2.0             2.0            2.0   \n",
       "2000-01-02 00:00:00       3.0            3.0             3.0            3.0   \n",
       "2000-01-02 01:00:00       4.0            NaN             NaN            NaN   \n",
       "2000-01-02 02:00:00       5.0            5.0             5.0            5.0   \n",
       "2000-01-02 03:00:00       6.0            NaN             NaN            NaN   \n",
       "2000-01-02 04:00:00       7.0            7.0             7.0            7.0   \n",
       "2000-01-02 05:00:00       NaN            NaN             NaN            NaN   \n",
       "2000-01-02 06:00:00       NaN            NaN             NaN            NaN   \n",
       "2000-01-02 07:00:00      10.0            NaN             NaN            NaN   \n",
       "2000-01-02 08:00:00      11.0           11.0            11.0           11.0   \n",
       "2000-01-02 09:00:00      12.0            NaN             NaN            NaN   \n",
       "2000-01-02 10:00:00       NaN            NaN            12.0            NaN   \n",
       "\n",
       "                     pastas (default)  pastas (minimize data loss)  \n",
       "2000-01-01 18:00:00               0.0                          0.0  \n",
       "2000-01-01 20:00:00               1.0                          1.0  \n",
       "2000-01-01 22:00:00               2.0                          2.0  \n",
       "2000-01-02 00:00:00               3.0                          3.0  \n",
       "2000-01-02 01:00:00               NaN                          NaN  \n",
       "2000-01-02 02:00:00               5.0                          5.0  \n",
       "2000-01-02 03:00:00               NaN                          NaN  \n",
       "2000-01-02 04:00:00               7.0                          7.0  \n",
       "2000-01-02 05:00:00               NaN                          NaN  \n",
       "2000-01-02 06:00:00               NaN                         10.0  \n",
       "2000-01-02 07:00:00               NaN                          NaN  \n",
       "2000-01-02 08:00:00              11.0                         11.0  \n",
       "2000-01-02 09:00:00               NaN                          NaN  \n",
       "2000-01-02 10:00:00              12.0                         12.0  "
      ]
     },
     "execution_count": 36,
     "metadata": {},
     "output_type": "execute_result"
    }
   ],
   "source": [
    "dfall = pd.concat([series, s_pd1, s_pd2, s_pd3, s_pastas2, s_pastas1], axis=1)\n",
    "dfall.columns = [\n",
    "    \"original\",\n",
    "    \"pandas_sample\",\n",
    "    \"pandas_nearest\",\n",
    "    \"pandas_asfreq\",\n",
    "    \"pastas (default)\",\n",
    "    \"pastas (minimize data loss)\",\n",
    "]\n",
    "dfall"
   ]
  },
  {
   "cell_type": "code",
   "execution_count": null,
   "id": "afbc2f9c",
   "metadata": {},
   "outputs": [],
   "source": []
  }
 ],
 "metadata": {
  "kernelspec": {
   "display_name": "artesia",
   "language": "python",
   "name": "python3"
  },
  "language_info": {
   "codemirror_mode": {
    "name": "ipython",
    "version": 3
   },
   "file_extension": ".py",
   "mimetype": "text/x-python",
   "name": "python",
   "nbconvert_exporter": "python",
   "pygments_lexer": "ipython3",
   "version": "3.9.7"
  },
  "vscode": {
   "interpreter": {
    "hash": "dace5e1b41a98a8e52d2a8eebc3b981caf2c12e7a76736ebfb89a489e3b62e79"
   }
  }
 },
 "nbformat": 4,
 "nbformat_minor": 5
}
