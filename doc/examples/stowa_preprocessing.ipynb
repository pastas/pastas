{
 "cells": [
  {
   "cell_type": "code",
   "execution_count": null,
   "metadata": {
    "tags": []
   },
   "outputs": [],
   "source": [
    "import matplotlib.pyplot as plt\n",
    "import numpy as np\n",
    "import pandas as pd\n",
    "\n",
    "import pastas as ps\n",
    "\n",
    "# stel de logger in om alleen foutmeldingen naar het scherm te printen\n",
    "ps.set_log_level(\"ERROR\")\n",
    "\n",
    "# print de versies van belangrijke Python packages voor pastas\n",
    "ps.show_versions()"
   ]
  },
  {
   "cell_type": "markdown",
   "metadata": {},
   "source": [
    "# Preprocessing\n",
    "\n",
    "For time series analysis, groundwater levels and explanatory series are needed. Both come in different lengths, frequencies, and qualities. In many cases, preprocessing of the series is necessary. This notebook illustrates which operations can be performed and when they are needed. The following examples are covered:\n",
    "\n",
    "**Table of Contents**\n",
    "\n",
    "- [Cleaning groundwater level series](#cleaning-groundwater-level-series)\n",
    "- [Simplifying groundwater level series](#simplifying-groundwater-level-series)\n",
    "- [Making explanatory series equidistant](#making-explanatory-series-equidistant)\n",
    "- [History of explanatory series](#history-of-explanatory-series)\n",
    "- [Aligning units](#aligning-units)"
   ]
  },
  {
   "cell_type": "markdown",
   "metadata": {},
   "source": [
    "## Cleaning groundwater level series\n",
    "\n",
    "The goal of time series analysis is to explain a groundwater level or head series using input series. Through automatic optimization, the software tries to approximate the series as closely as possible. When there are errors in the series, this can have major consequences for the quality of the model. \n",
    "\n",
    "The example below shows a model that was optimized without removing a clear outlier.\n"
   ]
  },
  {
   "cell_type": "code",
   "execution_count": null,
   "metadata": {
    "tags": []
   },
   "outputs": [],
   "source": [
    "# Read data\n",
    "raw = pd.read_csv(\n",
    "    \"data_stowa/etmgeg_260.txt\",\n",
    "    skiprows=47,\n",
    "    parse_dates=[\"YYYYMMDD\"],\n",
    "    date_format=\"%Y%m%d\",\n",
    "    low_memory=False,\n",
    "    na_values=[\"     \"],\n",
    ").set_index(\"YYYYMMDD\")\n",
    "\n",
    "rain = raw[\"   RH\"].multiply(1e3).rename(\"Precipitation\")\n",
    "evap = raw[\" EV24\"].multiply(1e3).rename(\"Evaporation\")\n",
    "head = (\n",
    "    pd.read_csv(\"data_stowa/B32C0639001_changed.csv\", index_col=0, parse_dates=True)\n",
    "    .iloc[:, 0]\n",
    "    .rename(\"Groundwater head B32C0639 (screen 1)\")\n",
    ")"
   ]
  },
  {
   "cell_type": "code",
   "execution_count": null,
   "metadata": {},
   "outputs": [],
   "source": [
    "# Create the basic Pastas model\n",
    "ml = ps.Model(head, name=\"lineair\")\n",
    "\n",
    "# Add a recharge model\n",
    "rch = ps.rch.Linear()\n",
    "rm = ps.RechargeModel(rain, evap, recharge=rch, rfunc=ps.Gamma(), name=\"recharge\")\n",
    "ml.add_stressmodel(rm)\n",
    "ml.add_noisemodel(ps.ArNoiseModel())\n",
    "\n",
    "ml.solve(tmin=\"1990\", tmax=\"2001\", report=False)\n",
    "\n",
    "axes = ml.plots.results(figsize=(10, 6), adjust_height=True, layout=\"tight\")"
   ]
  },
  {
   "cell_type": "markdown",
   "metadata": {},
   "source": [
    "The results of this model are not very encouraging. The explained variance is only 31%. This is partly due to the large deviation caused by the outlier, but also the standard errors of the parameters are relatively large, and the response time to precipitation and evaporation seems rather high by Dutch standards.\n",
    "\n",
    "We will now look at the results after removing the outlier."
   ]
  },
  {
   "cell_type": "code",
   "execution_count": null,
   "metadata": {
    "tags": []
   },
   "outputs": [],
   "source": [
    "# remove outlier\n",
    "head.loc[head > 4] = np.nan\n",
    "\n",
    "# Create the basic Pastas model\n",
    "ml = ps.Model(head, name=\"lineair\")\n",
    "\n",
    "# Add a recharge model\n",
    "rch = ps.rch.Linear()\n",
    "rm = ps.RechargeModel(rain, evap, recharge=rch, rfunc=ps.Gamma(), name=\"recharge\")\n",
    "ml.add_stressmodel(rm)\n",
    "ml.add_noisemodel(ps.ArNoiseModel())\n",
    "\n",
    "# Solve the model\n",
    "ml.solve(tmin=\"1990\", tmax=\"2001\", report=False)\n",
    "\n",
    "axes = ml.plots.results(figsize=(10, 6), adjust_height=True, layout=\"tight\")"
   ]
  },
  {
   "cell_type": "markdown",
   "metadata": {},
   "source": [
    "The figure above shows that the model performs much better with the cleaned series. It turns out that the outlier (even if there's only one) has a significant impact on the results. In addition to a better fit (82%), the standard errors are also smaller, and the response time has shortened."
   ]
  },
  {
   "cell_type": "markdown",
   "metadata": {},
   "source": [
    "## Simplifying groundwater level series\n",
    "\n",
    "Some series contain very high-frequency data, with, for example, a time step of one day or even shorter. Depending on the goal of the time series analysis and the available input, it may be desirable to aggregate or thin out the series. \n",
    "\n",
    "The first example concerns a common situation: for a long time, measurements were taken approximately every two weeks, and in recent years at a high frequency. When using all measurements, the optimization may end up focusing on the high-frequency period, simply because there are more data points. This is the case in the example below."
   ]
  },
  {
   "cell_type": "code",
   "execution_count": null,
   "metadata": {},
   "outputs": [],
   "source": [
    "# voorbeeld waar tweewekelijks beter is dan daily\n",
    "prec = (\n",
    "    pd.read_csv(\n",
    "        \"data_stowa/precipitation_st_anthonis.txt\",\n",
    "        skiprows=23,\n",
    "        parse_dates=[\"YYYYMMDD\"],\n",
    "        date_format=\"%Y%m%d\",\n",
    "        na_values=[\"     \"],\n",
    "    )\n",
    "    .set_index(\"YYYYMMDD\")[\"   RD\"]\n",
    "    .dropna()\n",
    "    .multiply(1e3)\n",
    "    .rename(\"Precipitation\")\n",
    "    .asfreq(\"D\")\n",
    "    .fillna(0.0)\n",
    ")\n",
    "\n",
    "evap = (\n",
    "    pd.read_csv(\n",
    "        \"data_stowa/etmgeg_260.txt\",\n",
    "        skiprows=47,\n",
    "        parse_dates=[\"YYYYMMDD\"],\n",
    "        date_format=\"%Y%m%d\",\n",
    "        low_memory=False,\n",
    "        na_values=[\"     \"],\n",
    "    )\n",
    "    .set_index(\"YYYYMMDD\")[\" EV24\"]\n",
    "    .dropna()\n",
    "    .multiply(1e3)\n",
    ")\n",
    "\n",
    "head = (\n",
    "    pd.read_csv(\n",
    "        \"data_stowa/B46D0731001_1.csv\",\n",
    "        skiprows=17,\n",
    "        parse_dates=[\"Filternummer\"],\n",
    "        date_format=\"%d-%m-%Y\",\n",
    "    ).set_index(\"Filternummer\")[\n",
    "        \"Stand (cm t.o.v. MV)\"\n",
    "    ]  # .astype(float).divide(100).rename(\"B46D0731001_1\")\n",
    ")\n",
    "\n",
    "gwa_vb = (\n",
    "    pd.read_csv(\n",
    "        \"data_stowa/abstraction_vierlingsbeek_daily.csv\",\n",
    "        index_col=\"Date\",\n",
    "        parse_dates=True,\n",
    "    )\n",
    "    .iloc[:, 0]\n",
    "    .multiply(365.25 / 1e6)\n",
    ")"
   ]
  },
  {
   "cell_type": "code",
   "execution_count": null,
   "metadata": {
    "tags": []
   },
   "outputs": [],
   "source": [
    "ml = ps.Model(head, name=\"B46D0731 (Screen 1)\")\n",
    "sm1 = ps.RechargeModel(prec, evap, rfunc=ps.Exponential(), name=\"rch\")\n",
    "sm2 = ps.StressModel(\n",
    "    gwa_vb, rfunc=ps.Gamma(), name=\"Boxmeer\", up=False, settings=\"well\"\n",
    ")\n",
    "ml.add_stressmodel([sm1, sm2])\n",
    "# ml.set_parameter(\"rch_kv\", vary=True)\n",
    "ml.solve(tmin=\"1995\", freq=\"D\", report=False)\n",
    "\n",
    "axes = ml.plots.results(adjust_height=True, figsize=(10, 6))"
   ]
  },
  {
   "cell_type": "markdown",
   "metadata": {},
   "source": [
    "Especially at the beginning of the series, the simulated values are consistently higher than the measurements, while in the second half of the series, the simulation generally aligns better. The example below uses the same input, but now the groundwater level series has been resampled so that there are biweekly measurements throughout the entire period."
   ]
  },
  {
   "cell_type": "code",
   "execution_count": null,
   "metadata": {
    "tags": []
   },
   "outputs": [],
   "source": [
    "index = ps.timeseries_utils.get_sample(head.index, head.asfreq(\"14d\").index)\n",
    "head14D = head[index]\n",
    "\n",
    "ml14D = ps.Model(head14D, name=\"B46D0731 (Filter 1)\")\n",
    "sm1 = ps.RechargeModel(prec, evap, rfunc=ps.Exponential(), name=\"rch\")\n",
    "sm2 = ps.StressModel(\n",
    "    gwa_vb, rfunc=ps.Gamma(), name=\"Boxmeer\", up=False, settings=\"well\"\n",
    ")\n",
    "ml14D.add_stressmodel([sm1, sm2])\n",
    "ml14D.solve(tmin=\"1995\", freq=\"D\", report=False)\n",
    "\n",
    "axes = ml14D.plots.results(figsize=(10, 6))"
   ]
  },
  {
   "cell_type": "markdown",
   "metadata": {},
   "source": [
    "After filtering the high-frequency data, it can be seen that the residuals are now more evenly distributed across the series. The fit in the initial period has improved at the expense of the fit at the end. This has also resulted in a different model; the responses of the contributions have also changed.\n",
    "\n",
    "There are also situations where it is important to maintain a high frequency. The following example illustrates this. It concerns a monitoring well that is influenced by the tide. In the figure below, it is clearly visible that the groundwater level is affected by the tide."
   ]
  },
  {
   "cell_type": "code",
   "execution_count": null,
   "metadata": {
    "tags": []
   },
   "outputs": [],
   "source": [
    "# Example where hourly data is better than daily\n",
    "\n",
    "# Read groundwater head data, resample to hourly, and drop missing values\n",
    "# head = pd.read_csv(\"data_stowa/PB_1_001_04P001442_F-2224.csv\", index_col=0, parse_dates=True, squeeze=True).resample(\"H\").mean().dropna()\n",
    "head = (\n",
    "    pd.read_csv(\n",
    "        \"data_stowa/PB_1_001_04P001442_F-2224.csv\", index_col=\"index\", parse_dates=True\n",
    "    )\n",
    "    .iloc[:, 0]\n",
    "    .resample(\"h\")\n",
    "    .mean()\n",
    "    .dropna()\n",
    ")\n",
    "\n",
    "# Read explanatory series: precipitation, evaporation, and sea level\n",
    "prec = pd.read_csv(\"data_stowa/RD Petten.csv\", index_col=0, parse_dates=True)\n",
    "evap = pd.read_csv(\"data_stowa/EV24 De Kooy.csv\", index_col=0, parse_dates=True)\n",
    "sea = pd.read_csv(\"data_stowa/Den Helder.csv\", index_col=0, parse_dates=True)\n",
    "\n",
    "# Plot including tidal influence\n",
    "fig, [ax1, ax2, ax3] = plt.subplots(3, 1, figsize=(10, 5), sharex=True, layout=\"tight\")\n",
    "\n",
    "ax1.plot(head)\n",
    "ax1.set_ylabel(\"Groundwater head \\n[mNAP]\")\n",
    "\n",
    "ax2.plot(prec * 1000)\n",
    "ax2.set_ylabel(\"Precipitation \\n[mm/day]\")\n",
    "\n",
    "ax3.plot(sea)\n",
    "ax3.set_ylabel(\"Sea level \\n[mNAP]\")\n",
    "\n",
    "ax3.set_xlim([np.datetime64(\"2016-04-01\"), np.datetime64(\"2016-04-25\")])\n",
    "ax1.set_ylim([-0.5, 0])\n",
    "ax2.set_ylim([0, 6])\n",
    "ax3.set_ylim([-1.2, 1])"
   ]
  },
  {
   "cell_type": "markdown",
   "metadata": {},
   "source": [
    "As a first attempt, we create a model with a time interval of one day. The figure below shows the result"
   ]
  },
  {
   "cell_type": "code",
   "execution_count": null,
   "metadata": {
    "tags": []
   },
   "outputs": [],
   "source": [
    "# dagelijks model gaat niet zo goed\n",
    "ml = ps.Model(head, name=\"daily\")\n",
    "rm = ps.RechargeModel(prec, evap, name=\"recharge\", rfunc=ps.Gamma())\n",
    "ml.add_stressmodel(rm)\n",
    "sm = ps.StressModel(sea - sea.mean(), ps.Exponential(), \"sealvl\", settings=\"waterlevel\")\n",
    "ml.add_stressmodel(sm)\n",
    "ml.add_noisemodel(ps.ArNoiseModel())\n",
    "ml.solve(tmin=\"2015-04-01\", report=False)\n",
    "\n",
    "axes = ml.plots.results(figsize=(10, 6), adjust_height=True, layout=\"tight\")"
   ]
  },
  {
   "cell_type": "markdown",
   "metadata": {},
   "source": [
    "It is clearly visible that the daily fluctuations are not being captured. A clear pattern can also be seen in the residuals. We will now try a simulation using hourly values."
   ]
  },
  {
   "cell_type": "code",
   "execution_count": null,
   "metadata": {
    "tags": []
   },
   "outputs": [],
   "source": [
    "ml = ps.Model(head, name=\"hourly\")\n",
    "ml.settings[\"freq\"] = \"h\"\n",
    "rm = ps.RechargeModel(prec, evap, name=\"recharge\", rfunc=ps.Gamma())\n",
    "ml.add_stressmodel(rm)\n",
    "sm = ps.StressModel(sea - sea.mean(), ps.Exponential(), \"sealvl\", settings=\"waterlevel\")\n",
    "ml.add_stressmodel(sm)\n",
    "ml.add_noisemodel(ps.ArNoiseModel())\n",
    "ml.solve(tmin=\"2015-04-01\", report=False)\n",
    "\n",
    "axes = ml.plots.results(figsize=(10, 6), adjust_height=True, layout=\"tight\")"
   ]
  },
  {
   "cell_type": "markdown",
   "metadata": {},
   "source": [
    "This model performs much better because the information present in the sea level can be used more effectively to explain the groundwater level."
   ]
  },
  {
   "cell_type": "markdown",
   "metadata": {},
   "source": [
    "## Making explanatory series equidistant\n",
    "\n",
    "For most time series analysis programs, it is necessary that the explanatory series have equal time steps—that is, they must be equidistant. In some cases, they are already provided this way. If not, the series need to be made equidistant. \n",
    "\n",
    "How this is done depends on the type of explanatory series. River levels, for example, can be interpolated depending on the size of the time step and the dynamics of the series. For abstraction (extraction) series, one must consider whether a missing value means that the abstraction was turned off, or whether data is missing because no observation took place. \n",
    "\n",
    "Filling in data introduces uncertainties that are not automatically accounted for in the analysis. One may also choose to increase the time step of the time series analysis if that better matches the resolution of the available data. \n",
    "\n",
    "The figure below illustrates the different types of series:"
   ]
  },
  {
   "cell_type": "code",
   "execution_count": null,
   "metadata": {
    "tags": []
   },
   "outputs": [],
   "source": [
    "# Create a regular (equidistant) time series with daily frequency\n",
    "regular = pd.Series(\n",
    "    index=pd.date_range(\"2000-01-01\", \"2000-01-10\", freq=\"D\"), data=np.ones(10)\n",
    ")\n",
    "\n",
    "# Create a copy and introduce missing values\n",
    "missing_data = regular.copy()\n",
    "missing_data.loc[[\"2000-01-03\", \"2000-01-08\"]] = np.nan\n",
    "\n",
    "# Create irregular time intervals by adding random offsets (in hours) to each timestamp\n",
    "index = [t + pd.Timedelta(np.random.rand() * 24, unit=\"h\") for t in missing_data.index]\n",
    "irregular = missing_data.copy()\n",
    "irregular.index = index\n",
    "\n",
    "# Plot the three series\n",
    "fig, axes = plt.subplots(3, 1, figsize=(6, 5), sharex=True, sharey=True, layout=\"tight\")\n",
    "\n",
    "regular.plot(ax=axes[0], linestyle=\" \", marker=\"o\", x_compat=True)\n",
    "missing_data.plot(ax=axes[1], linestyle=\" \", marker=\"o\", x_compat=True)\n",
    "irregular.plot(ax=axes[2], linestyle=\" \", marker=\"o\", x_compat=True)\n",
    "\n",
    "# Add titles and grid\n",
    "for i, name in enumerate([\"Equidistant\", \"Missing Values\", \"Irregular Time Intervals\"]):\n",
    "    axes[i].grid()\n",
    "    axes[i].set_title(name)"
   ]
  },
  {
   "cell_type": "markdown",
   "metadata": {},
   "source": [
    "## History of explanatory series\n",
    "\n",
    "Every hydrological system has a certain memory. This means that the groundwater level depends on what happened during a preceding period. Therefore, each model has a certain warm-up period. \n",
    "\n",
    "When fitting a groundwater level time series, it is important that sufficient information on the explanatory series is available before the first observation used for calibration. If this is not the case, an estimate will have to be made, or the corresponding observations should be excluded from the optimization.\n",
    "\n",
    "In the example below, precipitation is known for a period of 100 days before the first groundwater level measurement. Before that, it is assumed that precipitation was zero."
   ]
  },
  {
   "cell_type": "code",
   "execution_count": null,
   "metadata": {
    "tags": []
   },
   "outputs": [],
   "source": [
    "# Voorbeeld van warmup problematiek\n",
    "obs = (\n",
    "    pd.read_csv(\n",
    "        \"data_stowa/B58C0698001_1.csv\",\n",
    "        skiprows=15,\n",
    "        index_col=2,\n",
    "        parse_dates=True,\n",
    "        date_format=\"%d-%m-%Y\",\n",
    "    )\n",
    "    .iloc[:, 4]\n",
    "    .loc[\"1990\":\"2009\"]\n",
    "    .divide(100)\n",
    ")\n",
    "# lees weerdata\n",
    "rain = (\n",
    "    pd.read_csv(\n",
    "        \"data_stowa/neerslaggeg_HEIBLOEM-L_967.txt\",\n",
    "        skiprows=23,\n",
    "        parse_dates=[\"YYYYMMDD\"],\n",
    "        date_format=\"%Y%m%d\",\n",
    "        na_values=[\"     \"],\n",
    "    )\n",
    "    .set_index(\"YYYYMMDD\")[\"   RD\"]\n",
    "    .astype(float)\n",
    "    .divide(10000)\n",
    ")\n",
    "evap = (\n",
    "    pd.read_csv(\n",
    "        \"data_stowa/etmgeg_380.txt\",\n",
    "        skiprows=47,\n",
    "        index_col=1,\n",
    "        parse_dates=True,\n",
    "        na_values=[\"     \"],\n",
    "    )[\" EV24\"]\n",
    "    .astype(float)\n",
    "    .divide(10000)\n",
    ")\n",
    "\"\"\"\n",
    "evap = ps.timeseries.TimeSeries(evap)\n",
    "evap.settings[\"fill_before\"] = 0.0\n",
    "\n",
    "# also add 9 hours to the evaporation\n",
    "s = evap.series_original\n",
    "s.index = s.index + pd.to_timedelta(9, 'h')\n",
    "evap.series_original = s\n",
    "\"\"\"\n",
    "# Create the time series model\n",
    "ml = ps.Model(obs)\n",
    "\n",
    "settingsprec = ps.timeseries.TimeSeries._predefined_settings[\"prec\"]\n",
    "settingsprec[\"fill_before\"] = 0.00\n",
    "settingsevap = ps.timeseries.TimeSeries._predefined_settings[\"evap\"]\n",
    "\n",
    "sm = ps.RechargeModel(\n",
    "    prec=rain,\n",
    "    evap=evap,\n",
    "    rfunc=ps.Exponential(),\n",
    "    name=\"recharge\",\n",
    "    settings=(settingsprec, settingsevap),  # Tuple of dicts is OK here\n",
    ")\n",
    "ml.add_stressmodel(sm)\n",
    "ml.add_noisemodel(ps.ArNoiseModel())\n",
    "# Solve\n",
    "ml.solve(tmax=\"1993\", report=False)\n",
    "\n",
    "axes = ml.plots.results(figsize=(10, 6))"
   ]
  },
  {
   "cell_type": "markdown",
   "metadata": {},
   "source": [
    "It is clearly visible that the simulation lies below the measurements at the beginning of the series. This is compensated by an overestimation at the end of the series. In the example below, we use the same model, but now we assume average precipitation during the warm-up period."
   ]
  },
  {
   "cell_type": "code",
   "execution_count": null,
   "metadata": {
    "tags": []
   },
   "outputs": [],
   "source": [
    "# Create the time series model\n",
    "ml2 = ps.Model(obs)\n",
    "\n",
    "settingsprec = ps.timeseries.TimeSeries._predefined_settings[\"prec\"]\n",
    "settingsprec[\"fill_before\"] = \"mean\"\n",
    "settingsevap = ps.timeseries.TimeSeries._predefined_settings[\"evap\"]\n",
    "\n",
    "# Create stress\n",
    "sm2 = ps.RechargeModel(\n",
    "    prec=rain,\n",
    "    evap=evap,\n",
    "    rfunc=ps.Exponential(),\n",
    "    name=\"recharge\",\n",
    "    settings=(settingsprec, settingsevap),  # Tuple of dicts is OK here\n",
    ")\n",
    "ml2.add_stressmodel(sm2)\n",
    "ml.add_noisemodel(ps.ArNoiseModel())\n",
    "\n",
    "# Solve\n",
    "ml2.solve(tmax=\"1993\", report=False)\n",
    "\n",
    "axes = ml2.plots.results(figsize=(10, 6))"
   ]
  },
  {
   "cell_type": "markdown",
   "metadata": {},
   "source": [
    "Now that the average is taken before precipitation data is available, there is no longer a trend present in the residuals. The model fit has also improved, and the response to precipitation looks significantly different. The determined response time of the precipitation is much greater than 100 days. Therefore, it is important to have sufficient precipitation data, or a realistic estimate if such data is not available."
   ]
  },
  {
   "cell_type": "markdown",
   "metadata": {},
   "source": [
    "## Aligning Units\n",
    "\n",
    "For the interpretation of results (and sometimes also for the success of the calibration), it is important to carefully choose and, if necessary, align the units of the different time series.\n",
    "\n",
    "In the example below, we try to determine the influence of an abstraction. The input is provided on a daily basis in standard units. Precipitation and evaporation are given in meters per day, and the abstraction in cubic meters per day. \n",
    "\n",
    "We are interested in the total effect of the abstraction at the observation well. First, we perform a time series analysis using the units as they were provided:"
   ]
  },
  {
   "cell_type": "code",
   "execution_count": null,
   "metadata": {
    "tags": []
   },
   "outputs": [],
   "source": [
    "# Voorbeeld met verschillende eenheden, waardoor de gain niet te interpreteren is.\n",
    "prec = pd.read_csv(\"data_stowa/prec_wellex.csv\", index_col=0, parse_dates=True)\n",
    "head = pd.read_csv(\"data_stowa/head_wellex.csv\", index_col=0, parse_dates=True)\n",
    "evap = pd.read_csv(\"data_stowa/evap_wellex.csv\", index_col=0, parse_dates=True)\n",
    "well = pd.read_csv(\"data_stowa/well_wellex.csv\", index_col=0, parse_dates=True)\n",
    "\n",
    "ml = ps.Model(head)\n",
    "sm = ps.RechargeModel(\n",
    "    rain, evap, name=\"recharge\", rfunc=ps.Exponential(), recharge=ps.rch.Linear()\n",
    ")\n",
    "ml.add_stressmodel(sm)\n",
    "sm = ps.StressModel(well, rfunc=ps.Gamma(), name=\"well\", settings=\"well\", up=False)\n",
    "ml.add_stressmodel(sm)\n",
    "ml.add_noisemodel(ps.ArNoiseModel())\n",
    "ml.solve(initial=False, report=False, fit_constant=\"True\")\n",
    "\n",
    "axes = ml.plots.results(figsize=(10, 6), adjust_height=True)"
   ]
  },
  {
   "cell_type": "markdown",
   "metadata": {},
   "source": [
    "The effect of the well (the \"gain\") is equal to the parameter `well_A` in the table. This has the unit of head (groundwater level) divided by the unit of the abstraction. In this case, that means a reduction (in meters) for an abstraction of one cubic meter per day. \n",
    "\n",
    "The gain of the recharge represents the increase in groundwater level that would occur if it rained continuously at a rate of one meter per day (737 meters). Likewise, the reduction caused by one meter of evaporation per day is equal to 1.86 × 737 = 1370 meters.\n",
    "\n",
    "These units are not very practical for interpretation. Therefore, we repeat the time series analysis, but this time we change the units of evaporation and precipitation to mm/day, and the abstraction to million cubic meters per year."
   ]
  },
  {
   "cell_type": "code",
   "execution_count": null,
   "metadata": {
    "tags": []
   },
   "outputs": [],
   "source": [
    "# Verandering naar een goed voorbeeld waar dat wel kan.\n",
    "head = pd.read_csv(\"data_stowa/head_wellex.csv\", index_col=0, parse_dates=True)\n",
    "rain = pd.read_csv(\n",
    "    \"data_stowa/prec_wellex.csv\", index_col=0, parse_dates=True\n",
    ").multiply(1e3)\n",
    "evap = pd.read_csv(\n",
    "    \"data_stowa/evap_wellex.csv\", index_col=0, parse_dates=True\n",
    ").multiply(1e3)\n",
    "well = pd.read_csv(\n",
    "    \"data_stowa/well_wellex.csv\", index_col=0, parse_dates=True\n",
    ").multiply(365.25 / 1e6)\n",
    "\n",
    "ml = ps.Model(head)\n",
    "sm = ps.RechargeModel(\n",
    "    rain, evap, name=\"recharge\", rfunc=ps.Exponential(), recharge=ps.rch.Linear()\n",
    ")\n",
    "ml.add_stressmodel(sm)\n",
    "sm = ps.StressModel(well, rfunc=ps.Gamma(), name=\"well\", settings=\"well\", up=False)\n",
    "ml.add_stressmodel(sm)\n",
    "ml.add_noisemodel(ps.ArNoiseModel())\n",
    "ml.solve(initial=False, report=False, fit_constant=True)\n",
    "\n",
    "axes = ml.plots.results(figsize=(10, 6), adjust_height=True)"
   ]
  },
  {
   "cell_type": "markdown",
   "metadata": {},
   "source": [
    "The figure above shows the results with the adjusted units. What stands out is that even after converting the units, the values differ slightly. These differences arise during the optimization of the parameters, which now proceeds slightly differently because the proportions between the input series have changed.\n",
    "\n",
    "The gain from one millimeter of precipitation per day is now 0.76 meters. The reduction resulting from an abstraction of one million cubic meters per year is 0.74 meters. To estimate the final increase in groundwater level when the abstraction is stopped, this value must be multiplied by the actual abstraction capacity (in million cubic meters per year).\n",
    "\n",
    "If the abstraction amounts to 2 million cubic meters per year, we estimate the resulting rise to be 148 centimeters.\n"
   ]
  }
 ],
 "metadata": {
  "authors": [
   {
    "name": "F.W.Schaars"
   }
  ],
  "kernelspec": {
   "display_name": "test-examples (3.13.5)",
   "language": "python",
   "name": "python3"
  },
  "language_info": {
   "codemirror_mode": {
    "name": "ipython",
    "version": 3
   },
   "file_extension": ".py",
   "mimetype": "text/x-python",
   "name": "python",
   "nbconvert_exporter": "python",
   "pygments_lexer": "ipython3",
   "version": "3.13.5"
  },
  "title": "Voorbewerking van reeksen voor tijdreeksanalyse"
 },
 "nbformat": 4,
 "nbformat_minor": 4
}
