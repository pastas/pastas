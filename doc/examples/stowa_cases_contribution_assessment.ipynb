{
 "cells": [
  {
   "cell_type": "markdown",
   "metadata": {},
   "source": [
    "# Case Study 1 Assessing contributions\n",
    "\n",
    "This case study demonstrates how time series analysis can be used to identify different contributions on groundwater head.\n",
    "\n",
    "The focus is on determining whether an external factor—such as an abstraction—has a significant impact, and if so, how large that impact is. The case study is divided into two parts. The first part deals with an example involving an abstraction. In Part II, the contribution of a watercourse on groundwater head is examined.\n",
    "\n",
    "**Table of Contents**\n",
    "\n",
    "- [Part I: Contribution of Water Level Adjustment](#Part-I:-Contribution-of-Water-Level-Adjustment)\n",
    "    - [Available Data](#Available-Data-Example-1)\n",
    "    - [Building the Time Series Model](#Building-the-Time-Series-Model-Example-1)\n",
    "    - [Impact of the Intervention](#Impact-of-the-Intervention)\n",
    "- [Part II: Contribution of Watercourse](#Part-II:-Contribution-of-Watercourse)\n",
    "    - [Available Data](#Available-Data-Example-2)\n",
    "    - [Preprocessing Time Series](#Preprocessing-Time-Series-Example-2)\n",
    "    - [Setting Up the Model](#Setting-Up-the-Model-Example-2)\n",
    "    - [Assessing the Contribution of the Watercourse](#Assessing-the-Contribution-of-the-Watercourse)\n"
   ]
  },
  {
   "cell_type": "code",
   "execution_count": null,
   "metadata": {
    "tags": []
   },
   "outputs": [],
   "source": [
    "# inladen van de benodigde python packages\n",
    "import matplotlib.pyplot as plt\n",
    "import pandas as pd\n",
    "\n",
    "import pastas as ps\n",
    "\n",
    "ps.set_log_level(\"ERROR\")\n",
    "\n",
    "ps.show_versions()"
   ]
  },
  {
   "cell_type": "markdown",
   "metadata": {},
   "source": [
    "## Part I: Contribution of Water Level Adjustment\n",
    "\n",
    "The water board has measured the groundwater head in Observation Well 1. This well is located in an area where, during the summer of 2005, the water board implemented measures to raise the groundwater level in order to improve the area's ecological value. These measures included raising several weirs and blocking some drainage ditches.\n",
    "\n",
    "Ten years after these interventions, the water board wants to evaluate whether the measures had the intended effect on groundwater head. To do this, the groundwater head in Observation Well 1 is analyzed using time series analysis."
   ]
  },
  {
   "cell_type": "markdown",
   "metadata": {},
   "source": [
    "### Available Data Example 1\n",
    "\n",
    "The figure below shows the measured groundwater head in Observation Well 1. The measurements cover the period from 1985 through 2015, both before and after the intervention. At first glance, it appears that the groundwater head has increased since the measures were implemented in the summer of 2005."
   ]
  },
  {
   "cell_type": "code",
   "execution_count": null,
   "metadata": {
    "tags": []
   },
   "outputs": [],
   "source": [
    "gws = pd.read_csv(\"data_stowa/head_stepex_edit.csv\", index_col=0, parse_dates=True)\n",
    "\n",
    "fig, ax = plt.subplots(1, 1, figsize=(10, 4))\n",
    "gws.plot(ax=ax, color=\"k\", ls=\"\", marker=\".\", markersize=5)\n",
    "\n",
    "ax.set_ylabel(\"Groundwater head [m NAP]\")\n",
    "ax.set_xlabel(\"Date\")\n",
    "ax.set_title(\"Measured Groundwater Head in Observation Well 1\")\n",
    "_ = ax.legend([\"measured groundwater head\"])"
   ]
  },
  {
   "cell_type": "markdown",
   "metadata": {},
   "source": [
    "The precipitation and evaporation at the location of Observation Well 1 are used as explanatory series. For this, data from the nearest KNMI weather station were used. The precipitation and evaporation are shown in the figure below."
   ]
  },
  {
   "cell_type": "code",
   "execution_count": null,
   "metadata": {
    "tags": []
   },
   "outputs": [],
   "source": [
    "prec = pd.read_csv(\"data_stowa/rain_stepex.csv\", index_col=0, parse_dates=True)\n",
    "evap = pd.read_csv(\"data_stowa/evap_stepex.csv\", index_col=0, parse_dates=True)\n",
    "\n",
    "\n",
    "fig, ax = plt.subplots(1, 1, figsize=(10, 4))\n",
    "prec.plot(ax=ax, color=\"C0\")\n",
    "evap.plot(ax=ax, color=\"C1\")\n",
    "\n",
    "ax.set_ylabel(\"Precipitation and evaporation [m]\")\n",
    "ax.set_xlabel(\"Date\")\n",
    "ax.set_title(\"Measured precipitation and evaporation\")\n",
    "ax.legend([\"precipitation\", \"evaporation\"])\n",
    "_ = ax.set_xlim(pd.Timestamp(\"1987\"))"
   ]
  },
  {
   "cell_type": "markdown",
   "metadata": {},
   "source": [
    "### Building the Time Series Model – Example 1\n",
    "\n",
    "A model is developed for the groundwater head observations. The full time series is used. Since no outliers were found in the data, there is no reason to preprocess the measurement series before applying it in the model.\n",
    "\n",
    "Precipitation and evaporation are used as explanatory series. For each explanatory series, a response function is selected. The response function describes how the groundwater head reacts to an external stress. It must be defined for each explanatory series, with the user selecting the type of response function and the model optimizing its parameters. For this time series model, the Gamma response function is chosen for both precipitation and evaporation.\n",
    "\n",
    "The model uses the same response function for both precipitation and evaporation. The relationship between them is described by the formula $R = P - f \\cdot E$, where $R$ is the groundwater recharge [m], $P$ is precipitation [m], $f$ is the evaporation factor [-], and $E$ is evaporation [m]. The evaporation factor is optimized by the time series model. In addition to the explanatory series, a constant term is also fitted in the model.\n",
    "\n",
    "Once the response functions are selected for the explanatory series, the time series model can be optimized.\n"
   ]
  },
  {
   "cell_type": "code",
   "execution_count": null,
   "metadata": {
    "tags": []
   },
   "outputs": [],
   "source": [
    "ml = ps.Model(gws)\n",
    "\n",
    "\n",
    "sm1 = ps.RechargeModel(prec, evap, rfunc=ps.Gamma(), name=\"gwa\")\n",
    "ml.add_stressmodel(sm1)\n",
    "\n",
    "ml.solve(report=False)"
   ]
  },
  {
   "cell_type": "markdown",
   "metadata": {},
   "source": [
    "The model has an R² of 0.71. Using the optimized time series model, the groundwater head can be simulated. The simulation is shown in the figure below.\n",
    "\n",
    "In the figure, the measurements and the simulation are shown visually. Below that, the model residuals and noise are displayed. For the different explanatory series, the contributions are shown along with their corresponding response functions. These are the Gamma response functions as optimized by the time series model. Additionally, a table has been included in the figure showing the optimized parameters along with their standard deviations. This table also includes the optimized constant and evaporation factor, among others.\n"
   ]
  },
  {
   "cell_type": "code",
   "execution_count": null,
   "metadata": {
    "tags": []
   },
   "outputs": [],
   "source": [
    "ax = ml.plot(figsize=(10, 4))"
   ]
  },
  {
   "cell_type": "markdown",
   "metadata": {},
   "source": [
    "The simulation shows that the time series model reasonably reproduces the measured groundwater head. A visual inspection of the simulation reveals that, for the period after 2005, the model underestimates the groundwater head.\n",
    "\n",
    "This is more clearly visible in the residuals of the series, which are shown in the figure below. In the period before 2005, the model overestimates the measured groundwater head (negative residuals). In the period after 2005, the model underestimates it (positive residuals). This suggests that a change occurred around 2005."
   ]
  },
  {
   "cell_type": "code",
   "execution_count": null,
   "metadata": {
    "tags": []
   },
   "outputs": [],
   "source": [
    "fig, ax = plt.subplots(1, 1, figsize=(10, 4))\n",
    "\n",
    "ax.plot(ml.residuals(), label=\"residuals\")\n",
    "# ax.plot(ml.noise(), label='noise')\n",
    "ax.axhline(0, color=\"k\", ls=\"--\", alpha=0.5)\n",
    "_ = ax.legend()"
   ]
  },
  {
   "cell_type": "markdown",
   "metadata": {},
   "source": [
    "### Impact of the Intervention\n",
    "\n",
    "The time series model is re-developed with the goal of determining the effect of the intervention. First, an attempt is made to build the model with the addition of a step response, which represents an instantaneous jump in groundwater head. This can be seen as an explanatory series that is equal to 0 (no effect) before June 1, 2005, and equal to 1 (effect present) after June 1, 2005.\n",
    "\n",
    "This explanatory series is used in setting up the time series model. The step response (or jump) is applied at the moment when the interventions in the area were implemented, on June 1, 2005."
   ]
  },
  {
   "cell_type": "code",
   "execution_count": null,
   "metadata": {
    "tags": []
   },
   "outputs": [],
   "source": [
    "# set up model\n",
    "ml = ps.Model(gws)\n",
    "\n",
    "# add precipitation and evaporation as explanatory series\n",
    "sm1 = ps.RechargeModel(prec, evap, rfunc=ps.Gamma(), name=\"gwa\")\n",
    "\n",
    "sm2 = ps.StepModel(\n",
    "    tstart=pd.Timestamp(\"2005-06-01\"), name=\"step\", rfunc=ps.One(), up=None\n",
    ")\n",
    "ml.add_stressmodel([sm1, sm2])\n",
    "\n",
    "# solve the time series model\n",
    "ml.solve(report=False)"
   ]
  },
  {
   "cell_type": "markdown",
   "metadata": {},
   "source": [
    "The new model has an R² of 0.94, which is significantly higher than the previous model without the step trend, which had an R² of 0.71. The simulation of the new time series model is shown in the figure below."
   ]
  },
  {
   "cell_type": "code",
   "execution_count": null,
   "metadata": {
    "tags": []
   },
   "outputs": [],
   "source": [
    "ax = ml.plot(figsize=(10, 4))"
   ]
  },
  {
   "cell_type": "markdown",
   "metadata": {},
   "source": [
    "For the new model, it is desirable to assess the magnitude of the step and the uncertainty associated with it. To do this, it must be verified whether the results of the time series model are sufficient to reliably estimate this uncertainty. The model must meet certain conditions for this.\n",
    "\n",
    "When estimating the uncertainty of the model parameters, it is assumed that the model noise is so-called \"white noise.\" Four assumptions are tested to verify this:\n",
    "\n",
    "- The mean of the noise is zero;\n",
    "- The values are independent of each other;\n",
    "- The noise is normally distributed;\n",
    "- The noise has constant variance.\n",
    "\n",
    "If the noise meets these criteria, it can be assumed that it is \"white noise\" and that the standard deviation of the model parameters has been correctly estimated."
   ]
  },
  {
   "cell_type": "code",
   "execution_count": null,
   "metadata": {
    "tags": []
   },
   "outputs": [],
   "source": [
    "axes = ml.plots.diagnostics()"
   ]
  },
  {
   "cell_type": "markdown",
   "metadata": {},
   "source": [
    "In the top-left figure, the model noise is shown. It can be observed that there is no clear trend and that the average value ($\\mu$) is 0.00. In the bottom-left figure, the autocorrelation of the residuals is shown along with the 95% confidence interval. The rule is that 95% of the autocorrelation values should fall within this interval. In this case, the series meets that requirement.\n",
    "\n",
    "The top-right figure shows the noise as a distribution, along with a normal distribution fitted to the noise. This figure can be used to assess whether the noise follows a normal distribution. The bottom-right figure can also be used to test for normality. In this case, the noise appears to conform well to a normal distribution.\n",
    "\n",
    "Based on these results, it is assumed that the noise is \"white\" noise and that the uncertainties of the model parameters have been correctly estimated. Therefore, it is possible to estimate the uncertainty of the step response. The detailed results of the time series model are shown in the figure below.\n",
    "\n",
    "The figure shows the residuals of the new time series model. The jump in the residuals that was visible in the original model is no longer present in the new model.\n",
    "\n",
    "The step calculated by the time series model is 0.48 meters. The 95% confidence interval for the magnitude of this step is between 0.43 and 0.52 meters. This interval is shown in the results.\n"
   ]
  },
  {
   "cell_type": "code",
   "execution_count": null,
   "metadata": {
    "tags": []
   },
   "outputs": [],
   "source": [
    "ci = ml.fit.ci_contribution(\"step\", alpha=0.05)\n",
    "axes = ml.plots.results(adjust_height=False, figsize=(10, 8))\n",
    "_ = axes[-3].fill_between(ci.index, ci.iloc[:, 0], ci.iloc[:, 1], zorder=-10, alpha=0.5)"
   ]
  },
  {
   "cell_type": "markdown",
   "metadata": {},
   "source": [
    "A second method is used to perform the same analysis in order to assess the effects of the intervention. For this, two time series models are developed: one model for the period before the intervention took place (groundwater head series up to May 2005), and one model for the period after the intervention (groundwater head series from September 2005 onward). \n",
    "\n",
    "In both cases, precipitation and evaporation are used as explanatory series. As in the previous time series model, the Gamma response function is used for both precipitation and evaporation. No step trend is added to these models."
   ]
  },
  {
   "cell_type": "code",
   "execution_count": null,
   "metadata": {
    "tags": []
   },
   "outputs": [],
   "source": [
    "ml_before = ps.Model(gws[:\"2005-05-01\"])\n",
    "\n",
    "sm1 = ps.RechargeModel(prec, evap, rfunc=ps.Gamma(), name=\"gwa\")\n",
    "ml_before.add_stressmodel(sm1)\n",
    "\n",
    "ml_before.solve(report=False)\n",
    "\n",
    "ml_after = ps.Model(gws[\"2005-09-01\":])\n",
    "\n",
    "sm1 = ps.RechargeModel(prec, evap, rfunc=ps.Gamma(), name=\"gwa\")\n",
    "ml_after.add_stressmodel(sm1)\n",
    "\n",
    "ml_after.solve(report=False)"
   ]
  },
  {
   "cell_type": "markdown",
   "metadata": {},
   "source": [
    "Using both models, the groundwater head can be simulated for a specific period. With both models, the period from 1995 to 2015 is simulated—covering 10 years before and after the intervention. The figure below shows both simulations, and the difference between the two simulations over this period has also been calculated and displayed."
   ]
  },
  {
   "cell_type": "code",
   "execution_count": null,
   "metadata": {
    "tags": []
   },
   "outputs": [],
   "source": [
    "# Plot measured and simulated groundwater head\n",
    "fig, ax = plt.subplots(1, 1, figsize=(10, 4))\n",
    "ax.plot(gws, marker=\".\", color=\"k\", ls=\"\", label=\"measured groundwater head\")\n",
    "ax.plot(\n",
    "    ml_before.simulate(tmin=\"1995\", tmax=\"2015\"),\n",
    "    label=\"model simulation before intervention\",\n",
    ")\n",
    "ax.plot(\n",
    "    ml_after.simulate(tmin=\"1995\", tmax=\"2015\"),\n",
    "    label=\"model simulation after intervention\",\n",
    ")\n",
    "\n",
    "# Format the figure\n",
    "ax.set_ylabel(\"Groundwater head [m NAP]\")\n",
    "ax.set_xlabel(\"Date\")\n",
    "ax.set_xlim(xmin=pd.Timestamp(\"1995\"))\n",
    "ax.legend()\n",
    "\n",
    "# Plot difference between the two model simulations\n",
    "fig, ax = plt.subplots(1, 1, figsize=(10, 4))\n",
    "ax.plot(\n",
    "    (\n",
    "        ml_before.simulate(tmin=\"1995\", tmax=\"2015\")\n",
    "        - ml_after.simulate(tmin=\"1995\", tmax=\"2015\")\n",
    "    ),\n",
    "    color=\"C0\",\n",
    "    label=\"difference between models\",\n",
    ")\n",
    "ax.axhline(\n",
    "    (\n",
    "        ml_before.simulate(tmin=\"1995\", tmax=\"2015\")\n",
    "        - ml_after.simulate(tmin=\"1995\", tmax=\"2015\")\n",
    "    ).mean(),\n",
    "    color=\"k\",\n",
    "    ls=\"--\",\n",
    "    label=\"average difference\",\n",
    ")\n",
    "ax.legend()\n",
    "ax.set_title(\"Difference between model before and after intervention\")"
   ]
  },
  {
   "cell_type": "markdown",
   "metadata": {},
   "source": [
    "As shown, the difference between the two models lies between 0.4 and 0.6 meters. The average difference is 0.48 meters. This corresponds with the findings from the time series model using the step response function, supporting the conclusion of that model. \n",
    "\n",
    "It should be noted, however, that the second analysis does not take into account the uncertainties within the model."
   ]
  },
  {
   "cell_type": "markdown",
   "metadata": {},
   "source": [
    "## Part II: Contribution of the Watercourse\n",
    "\n",
    "The water board has installed an observation well near a major watercourse to monitor the groundwater head in the area. The area manager is aware that the groundwater level and the water level in the watercourse are strongly correlated.\n",
    "\n",
    "During the summer of 2018, the groundwater head dropped significantly due to drought. To prevent this from happening in the future, the possibility of raising the water levels in the watercourse is being considered as a potential solution. The hydrologist of the water board wants to determine how the groundwater head in the area responds to changes in the water level of the watercourse."
   ]
  },
  {
   "cell_type": "markdown",
   "metadata": {},
   "source": [
    "### Available Data Example 2\n",
    "\n",
    "The groundwater head was measured for the period from 2000 to 2020. The measured groundwater head is shown in the figure below. It can be seen that the groundwater head dropped significantly during the summer of 2018."
   ]
  },
  {
   "cell_type": "code",
   "execution_count": null,
   "metadata": {
    "tags": []
   },
   "outputs": [],
   "source": [
    "gws = pd.read_csv(\"data_stowa/head_rivex.csv\", index_col=\"Date\", parse_dates=True)\n",
    "\n",
    "fig, ax = plt.subplots(1, 1, figsize=(10, 4))\n",
    "gws.plot(ax=ax, color=\"C0\", ls=\"\", marker=\".\", markersize=2)\n",
    "\n",
    "ax.set_ylabel(\"Groundwater head [m NAP]\")\n",
    "ax.set_xlabel(\"Date\")\n",
    "ax.set_title(\"Measured groundwater head in Observation Well 1\")\n",
    "ax.legend([\"measured groundwater head\"])"
   ]
  },
  {
   "cell_type": "markdown",
   "metadata": {},
   "source": [
    "Precipitation and evaporation data near the area were collected from the nearest KNMI weather station. The precipitation and evaporation are shown in the figure below"
   ]
  },
  {
   "cell_type": "code",
   "execution_count": null,
   "metadata": {
    "tags": []
   },
   "outputs": [],
   "source": [
    "prec = pd.read_csv(\"data_stowa/prec_rivex.csv\", index_col=\"Date\", parse_dates=True)\n",
    "evap = pd.read_csv(\"data_stowa/evap_rivex.csv\", index_col=\"Date\", parse_dates=True)\n",
    "\n",
    "# plotting streses\n",
    "fig, ax = plt.subplots(1, 1, figsize=(10, 4))\n",
    "prec.plot(ax=ax, color=\"C0\")\n",
    "evap.plot(ax=ax, color=\"C1\")\n",
    "ax.set_ylabel(\"Precipitation and Evaporation [m]\")\n",
    "ax.set_xlabel(\"Date\")\n",
    "ax.set_title(\"Measured precipitation and evaporation\")\n",
    "ax.legend([\"prec\", \"evap\"])\n",
    "ax.set_xlim(xmin=\"1995\")"
   ]
  },
  {
   "cell_type": "markdown",
   "metadata": {},
   "source": [
    "In addition to precipitation and evaporation, the water level in the watercourse is used as an explanatory series in the time series model. The water board measured the water level in the watercourse for the period from 1995 to 2020. The variation in water level relative to the target level is shown in the figure below. The measurement series shows that the water level in the summer of 2018 was very low—approximately 2 meters below the target level."
   ]
  },
  {
   "cell_type": "code",
   "execution_count": null,
   "metadata": {
    "tags": []
   },
   "outputs": [],
   "source": [
    "waterlevel = pd.read_csv(\n",
    "    \"data_stowa/waterlevel_rivex.csv\", index_col=\"Date\", parse_dates=True\n",
    ")\n",
    "\n",
    "fig, ax = plt.subplots(1, 1, figsize=(10, 4))\n",
    "waterlevel.plot(ax=ax, color=\"C0\")\n",
    "\n",
    "ax.set_ylabel(\"Water level relative to target level [m]\")\n",
    "ax.set_xlabel(\"Date\")\n",
    "ax.set_title(\"Measured water level relative to target level\")\n",
    "ax.legend([\"water level\"])\n",
    "ax.set_xlim(xmin=\"1995\")"
   ]
  },
  {
   "cell_type": "markdown",
   "metadata": {},
   "source": [
    "### Preprocessing Time Series – Example 2\n",
    "\n",
    "The measured groundwater head has a measurement frequency of once every 3 hours. The time series for the water level in the watercourse has a daily measurement frequency, as do the precipitation and evaporation data. Therefore, the groundwater head time series is resampled to a daily frequency. For this resampling, the average groundwater head per day is used."
   ]
  },
  {
   "cell_type": "code",
   "execution_count": null,
   "metadata": {
    "tags": []
   },
   "outputs": [],
   "source": [
    "gws_r = gws.resample(\"D\").mean().dropna()\n",
    "\n",
    "fig, ax = plt.subplots(1, 1, figsize=(10, 4))\n",
    "gws.plot(ax=ax, color=\"C3\", ls=\"\", marker=\".\")\n",
    "gws_r.plot(ax=ax, color=\"C0\", ls=\"\", marker=\".\")\n",
    "\n",
    "ax.set_ylabel(\"Groundwater head [m NAP]\")\n",
    "ax.set_xlabel(\"Date\")\n",
    "ax.set_title(\"Measured groundwater head in Observation Well 1\")\n",
    "ax.legend([\"measured groundwater head\", \"resampled groundwater head\"])"
   ]
  },
  {
   "cell_type": "markdown",
   "metadata": {},
   "source": [
    "### Setting Up the Model – Example 2\n",
    "\n",
    "Using the processed time series, a time series model is set up for the period starting from 2000. Initially, a model is developed using only precipitation and evaporation as explanatory series. For both of these series, the Exponential response function is chosen.\n"
   ]
  },
  {
   "cell_type": "code",
   "execution_count": null,
   "metadata": {
    "tags": []
   },
   "outputs": [],
   "source": [
    "ml = ps.Model(gws_r.loc[\"2000-01-01\":])\n",
    "\n",
    "sm1 = ps.RechargeModel(prec, evap, rfunc=ps.Exponential(), name=\"gwa\")\n",
    "ml.add_stressmodel(sm1)\n",
    "\n",
    "ml.solve(report=False)"
   ]
  },
  {
   "cell_type": "markdown",
   "metadata": {},
   "source": [
    "The simulated groundwater head is shown in the figure below. It can be seen that the time series model does not provide a good explanation for the measured groundwater head. The model is unable to simulate the variation in groundwater head."
   ]
  },
  {
   "cell_type": "code",
   "execution_count": null,
   "metadata": {},
   "outputs": [],
   "source": [
    "ax = ml.plot(figsize=(10, 4))"
   ]
  },
  {
   "cell_type": "markdown",
   "metadata": {},
   "source": [
    "Another time series model is developed, this time with the addition of the measured water level in the watercourse as an explanatory series. For this explanatory series, the Gamma response function is selected.\n",
    "\n",
    "The variation in the water level is approximately 6 to 7 meters, while the variation in the groundwater head is about 4 meters. Since the groundwater head appears to be strongly dependent on the water level in the watercourse, a visual inspection allows for a rough estimation of the groundwater head's response to the watercourse. This response is expected to be around 57% to 66% (between 4/6 and 4/7)."
   ]
  },
  {
   "cell_type": "code",
   "execution_count": null,
   "metadata": {
    "tags": []
   },
   "outputs": [],
   "source": [
    "ml2 = ps.Model(gws_r.loc[\"2000-01-01\":])\n",
    "\n",
    "sm1 = ps.RechargeModel(prec, evap, rfunc=ps.Exponential(), name=\"gwa\")\n",
    "\n",
    "sm2 = ps.StressModel(\n",
    "    stress=waterlevel, rfunc=ps.Gamma(), name=\"waterlevel\", settings=\"waterlevel\"\n",
    ")\n",
    "ml2.add_stressmodel([sm1, sm2])\n",
    "\n",
    "ml2.solve(report=False)"
   ]
  },
  {
   "cell_type": "markdown",
   "metadata": {},
   "source": [
    "The simulation of the time series model is shown in the figure below. It can be seen that the model simulates the measured groundwater head significantly better than the time series model without the water level in the watercourse. The R² of this model is 0.93, compared to 0.38 for the first model. It also shows that the model provides a good estimate of the groundwater head during the summer of 2018."
   ]
  },
  {
   "cell_type": "code",
   "execution_count": null,
   "metadata": {
    "tags": []
   },
   "outputs": [],
   "source": [
    "axes = ml2.plots.results(figsize=(10, 8))"
   ]
  },
  {
   "cell_type": "markdown",
   "metadata": {},
   "source": [
    "### Assessing the Contribution of the Watercourse\n",
    "\n",
    "The figure below shows the contributions of the explanatory series to the measured groundwater head. It can be seen that variations in the water level result in a contribution of approximately -2 to 2 meters to the measured groundwater head. The watercourse contributes the most to the variation in groundwater head, while precipitation and evaporation have only a minor contribution.\n",
    "\n",
    "The stationary value of the response to the watercourse is 0.57 meters. This means that the groundwater head rises by 0.57 meters for every 1-meter increase in the water level of the watercourse. This aligns well with the estimate made earlier based on visual inspection of the series. It should be noted, however, that in this case the uncertainty in the magnitude of the response was not quantified.\n",
    "\n",
    "With this information, the hydrologist can advise the water board. The time series model shows that the watercourse has a significant contribution on the groundwater head in the area. In addition, the model can be used to estimate how much the water level in the watercourse can be lowered before the groundwater head drops below a critical level where drought damage may occur in the area surrounding the observation well."
   ]
  },
  {
   "cell_type": "code",
   "execution_count": null,
   "metadata": {
    "tags": []
   },
   "outputs": [],
   "source": [
    "axes = ml2.plots.decomposition(split=False, figsize=(10, 8))"
   ]
  }
 ],
 "metadata": {
  "kernelspec": {
   "display_name": "test-examples (3.13.5)",
   "language": "python",
   "name": "python3"
  },
  "language_info": {
   "codemirror_mode": {
    "name": "ipython",
    "version": 3
   },
   "file_extension": ".py",
   "mimetype": "text/x-python",
   "name": "python",
   "nbconvert_exporter": "python",
   "pygments_lexer": "ipython3",
   "version": "3.13.5"
  }
 },
 "nbformat": 4,
 "nbformat_minor": 4
}
