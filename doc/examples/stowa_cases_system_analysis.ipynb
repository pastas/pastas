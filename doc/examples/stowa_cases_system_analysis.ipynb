{
 "cells": [
  {
   "cell_type": "markdown",
   "metadata": {},
   "source": [
    "# Case Study 3 - System analysis\n",
    "\n",
    "This notebook discusses how a hydrological system can be analyzed using time series analysis. A network of multiple monitoring wells is considered. By developing and analyzing time series models for all these wells, information about the system can be obtained.\n",
    "\n",
    "**Table of Contents**\n",
    "\n",
    "- [Lowering of Nature Area](#Lowering-of-Nature-Area)\n",
    "    - [Available Data](#Available-Data)\n",
    "    - [Developing the Time Series Model](#Developing-the-Time-Series-Model)\n",
    "    - [Lowering Due to Extraction](#Lowering-Due-to-Extraction)"
   ]
  },
  {
   "cell_type": "code",
   "execution_count": null,
   "metadata": {
    "tags": []
   },
   "outputs": [],
   "source": [
    "# inladen van de benodigde python packages\n",
    "import matplotlib.pyplot as plt\n",
    "import numpy as np\n",
    "import pandas as pd\n",
    "\n",
    "import pastas as ps\n",
    "\n",
    "ps.set_log_level(\"ERROR\")\n",
    "\n",
    "ps.show_versions()"
   ]
  },
  {
   "cell_type": "markdown",
   "metadata": {},
   "source": [
    "## Lowering of Nature Area\n",
    "Near a nature area, there is an extraction point for a large industrial complex. The water authority suspects that this extraction may be causing a decline in the hydraulic head in the area, which is not permitted under the terms of the permit. Therefore, the water authority decides to investigate whether groundwater level measurements can demonstrate that the extraction has caused a reduction in hydraulic head. This is analyzed using time series analysis.\n",
    "\n",
    "The extraction point is located 500 meters from the nature area. Water is extracted from the first aquifer, which is also the layer where the monitoring wells are located.\n"
   ]
  },
  {
   "cell_type": "markdown",
   "metadata": {},
   "source": [
    "## Available Data\n",
    "Around the extraction point, the water authority has groundwater level data available from monitoring wells PB1, PB2, and PB3. These wells have relatively long time series, each with its own start and end period. Unfortunately, none of these wells have recorded hydraulic head in recent years. The time series for each well are shown in the figures below.\n",
    "\n",
    "The distances from the wells to the extraction point have been determined and are shown in the table below.\n",
    "\n",
    "| Monitoring Well | Distance [m] |  \n",
    "| --------------- |:------------:|  \n",
    "| PB1             | 112          |  \n",
    "| PB2             | 180          |  \n",
    "| PB3             | 321          |  "
   ]
  },
  {
   "cell_type": "code",
   "execution_count": null,
   "metadata": {
    "tags": []
   },
   "outputs": [],
   "source": [
    "PB1 = (\n",
    "    pd.read_csv(\n",
    "        \"data_stowa/PB1_c.csv\",\n",
    "        index_col=0,\n",
    "    )\n",
    "    .squeeze()\n",
    "    .rename(\"PB1\")\n",
    "    .drop(\"=======\")\n",
    ")\n",
    "\n",
    "PB2 = (\n",
    "    pd.read_csv(\n",
    "        \"data_stowa/PB2_c.csv\",\n",
    "        index_col=0,\n",
    "    )\n",
    "    .squeeze()\n",
    "    .rename(\"PB2\")\n",
    "    .drop(\"=======\")\n",
    ")\n",
    "\n",
    "PB3 = (\n",
    "    pd.read_csv(\n",
    "        \"data_stowa/PB3_c.csv\",\n",
    "        index_col=0,\n",
    "    )\n",
    "    .squeeze()\n",
    "    .rename(\"PB3\")\n",
    "    .drop(\"=======\")\n",
    ")\n",
    "\n",
    "PB1.index = pd.to_datetime(PB1.index)\n",
    "PB2.index = pd.to_datetime(PB2.index)\n",
    "PB3.index = pd.to_datetime(PB3.index)\n",
    "\n",
    "PB1 = PB1[~PB1.index.duplicated(keep=\"first\")]\n",
    "PB2 = PB2[~PB2.index.duplicated(keep=\"first\")]\n",
    "PB3 = PB3[~PB3.index.duplicated(keep=\"first\")]\n",
    "\n",
    "fig, ax = plt.subplots(1, 1, figsize=(10, 4))\n",
    "PB1.plot(ax=ax, ls=\"\", marker=\".\", markersize=5)\n",
    "PB2.plot(ax=ax, ls=\"\", marker=\".\", markersize=5)\n",
    "PB3.plot(ax=ax, ls=\"\", marker=\".\", markersize=5)\n",
    "\n",
    "ax.set_ylabel(\"Hydraulic Head [m NAP]\")\n",
    "ax.set_xlabel(\"Date\")\n",
    "ax.set_title(\"Measured Hydraulic Head in Monitoring Well 1\")\n",
    "_ = ax.legend()"
   ]
  },
  {
   "cell_type": "markdown",
   "metadata": {},
   "source": [
    "To develop a time series model for the hydraulic head time series, precipitation and evaporation are used. For this purpose, data from the nearest KNMI weather station has been used. The precipitation and evaporation are shown in the figure below. This weather station is the closest for all monitoring wells."
   ]
  },
  {
   "cell_type": "code",
   "execution_count": null,
   "metadata": {
    "tags": []
   },
   "outputs": [],
   "source": [
    "raw = pd.read_csv(\n",
    "    \"data_stowa/etmgeg_260.txt\",\n",
    "    skiprows=47,\n",
    "    parse_dates=[\"YYYYMMDD\"],\n",
    "    date_format=\"%Y%m%d\",\n",
    "    low_memory=False,\n",
    "    na_values=[\"     \"],\n",
    ").set_index(\"YYYYMMDD\")\n",
    "rain = (\n",
    "    raw[\"   RH\"]\n",
    "    .dropna()\n",
    "    .multiply(1e-4)\n",
    "    .rename(\"Precipitation\")\n",
    "    .resample(\"D\")\n",
    "    .asfreq()\n",
    "    .fillna(0.0)\n",
    ")\n",
    "evap = raw[\" EV24\"].dropna().multiply(1e-4).rename(\"Evaporation\")\n",
    "\n",
    "# Plotting precipitation and evaporation\n",
    "fig, ax = plt.subplots(1, 1, figsize=(10, 4))\n",
    "rain.plot(ax=ax, color=\"C0\")\n",
    "evap.plot(ax=ax, color=\"C1\")\n",
    "\n",
    "# Formatting the figure\n",
    "ax.set_ylabel(\"Precipitation and Evaporation [m]\")\n",
    "ax.set_xlabel(\"Date\")\n",
    "ax.set_title(\"Measured Precipitation and Evaporation\")\n",
    "ax.legend([\"Precipitation\", \"Evaporation\"])\n",
    "ax.set_xlim(pd.Timestamp(\"1995\"))"
   ]
  },
  {
   "cell_type": "markdown",
   "metadata": {},
   "source": [
    "To investigate the effect of the extraction on the measured hydraulic head, the time series data for the extraction was obtained from the owner of the extraction point. The extraction began in the 1960s. It has varied over the years and has been slightly reduced since 2010."
   ]
  },
  {
   "cell_type": "code",
   "execution_count": null,
   "metadata": {
    "tags": []
   },
   "outputs": [],
   "source": [
    "well = (\n",
    "    pd.read_csv(\"data_stowa/well.csv\", index_col=0, parse_dates=True)\n",
    "    .squeeze()\n",
    "    .rename(\"extraction\")\n",
    ")\n",
    "\n",
    "# Plotting the extraction\n",
    "fig, ax = plt.subplots(1, 1, figsize=(10, 4))\n",
    "well.plot(ax=ax, color=\"C0\", ls=\"\", marker=\".\", markersize=2)\n",
    "\n",
    "# Formatting the figure\n",
    "ax.set_ylabel(\"Extraction [m$^3$/day]\")\n",
    "ax.set_xlabel(\"Date\")\n",
    "ax.set_title(\"Extraction Well 1\")"
   ]
  },
  {
   "cell_type": "markdown",
   "metadata": {},
   "source": [
    "### Developing the Time Series Model\n",
    "\n",
    "A model is developed for the hydraulic head observations, with a separate model set up for each monitoring well. The full time series is used for all wells. No outliers were found in the data, so there is no need for preprocessing the measurement series.\n",
    "\n",
    "Precipitation and evaporation are used as explanatory series. A response function is chosen for these explanatory inputs. The response function describes how the hydraulic head reacts to an external influence. For the time series models, the Gamma response function is chosen for both precipitation and evaporation. This response function is individually optimized for each time series model.\n",
    "\n",
    "In the model, the same response function is used for both precipitation and evaporation. The relationship between them is described by the formula  \n",
    "$R = P - f \\cdot E$,  \n",
    "where $R$ is the groundwater recharge [m], $P$ is the precipitation [m], $f$ is the evaporation factor [-], and $E$ is the evaporation [m]. The evaporation factor is optimized by the time series model.\n",
    "\n",
    "In addition, the extraction is also used as an explanatory series. For this explanatory series, the Hantush response function is chosen. Besides the explanatory variables, the constant term (denoted as *d* in the model) is also optimized.\n",
    "\n",
    "With these explanatory series and chosen response functions, the time series models are optimized."
   ]
  },
  {
   "cell_type": "code",
   "execution_count": null,
   "metadata": {
    "tags": []
   },
   "outputs": [],
   "source": [
    "# Set up the model\n",
    "ml = ps.Model(PB1)\n",
    "\n",
    "# Add precipitation and evaporation as explanatory series\n",
    "sm1 = ps.RechargeModel(rain, evap, rfunc=ps.Gamma(), name=\"recharge\")\n",
    "\n",
    "# Add extraction as an explanatory series\n",
    "sm2 = ps.StressModel(\n",
    "    stress=well, rfunc=ps.Hantush(), name=\"extraction\", settings=\"well\", up=False\n",
    ")\n",
    "ml.add_stressmodel([sm1, sm2])\n",
    "\n",
    "# Solve the time series model\n",
    "ml.solve(report=False)\n",
    "\n",
    "# Simulate the groundwater head\n",
    "gws_simulation1 = ml.simulate()"
   ]
  },
  {
   "cell_type": "markdown",
   "metadata": {},
   "source": [
    "The time series model for PB1 has an R² of 0.93. Using the model, the observed hydraulic head can be simulated accurately. The simulation of the time series model for PB1 is shown in the figure below. In this figure, the effect of each input series is shown as a separate contribution. It can be seen that the extraction causes the hydraulic head to decrease by approximately -2.5 to -1.5 meters.\n"
   ]
  },
  {
   "cell_type": "code",
   "execution_count": null,
   "metadata": {
    "tags": []
   },
   "outputs": [],
   "source": [
    "ml.plots.decomposition(figsize=(10, 8));"
   ]
  },
  {
   "cell_type": "markdown",
   "metadata": {},
   "source": [
    "For monitoring well PB2, a time series model was set up using the same explanatory series."
   ]
  },
  {
   "cell_type": "code",
   "execution_count": null,
   "metadata": {
    "tags": []
   },
   "outputs": [],
   "source": [
    "# Set up the model\n",
    "ml2 = ps.Model(PB2)\n",
    "\n",
    "# Add precipitation and evaporation as explanatory series\n",
    "sm1 = ps.RechargeModel(rain, evap, rfunc=ps.Gamma(), name=\"recharge\")\n",
    "\n",
    "# Add extraction as an explanatory series\n",
    "sm2 = ps.StressModel(\n",
    "    stress=well, rfunc=ps.Hantush(), name=\"extraction\", settings=\"well\", up=False\n",
    ")\n",
    "ml2.add_stressmodel([sm1, sm2])\n",
    "\n",
    "# Solve the time series model\n",
    "ml2.solve(report=False)\n",
    "\n",
    "# Simulate the groundwater head\n",
    "gws_simulation2 = ml2.simulate()"
   ]
  },
  {
   "cell_type": "markdown",
   "metadata": {},
   "source": [
    "It can be seen that the time series model has an R² of 0.91. The figure below shows the simulated hydraulic head. In addition, the contribution of each influencing factor is shown separately. It can be observed that the extraction causes the hydraulic head to decrease by approximately -1 to -2 meters. This decrease is less than the one determined at the location of PB1. This matches the hydrological expectation, as PB2 is located farther from the extraction point than PB1.\n"
   ]
  },
  {
   "cell_type": "code",
   "execution_count": null,
   "metadata": {
    "tags": []
   },
   "outputs": [],
   "source": [
    "axes = ml2.plots.decomposition(figsize=(10, 8))"
   ]
  },
  {
   "cell_type": "markdown",
   "metadata": {},
   "source": [
    "Finally, a time series model was also developed for monitoring well PB3."
   ]
  },
  {
   "cell_type": "code",
   "execution_count": null,
   "metadata": {
    "tags": []
   },
   "outputs": [],
   "source": [
    "# Set up the model\n",
    "ml3 = ps.Model(PB3)\n",
    "\n",
    "# Add precipitation and evaporation as explanatory series\n",
    "sm1 = ps.RechargeModel(rain, evap, rfunc=ps.Gamma(), name=\"recharge\")\n",
    "\n",
    "# Add extraction as an explanatory series\n",
    "sm2 = ps.StressModel(\n",
    "    stress=well, rfunc=ps.Hantush(), name=\"extraction\", settings=\"well\", up=False\n",
    ")\n",
    "ml3.add_stressmodel([sm1, sm2])\n",
    "\n",
    "# Solve the time series model\n",
    "ml3.solve(report=False)\n",
    "\n",
    "# Simulate the groundwater head\n",
    "gws_simulation3 = ml3.simulate()"
   ]
  },
  {
   "cell_type": "markdown",
   "metadata": {},
   "source": [
    "The time series model has an R² of 0.86. The simulated series is shown in the figure below. The contribution of each influencing factor is displayed. This shows the effect of each input series as modeled. It can be seen that the decrease in hydraulic head due to the extraction is approximately between -0.5 and -1 meter. At this distance, the effect of the extraction is still visible in the hydraulic head time series.\n"
   ]
  },
  {
   "cell_type": "code",
   "execution_count": null,
   "metadata": {
    "tags": []
   },
   "outputs": [],
   "source": [
    "_ = ml3.plots.decomposition(figsize=(10, 8))"
   ]
  },
  {
   "cell_type": "markdown",
   "metadata": {},
   "source": [
    "## Lowering Due to Extraction\n",
    "\n",
    "The table below presents the average reductions as determined through the time series analysis. Since the monitoring wells have different measurement periods, the average extraction during each period is considered, and the average reduction per 10,000 m³/day is calculated.\n",
    "\n",
    "| Monitoring Well | Distance [m] | Average Lowering [m] | Average Extraction [m³/day] | Average Lowering per 10,000 m³/day [m] |\n",
    "|-----------------|:------------:|:---------------------:|:----------------------------:|:--------------------------------------:|\n",
    "| PB1             | 112          | -2.12                 | 24,985                       | -0.85                                   |\n",
    "| PB2             | 180          | -1.57                 | 25,129                       | -0.63                                   |\n",
    "| PB3             | 321          | -0.81                 | 23,448                       | -0.35                                   |\n",
    "\n",
    "In the figure below, the average calculated reductions per 10,000 m³/day are plotted against the distance to the extraction well. The aquifer in the area is uniform, so it is expected that at a distance of 500 meters — the distance between the nature area and the extraction — a significant reduction will occur due to the extraction at the current discharge rate (approximately 20,000 m³/day).\n"
   ]
  },
  {
   "cell_type": "code",
   "execution_count": null,
   "metadata": {
    "tags": []
   },
   "outputs": [],
   "source": [
    "# Calculate average lowering due to extraction\n",
    "avg_lowering_1 = ml.get_contribution(\"extraction\").mean()\n",
    "avg_lowering_2 = ml2.get_contribution(\"extraction\").mean()\n",
    "avg_lowering_3 = ml3.get_contribution(\"extraction\").mean()\n",
    "\n",
    "# Calculate average extraction over the observation period for each well\n",
    "avg_extraction_1 = well[PB1.index[0] : PB1.index[-1]].mean()\n",
    "avg_extraction_2 = well[PB2.index[0] : PB2.index[-1]].mean()\n",
    "avg_extraction_3 = well[PB3.index[0] : PB3.index[-1]].mean()\n",
    "\n",
    "# Normalize lowering per 10,000 m³/day of extraction\n",
    "norm_lowering_1 = avg_lowering_1 / avg_extraction_1 * 10000\n",
    "norm_lowering_2 = avg_lowering_2 / avg_extraction_2 * 10000\n",
    "norm_lowering_3 = avg_lowering_3 / avg_extraction_3 * 10000\n",
    "\n",
    "# Distances to the extraction well\n",
    "dist_1 = 112\n",
    "dist_2 = 180\n",
    "dist_3 = 321\n",
    "\n",
    "# Plotting normalized lowering vs. distance\n",
    "fig, ax = plt.subplots(figsize=(10, 3))\n",
    "ax.plot(\n",
    "    np.array([dist_1, dist_2, dist_3]),\n",
    "    np.array([norm_lowering_1, norm_lowering_2, norm_lowering_3]),\n",
    "    color=\"C0\",\n",
    "    marker=\"o\",\n",
    "    ls=\"\",\n",
    ")\n",
    "\n",
    "ax.axvline(x=0, ls=\"--\", color=\"b\", label=\"Well location\")\n",
    "ax.axhline(y=0, ls=\"--\", color=\"k\")\n",
    "ax.set_xlim(-10, 500)\n",
    "ax.set_ylim(-2, 0.2)\n",
    "ax.set_xlabel(\"Distance to the well [m]\")\n",
    "ax.set_ylabel(\"Lowering per 10,000 m³/day [m]\")\n",
    "_ = ax.legend()"
   ]
  }
 ],
 "metadata": {
  "kernelspec": {
   "display_name": "test-examples (3.13.5)",
   "language": "python",
   "name": "python3"
  },
  "language_info": {
   "codemirror_mode": {
    "name": "ipython",
    "version": 3
   },
   "file_extension": ".py",
   "mimetype": "text/x-python",
   "name": "python",
   "nbconvert_exporter": "python",
   "pygments_lexer": "ipython3",
   "version": "3.13.5"
  }
 },
 "nbformat": 4,
 "nbformat_minor": 4
}
