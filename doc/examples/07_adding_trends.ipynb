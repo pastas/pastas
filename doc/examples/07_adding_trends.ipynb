{
 "cells": [
  {
   "attachments": {},
   "cell_type": "markdown",
   "metadata": {},
   "source": [
    "# Adding trends\n",
    "*R.A. Collenteur (University of Graz), O.N. Ebbens (Artesia)*\n",
    "\n",
    "In this notebook it is explained how to use linear and step trend models to improve the simulation of groundwater levels."
   ]
  },
  {
   "cell_type": "code",
   "execution_count": null,
   "metadata": {},
   "outputs": [],
   "source": [
    "import pandas as pd\n",
    "import pastas as ps\n",
    "\n",
    "ps.set_log_level(\"ERROR\")\n",
    "ps.show_versions()"
   ]
  },
  {
   "cell_type": "markdown",
   "metadata": {},
   "source": [
    "## 1. Modeling a linear trend\n",
    "In this first example we look at a model where a linear trend is used to improve the simulation of the groundwater levels. The linear trend is modeled using the `LinearTrend` stress model. We start with a model where we try to explain the groundwater level fluctuations using precipitation and evaporation. A simple non-linear recharge model is used to translate these fluxes into recharge and finally groundwater levels."
   ]
  },
  {
   "cell_type": "code",
   "execution_count": null,
   "metadata": {},
   "outputs": [],
   "source": [
    "# Load the input data\n",
    "evap = pd.read_csv(\"data/evap_260.csv\", index_col=0, parse_dates=[0]).squeeze()\n",
    "rain = pd.read_csv(\"data/rain_260.csv\", index_col=0, parse_dates=[0]).squeeze()\n",
    "head = pd.read_csv(\"data/B32C0609001.csv\", index_col=0, parse_dates=True).squeeze()\n",
    "\n",
    "# Create a Pastas model\n",
    "ml = ps.Model(head)\n",
    "\n",
    "# Add a recharge model\n",
    "rch = ps.rch.FlexModel()\n",
    "rm = ps.RechargeModel(rain, evap, recharge=rch, rfunc=ps.Exponential(), name=\"rch\")\n",
    "ml.add_stressmodel(rm)\n",
    "\n",
    "# Solve and plot the model\n",
    "ml.solve(noise=False, tmin=\"1990\", report=False)  # Get better initial estimated first\n",
    "ml.solve(noise=True, tmin=\"1990\", initial=False, report=False)\n",
    "ml.plots.results(figsize=(10, 6));"
   ]
  },
  {
   "cell_type": "markdown",
   "metadata": {},
   "source": [
    "### Add linear trend to the model\n",
    "Clearly the model fit with the data in the above figure is not so good. Looking at the model residuals (simulation - observation) we can observe a steady upward trend in the residuals. Let's try and add a linear trend to the model to improve the groundwater level simulation."
   ]
  },
  {
   "cell_type": "code",
   "execution_count": null,
   "metadata": {},
   "outputs": [],
   "source": [
    "# Add a linear trend\n",
    "tm = ps.LinearTrend(start=\"1990-01-01\", end=\"2020-01-01\", name=\"trend\")\n",
    "ml.add_stressmodel(tm)\n",
    "\n",
    "# Solve the model\n",
    "ml.solve(noise=False, tmin=\"1990\", report=False)  # Get better initial estimated first\n",
    "ml.solve(noise=True, tmin=\"1990\", initial=False, report=False)\n",
    "ml.plots.results(figsize=(10, 6));"
   ]
  },
  {
   "cell_type": "markdown",
   "metadata": {},
   "source": [
    "## 2. Modeling a step trend\n",
    "In this example the modeling of step trends in groundwater level time series is explored. Step trends can be used when a system change has taken place during the observation period, for example a lowering of the surrounding water levels. Here we model a groundwater level time series observed near the city of Eindhoven in the Netherlands that has undergone a structural change during the time of observation. The change has taken place in 2012, but unfortunately no observations are available for the period when the change was made.\n",
    "\n",
    "### model with precipitation and evaporation\n",
    "First a model with only precipitation and potential evaporation as explanatory variables is created. It can be observed that the peak in the groundwater levels after 2012 lie about 0.5 meters lower that the peaks before 2012. This can also be observed by studying the model residuals, which show a different mean for the period before 2012 and after 2012."
   ]
  },
  {
   "cell_type": "code",
   "execution_count": null,
   "metadata": {},
   "outputs": [],
   "source": [
    "p = pd.read_csv(\"data/nb18_rain.csv\", index_col=0, parse_dates=True).squeeze()\n",
    "e = pd.read_csv(\"data/nb18_evap.csv\", index_col=0, parse_dates=True).squeeze()\n",
    "h = pd.read_csv(\"data/nb18_head.csv\", index_col=0, parse_dates=True).squeeze()\n",
    "\n",
    "ml = ps.Model(h.iloc[::10])\n",
    "\n",
    "sm = ps.RechargeModel(\n",
    "    p, e, name=\"recharge\", rfunc=ps.Exponential(), recharge=ps.rch.Linear()\n",
    ")\n",
    "ml.add_stressmodel(sm)\n",
    "ml.solve(report=False)\n",
    "\n",
    "ml.plots.results(figsize=(10, 5));"
   ]
  },
  {
   "cell_type": "markdown",
   "metadata": {},
   "source": [
    "### Adding a step trend\n",
    "Clearly, the model creating above has room for improvements. Since we know a system change has taken place around 2012, we can try and simulate this system change by adding a step trend. We do not know the absolute size of this step trend, only the time when it has taken place (1st of July 2012). The `StepModel` is available in Pastas to add a step trend to a model. This stress model does not require a independent time series, but a(indication of) the date of the system change instead. By deault the `StepModel` applies an instantaneous step in the groundwater level, using the `One` response function. it is however also possible to choose a more gradual change by applying another type of response function."
   ]
  },
  {
   "cell_type": "code",
   "execution_count": null,
   "metadata": {},
   "outputs": [],
   "source": [
    "step = ps.StepModel(tstart=pd.Timestamp(\"2012-07-01\"), name=\"step\", up=None)\n",
    "ml.add_stressmodel(step)\n",
    "ml.solve(report=False)\n",
    "\n",
    "ml.plots.results(figsize=(10, 5));"
   ]
  },
  {
   "cell_type": "markdown",
   "metadata": {},
   "source": [
    "## Diagnostic checking\n",
    "In the following, the uncertainty of the estimated step trend is evaluated. Before we quantify the uncertainty, we perform some model diagnostic checks on the noise time series using `ps.plots.diagnostics()`. From this plot, we can say that the noise looks normally distributed and has no significant autocorrelation. Thus we may use the standard errors of the estimated parameters to quantify the uncertainty of the estimated step trend."
   ]
  },
  {
   "cell_type": "code",
   "execution_count": null,
   "metadata": {},
   "outputs": [],
   "source": [
    "ml.plots.diagnostics(figsize=(10, 4));"
   ]
  },
  {
   "cell_type": "markdown",
   "metadata": {},
   "source": [
    "## 3. Uncertainty of step trend\n",
    "Below we draw the 95% confidence interval of the step trend. We may use this confidence interval to interpret the results. For example, if we know or expect that the step trend is negative, we can reject the step trend from the model if the confidence interval also includes positive step trends. In this example this is not the case and the estimated step trend is always negative as expected."
   ]
  },
  {
   "cell_type": "code",
   "execution_count": null,
   "metadata": {
    "scrolled": true
   },
   "outputs": [],
   "source": [
    "ci = ml.fit.ci_contribution(\"step\", alpha=0.05)\n",
    "axes = ml.plots.results(adjust_height=False, figsize=(10, 5))\n",
    "axes[-2].fill_between(ci.index, ci.iloc[:, 0], ci.iloc[:, 1], zorder=-10, alpha=0.5);"
   ]
  },
  {
   "cell_type": "markdown",
   "metadata": {},
   "source": [
    "## 4. Effect of system changes\n",
    "Sometimes changes to a groundwater system cannot be easily modelled using a step trend. For example when the system change causes a different response of the groundwater to recharge. In that case there are other methods to visualise the effect of the system change on the groundwater head. Two of these methods are shown below:\n",
    "\n",
    "1. Fit the model on the observations before the system change. Use this model to simulate the groundwater head after the system change. The differences between simulated groundwater heads an observations are an indication of the effect of the system change on the groundwater head.\n",
    "2. similar to method 1. Now the model is fit on the period **after** the system change and groundwater heads are simulated for the period **before** the system change. "
   ]
  },
  {
   "cell_type": "code",
   "execution_count": null,
   "metadata": {},
   "outputs": [],
   "source": [
    "# method 1\n",
    "ml_before = ps.Model(h.iloc[::10][:\"2012-07-01\"])\n",
    "\n",
    "sm = ps.RechargeModel(\n",
    "    p, e, name=\"recharge\", rfunc=ps.Exponential(), recharge=ps.rch.Linear()\n",
    ")\n",
    "ml_before.add_stressmodel(sm)\n",
    "ml_before.solve(report=False)\n",
    "\n",
    "ax = h.iloc[::10].plot(marker=\".\", color=\"k\", ls=\"none\", label=\"head\", figsize=(10, 3))\n",
    "ml_before.simulate().plot(ax=ax, label=\"model fit\")\n",
    "ml_before.simulate(tmin=\"2012-07-01\", tmax=h.iloc[::10].index[-1]).plot(\n",
    "    ax=ax, label=\"simulation\"\n",
    ")\n",
    "\n",
    "ax.legend(ncol=3)\n",
    "ax.grid()"
   ]
  },
  {
   "cell_type": "code",
   "execution_count": null,
   "metadata": {},
   "outputs": [],
   "source": [
    "# method 2\n",
    "ml_after = ps.Model(h.iloc[::10][pd.Timestamp(\"2012-07-01\") :])\n",
    "\n",
    "sm = ps.RechargeModel(\n",
    "    p, e, name=\"recharge\", rfunc=ps.Exponential(), recharge=ps.rch.Linear()\n",
    ")\n",
    "ml_after.add_stressmodel(sm)\n",
    "ml_after.solve(report=False)\n",
    "\n",
    "\n",
    "ax = h.iloc[::10].plot(marker=\".\", color=\"k\", ls=\"none\", label=\"head\", figsize=(10, 3))\n",
    "ml_after.simulate().plot(ax=ax, label=\"model fit\")\n",
    "ml_after.simulate(tmin=h.iloc[::10].index[0], tmax=pd.Timestamp(\"2012-07-01\")).plot(\n",
    "    ax=ax, label=\"simulation\"\n",
    ")\n",
    "\n",
    "ax.legend(ncol=3)\n",
    "ax.grid()"
   ]
  },
  {
   "cell_type": "markdown",
   "metadata": {},
   "source": [
    "<div class=\"alert alert-block alert-info admonition-tip\">\n",
    "<b>Tip:</b> In principle it is possible to estimate the date of the change by varying the `step_tstart` parameter. In practice however estimating such a date is rather difficult and not recommended.   \n",
    "</div>  \n",
    "\n",
    "## References\n",
    "- Precipitation time series are taken from the KNMI weather station in Helmond\n",
    "- Potential evaporation time series are taken from KNMI meteorological station in Eindhoven\n",
    "- The groundwater level time series are taken from Dinoloket (B51G2150, Filter 1)"
   ]
  }
 ],
 "metadata": {
  "kernelspec": {
   "display_name": "Python 3 (ipykernel)",
   "language": "python",
   "name": "python3"
  },
  "language_info": {
   "codemirror_mode": {
    "name": "ipython",
    "version": 3
   },
   "file_extension": ".py",
   "mimetype": "text/x-python",
   "name": "python",
   "nbconvert_exporter": "python",
   "pygments_lexer": "ipython3",
   "version": "3.10.5"
  }
 },
 "nbformat": 4,
 "nbformat_minor": 4
}
