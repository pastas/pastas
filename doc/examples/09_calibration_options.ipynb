{
 "cells": [
  {
   "cell_type": "markdown",
   "metadata": {},
   "source": [
    "# Calibrating Pastas models\n",
    "*R.A. Collenteur, University of Graz*\n",
    "\n",
    "After a model is constructed, the model parameters can be estimated using the `ml.solve` method. It can (and will) happen that the model fit after solving is not as good as expected. This may be the result of the settings that are used to solve the model or the way the model was constructed. In this notebook common pitfalls and various tips and tricks that may help to improve the calibration of Pastas models are shared. \n",
    "\n",
    "In general, the following strategy is advised to solve problems with the parameter estimation:\n",
    "\n",
    "1. Check the input time series and solve settings\n",
    "2. Change the initial parameters,\n",
    "3. Change the model structure,\n",
    "4. Change the solve method."
   ]
  },
  {
   "cell_type": "code",
   "execution_count": null,
   "metadata": {},
   "outputs": [],
   "source": [
    "import pandas as pd\n",
    "import matplotlib.pyplot as plt\n",
    "import pastas as ps\n",
    "\n",
    "ps.show_versions()\n",
    "ps.set_log_level(\"ERROR\")"
   ]
  },
  {
   "cell_type": "markdown",
   "metadata": {},
   "source": [
    "## Loading the data \n",
    "In the following code-block some example data is loaded. It is good practice to visualize all time series before creating the time series model."
   ]
  },
  {
   "cell_type": "code",
   "execution_count": null,
   "metadata": {},
   "outputs": [],
   "source": [
    "head = (\n",
    "    pd.read_csv(\"data/B32C0639001.csv\", parse_dates=[\"date\"], index_col=\"date\")\n",
    "    .squeeze()\n",
    "    .loc[\"1985\":]\n",
    ")\n",
    "\n",
    "# Make this millimeters per day\n",
    "evap = (\n",
    "    pd.read_csv(\"data/evap_260.csv\", index_col=0, parse_dates=[0])\n",
    "    .squeeze()\n",
    "    .loc[\"1985\":\"2003\"]\n",
    ")\n",
    "rain = (\n",
    "    pd.read_csv(\"data/rain_260.csv\", index_col=0, parse_dates=[0])\n",
    "    .squeeze()\n",
    "    .loc[\"1985\":\"2003\"]\n",
    ")\n",
    "\n",
    "ps.plots.series(head, [evap, rain]);"
   ]
  },
  {
   "cell_type": "markdown",
   "metadata": {},
   "source": [
    "## Make a model\n",
    "\n",
    "Given the data above we create a Pastas model with a non-linear recharge model (`ps.FlexModel`) and a constant to simulate the groundwater level. We'll use this model to show how we may analyse different types of problems and how to solve them. "
   ]
  },
  {
   "cell_type": "code",
   "execution_count": null,
   "metadata": {},
   "outputs": [],
   "source": [
    "ml = ps.Model(head)\n",
    "rch = ps.rch.FlexModel()\n",
    "rm = ps.RechargeModel(rain, evap, recharge=rch, rfunc=ps.Gamma(), name=\"rch\")\n",
    "ml.add_stressmodel(rm)"
   ]
  },
  {
   "cell_type": "markdown",
   "metadata": {},
   "source": [
    "## Calibrating a model\n",
    "In the above code-block a Pastas model was created, but not yet solved. To solve the model we call `ml.solve()`. This method has quite a few options (see also the docstring of the method) that influence the model calibration, for example:\n",
    "\n",
    "- `tmin/tmax`: select the time period used for calibration\n",
    "- `noise`: use a noise model to model the residuals or not\n",
    "- `fit_constant`: fit the constant as a parameter or not\n",
    "- `warmup`: length of the warmup period\n",
    "- `solver`: the solver that is used to estimate parameters\n",
    "\n",
    "We start without providing any arguments to the solve method."
   ]
  },
  {
   "cell_type": "code",
   "execution_count": null,
   "metadata": {},
   "outputs": [],
   "source": [
    "# ml.solve?  ## Run this to see other solve options\n",
    "ml.solve()\n",
    "ml.plots.results(figsize=(10, 6));"
   ]
  },
  {
   "cell_type": "markdown",
   "metadata": {},
   "source": [
    "The fit report and the Figure above show that the model is not that great. The parameters have large standard errors, the goodness-of-fit metrics are not that high, and the simulated time series shows a very different behavior to the observed groundwater level. \n",
    "\n",
    "## Checking the explanatory time series and solve settings\n",
    "\n",
    "A common pitfall is that there is a problem with the explanatory time series (e.g., precipitation, pumping discharge). This should be the first thing to check when the model fit is not as good as expected. \n",
    "\n",
    "- **Length of Time Series:** The time series should in principle be available for the entire period of calibration, \n",
    "- **Warmup Period:** For some models it is necessary that the time series are also available before the calibration period, during the warmup period. This is for example the case with the non-linear recharge models (e.g., FlexModel, Berendrecht).\n",
    "- **Units of Time Series (1):** While Pastas is in principle unitless, the units of the time series can impact the model calibration. For example, a pumping discharge provided in m$^3$/day may lead to very small parameter values ('Gamma_A') that are harder to esimate. If you end up with very small parameters for the gain parameter, it may help to rescale the input time series.\n",
    "- **Units of Time Series (2):** The initial parameters and bounds for the non-linear recharge models are set for precipitation and evaporaton time series provided in mm/day. Using these models with time series in m/day will give bad results.\n",
    "- **Normalization of Time Series:** Sometimes it can help to normalize the expanatory time series. For example, when using a river level that is high above a certain datum (e.g. tens of meters), it may help to subtract the mean water level from the time series first.\n",
    "\n",
    "In the example model, many of these things are happening. First, the precipitation time series are not available for the entire calibration period. Secondly, because a non-linear model is applied, we need to to have precipitation and evaporation data before the calibration period starts (typically about one year is enough). We should therefore shorten the calibration period by using to 1986-2003. Note that we use 3650 days for the warmup period (`warmup=3650` is the default), the last 365 days of which now has real precipitation and evaporation data . For the other 9 years the mean flux is used. Finally, the non-linear model requires the evaporation and precipitation in mm/day (unless we want to manually set all parameter bounds). "
   ]
  },
  {
   "cell_type": "code",
   "execution_count": null,
   "metadata": {},
   "outputs": [],
   "source": [
    "ml = ps.Model(head)\n",
    "rch = ps.rch.FlexModel()\n",
    "rm = ps.RechargeModel(\n",
    "    rain * 1e3, evap * 1e3, recharge=rch, rfunc=ps.Gamma(), name=\"rch\"\n",
    ")\n",
    "ml.add_stressmodel(rm)\n",
    "\n",
    "ml.solve(tmin=\"1986\", tmax=\"2003\", report=False)\n",
    "axes = ml.plots.results(\n",
    "    tmin=\"1975\", figsize=(10, 6)\n",
    ")  # Use tmin=1975 to show warmup period\n",
    "axes[0].axvline(\"1986\", c=\"k\", linestyle=\"--\");  # Start of calibration"
   ]
  },
  {
   "cell_type": "markdown",
   "metadata": {},
   "source": [
    "Changing the explanatory time series and using the correct calibration period definitely improve the model fit in this example. Changing the explanatory time series a bit generally helps to resolve many issues with the calibration. If this does not work, we may try to help the solver a bit.\n",
    "\n",
    "## Improving initial parameters\n",
    "Although Pastas tries to set sensible initial parameters when constructing a model, it occurs that the initial parameters set by Pastas are not a great place to start the search for the optimal parameters. In this case, it may be tried to manually adapt the initial parameters using the `ml.set_parameter` as follows:"
   ]
  },
  {
   "cell_type": "code",
   "execution_count": null,
   "metadata": {},
   "outputs": [],
   "source": [
    "ml.set_parameter(\"rch_n\", initial=15)  # Clearly wrong, just for educational purposes\n",
    "ml.solve(noise=True, tmin=\"1986\", tmax=\"2003\", report=True)"
   ]
  },
  {
   "cell_type": "markdown",
   "metadata": {},
   "source": [
    "Often we do not know what good initial parameters are, but we do get a bad fit, like with this initial value for `rch_n` above. While solving the model with a noise model is recommended, it does make the parameter estimation more difficult and more sensitive to the initial parameter values. One solution that often helps is to first solve the model without a noise model, and then solve the model with a noise model but without re-initializing the parameters. \n",
    "\n",
    "By default the parameters are initialized upon each solve, such that each time we call solve we obtain the same result. By setting `initial=False` we prevent the re-initialisation and use the optimal parameters as initial parameters. This can be done as follows:"
   ]
  },
  {
   "cell_type": "code",
   "execution_count": null,
   "metadata": {},
   "outputs": [],
   "source": [
    "ml.solve(\n",
    "    noise=False, report=False, tmin=\"1986\", tmax=\"2003\"\n",
    ")  # First solve without noise model\n",
    "ml.solve(\n",
    "    noise=True, initial=False, tmin=\"1986\", tmax=\"2003\", report=True\n",
    ")  # Then solve with noise model, but do not initialize the parameters\n",
    "axes = ml.plots.results(figsize=(10, 6))"
   ]
  },
  {
   "attachments": {},
   "cell_type": "markdown",
   "metadata": {},
   "source": [
    "After solving the model without a noise model (providing the solver an easier problem), we solve again with the parameter estimated from the solve without a noise model. This generally works well. We may also choose to fix parameters that are hard to estimate, perhaps because they are correlated to other parameters, to certain values.\n",
    "\n",
    "## Changing the model structure\n",
    "At this point, one might start to think that the bad fit has something to do with the model structure. This could off course be an explanatory time series that is missing, but let's assume that is not the case. One thing that might help is to change the response function. This can either be from a complicated function to a simpler function (e.g., Gamma to Exponential) or the other way around (e.g., Gamma to FourParam). Another option could be to change other parts of the model structure, for example by applying a non-linear recharge model instead of a linear model."
   ]
  },
  {
   "cell_type": "code",
   "execution_count": null,
   "metadata": {},
   "outputs": [],
   "source": [
    "## Example to be added"
   ]
  },
  {
   "attachments": {},
   "cell_type": "markdown",
   "metadata": {},
   "source": [
    "## More advanced solve options\n",
    "If all of the above does not work, and we still think we have the right model structure and explanatory time series, we can for example:\n",
    "\n",
    "- Don't fit the constant. By default the constant (`constant_d`) is estimated as a parameter in Pastas. In specific cases it may help to turn this option off (`ml.solve(fit_constant=False)`).\n",
    "- Switch the solver. `ps.LeastSquares()` is used by default, but `ps.LmfitSolve()` provides a lot of different methods for the parameter estimation, from simple least_squares to the use of MCMC.\n",
    "- Remove observations from the groundwater level time series . The use of high frequency measurements is known to cause issues when trying to solve a model when using a noise model. See also the example notebook \"Reducing Autocorrelation\"."
   ]
  },
  {
   "cell_type": "markdown",
   "metadata": {},
   "source": [
    "## Summary of Tips & Tricks\n",
    "In this notebook a variety of methods to improve the calibration result and model fit for Pastas models were shown. Although a specific type of model was used here to demonstrate these methods, the strategy can be applied to other types of time series and model structures as well.\n",
    "\n",
    "A summary of all tips and tricks that may help to improve the model calibration given below: \n",
    "\n",
    "- Change units of input time series\n",
    "- Normalize the input time series\n",
    "- Change calibration period\n",
    "- Lengthen the warmup period\n",
    "- Solve first without, then with a noise model\n",
    "- Manually change initial parameters\n",
    "- Fix parameters\n",
    "- Change response functions\n",
    "- Fit constant or not\n",
    "- Try a different solve method\n",
    "- Remove observations"
   ]
  }
 ],
 "metadata": {
  "kernelspec": {
   "display_name": "artesia",
   "language": "python",
   "name": "python3"
  },
  "language_info": {
   "codemirror_mode": {
    "name": "ipython",
    "version": 3
   },
   "file_extension": ".py",
   "mimetype": "text/x-python",
   "name": "python",
   "nbconvert_exporter": "python",
   "pygments_lexer": "ipython3",
   "version": "3.9.7 | packaged by conda-forge | (default, Sep 29 2021, 19:20:46) \n[GCC 9.4.0]"
  },
  "vscode": {
   "interpreter": {
    "hash": "dace5e1b41a98a8e52d2a8eebc3b981caf2c12e7a76736ebfb89a489e3b62e79"
   }
  }
 },
 "nbformat": 4,
 "nbformat_minor": 4
}
