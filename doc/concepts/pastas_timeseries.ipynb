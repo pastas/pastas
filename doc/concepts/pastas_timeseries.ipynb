{
 "cells": [
  {
   "cell_type": "markdown",
   "metadata": {},
   "source": [
    "# Pastas TimeSeries\n",
    "    \n",
    "*Developed by Raoul Collenteur* \n",
    "\n",
    "In this Jupyter Notebook, the concept of the `pastas.TimeSeries` class is explained in full detail. \n",
    "\n",
    "**Objective of the Pastas TimeSeries class:**\n",
    "\n",
    "\"*To create one class that deals with all user-provided time series and the manipulations of the series while maintaining the original series.*\"\n",
    "\n",
    "**Desired Capabilities:**\n",
    "The central idea behind the TimeSeries class is to solve all data manipulations in a single class while maintaining the original time series. While manipulating the TimeSeries when working with your Pastas model, the original data are to be maintained such that only the settings and the original series can be stored. \n",
    "- Validate user-provided time series\n",
    "- Extend before and after\n",
    "- Fill nan-values\n",
    "- Change frequency\n",
    "    - Upsample\n",
    "    - Downsample \n",
    "- Normalize values\n",
    "\n",
    "**Resources**\n",
    "The definition of the class can be found on Github (https://github.com/pastas/pastas/blob/master/pastas/timeseries.py)\n",
    "Documentation on the Pandas Series can be found here: http://pandas.pydata.org/pandas-docs/stable/generated/pandas.Series.html\n"
   ]
  },
  {
   "cell_type": "code",
   "execution_count": null,
   "metadata": {},
   "outputs": [],
   "source": [
    "# Import some packages\n",
    "import pastas as ps\n",
    "import pandas as pd\n",
    "import matplotlib.pyplot as plt\n",
    "\n",
    "%matplotlib inline\n",
    "\n",
    "ps.show_versions()"
   ]
  },
  {
   "cell_type": "markdown",
   "metadata": {},
   "source": [
    "##  1. Importing groundwater time series\n",
    "Let's first import some time series so we have some data to play around with. We use Pandas read_csv method and obtain a Pandas Series object, pandas data structure to efficiently deal with 1D Time Series data. By default, Pandas adds a wealth of functionalities to a Series object, such as descriptive statistics (e.g. `series.describe()`) and plotting funtionality."
   ]
  },
  {
   "cell_type": "code",
   "execution_count": null,
   "metadata": {},
   "outputs": [],
   "source": [
    "gwdata = pd.read_csv(\n",
    "    \"../examples/data/head_nb1.csv\", parse_dates=[\"date\"], index_col=\"date\"\n",
    ").squeeze()\n",
    "gwdata.plot(figsize=(15, 4));"
   ]
  },
  {
   "cell_type": "markdown",
   "metadata": {},
   "source": [
    "## 2. Creating a Pastas TimeSeries object\n",
    "The user will provide time series data when creating a model instance, or one of the stressmodels found in stressmodels.py. Pastas expects Pandas Series as a standard format in which time series are provided, but will internally transform these to Pastas TimeSeries objects to add the necessary funtionality. It is therefore also possible to provide a TimeSeries object directly instead of a Pandas Series object.\n",
    "\n",
    "We will now create a TimeSeries object for the groundwater level (gwdata). When creating a TimeSeries object the time series that are provided are validated, such that Pastas can use the provided time series for simulation without errors. The time series are checked for:\n",
    "\n",
    "1. Being actual Pandas Series object;\n",
    "2. Making sure the indices are all TimeStamps;\n",
    "3. Making sure the indices are ordered in time;\n",
    "4. Dropping any nan-values before and after the first and final valid value;\n",
    "5. Frequency of the Series is inferred, or otherwise the user-provided value for \"freq\" is applied;\n",
    "6. Nan-values within the series are handled, depending on the value for the \"fill_nan\" argument;\n",
    "7. Duplicate indices are dropped from the series.\n",
    "\n",
    "If all of the above is OK, a TimeSeries object is returned. When valid time series are provided all of the above checks are no problem and no settings are required. However, all too often this is not the case and at least \"fill_nan\" and \"freq\" are required. The first argument tells the TimeSeries object how to handle nan-values, and the freq argument provides the frequency of the original time series (by default, freq=D, fill_nan=\"interpolate\")."
   ]
  },
  {
   "cell_type": "code",
   "execution_count": null,
   "metadata": {},
   "outputs": [],
   "source": [
    "oseries = ps.TimeSeries(gwdata, name=\"Groundwater Level\")\n",
    "\n",
    "# Plot the new time series and the original\n",
    "plt.figure(figsize=(10, 4))\n",
    "oseries.plot(label=\"pastas timeseries\")\n",
    "gwdata.plot(label=\"original\")\n",
    "plt.legend()"
   ]
  },
  {
   "cell_type": "markdown",
   "metadata": {},
   "source": [
    "## 3. Configuring a TimeSeries object\n",
    "So let's see how we can configure a TimeSeries object. In the case of the observed groundwater levels (oseries) as in the example above, interpolating between observations might not be the preffered method to deal with gaps in your data. In fact, the do not have to be constant for simulation, one of the benefits of the method of impulse response functions. The nan-values can simply be dropped. To configure a TimeSeries object the user has three options:\n",
    "\n",
    "1. Use a predefined configuration by providing a string to the settings argument\n",
    "2. Manually set all or some of the settings by providing a dictonary to the settings argument\n",
    "3. Providing the arguments as keyword arguments to the TimeSeries object (not recommended)\n",
    "\n",
    "For example, when creating a TimeSeries object for the groundwater levels consider the three following examples for setting the fill_nan option:"
   ]
  },
  {
   "cell_type": "code",
   "execution_count": null,
   "metadata": {},
   "outputs": [],
   "source": [
    "# Options 1\n",
    "oseries = ps.TimeSeries(gwdata, name=\"Groundwater Level\", settings=\"oseries\")\n",
    "print(oseries.settings)"
   ]
  },
  {
   "cell_type": "code",
   "execution_count": null,
   "metadata": {},
   "outputs": [],
   "source": [
    "# Option 2\n",
    "oseries = ps.TimeSeries(\n",
    "    gwdata, name=\"Groundwater Level\", settings=dict(fill_nan=\"drop\")\n",
    ")\n",
    "print(oseries.settings)"
   ]
  },
  {
   "cell_type": "code",
   "execution_count": null,
   "metadata": {},
   "outputs": [],
   "source": [
    "# Options 3\n",
    "oseries = ps.TimeSeries(gwdata, name=\"Groundwater Level\", fill_nan=\"drop\")\n",
    "print(oseries.settings)"
   ]
  },
  {
   "cell_type": "markdown",
   "metadata": {},
   "source": [
    "### Predefined settings\n",
    "All of the above methods yield the same result. It is up to the user which one is preferred. \n",
    "\n",
    "A question that may arise with options 1, is what the possible strings for `settings` are and what configuration is then used.\n",
    "The TimeSeries class contains a dictionary with predefined settings that are used often. You can ask the TimeSeries class this question:"
   ]
  },
  {
   "cell_type": "code",
   "execution_count": null,
   "metadata": {
    "scrolled": true
   },
   "outputs": [],
   "source": [
    "pd.DataFrame(ps.TimeSeries._predefined_settings).T"
   ]
  },
  {
   "cell_type": "markdown",
   "metadata": {},
   "source": [
    "## 4. Let's explore the possibilities\n",
    "As said, Pastas TimeSeries are capable of handling time series in a way that is convenient for Pastas. \n",
    "\n",
    "- Changing the frequency of the time series (sample_up, sameple_down)\n",
    "- Extending the time series (fill_before and fill_after)\n",
    "- Normalizing the time series (norm *not fully supported yet)\n",
    "\n",
    "We will now import some precipitation series measured at a daily frequency and show how the above methods work"
   ]
  },
  {
   "cell_type": "code",
   "execution_count": null,
   "metadata": {},
   "outputs": [],
   "source": [
    "# Import observed precipitation series\n",
    "precip = pd.read_csv(\n",
    "    \"../examples/data/rain_nb1.csv\", parse_dates=[\"date\"], index_col=\"date\"\n",
    ").squeeze()\n",
    "prec = ps.TimeSeries(precip, name=\"Precipitation\", settings=\"prec\")"
   ]
  },
  {
   "cell_type": "code",
   "execution_count": null,
   "metadata": {},
   "outputs": [],
   "source": [
    "# fig, ax = plt.subplots(2, 1, figsize=(10,8))\n",
    "# prec.update_series(freq=\"D\")\n",
    "# prec.series.plot.bar(ax=ax[0])\n",
    "# prec.update_series(freq=\"7D\")\n",
    "# prec.series.plot.bar(ax=ax[1])\n",
    "\n",
    "# import matplotlib.dates as mdates\n",
    "# ax[1].fmt_xdata = mdates.DateFormatter('%m')\n",
    "# fig.autofmt_xdate()"
   ]
  },
  {
   "cell_type": "markdown",
   "metadata": {},
   "source": [
    "### Wait, what?\n",
    "We just changed the frequency of the TimeSeries. When reducing the frequency, the values were summed into the new bins. Conveniently, all pandas methods are still available and functional, such as the great plotting functionalities of Pandas.\n",
    "\n",
    "All this happened `inplace`, meaning the same object just took another shape based on the new settings. Moreover, it performed those new settings (`freq=\"W\"` weekly values) on the original series. This means that going back and forth between frequencies does not lead to any information loss. \n",
    "\n",
    "Why is this so important? Because when solving or simulating a model, the Model will ask every member of the TimeSeries family to prepare itself with the necessary settings (e.g. new freq) and perform that operation only once. When asked for a time series, the TimeSeries object will \"be\" in that new shape.\n",
    "\n",
    "### Some more action\n",
    "Let's say, we want to simulate the groundwater series for a period where no data is available for the time series, but we need some kind of value for the warmup period to prevent things from getting messy. The TimeSeries object can easily extend itself, as the following example shows. "
   ]
  },
  {
   "cell_type": "code",
   "execution_count": null,
   "metadata": {},
   "outputs": [],
   "source": [
    "prec.update_series(tmin=\"2011\")\n",
    "prec.plot()\n",
    "prec.settings"
   ]
  },
  {
   "cell_type": "markdown",
   "metadata": {},
   "source": [
    "## 5. Exporting the TimeSeries\n",
    "When done, we might want to store the TimeSeries object for later use. A `to_dict` method is built-in to export the original time series to a json format, along with its current settings and name. This way the original data is maintained and can easily be recreated from a json file. "
   ]
  },
  {
   "cell_type": "code",
   "execution_count": null,
   "metadata": {},
   "outputs": [],
   "source": [
    "data = prec.to_dict()\n",
    "print(data.keys())"
   ]
  },
  {
   "cell_type": "code",
   "execution_count": null,
   "metadata": {},
   "outputs": [],
   "source": [
    "# Tadaa, we have our extended time series in weekly frequency back!\n",
    "ts = ps.TimeSeries(**data)\n",
    "ts.plot()"
   ]
  }
 ],
 "metadata": {
  "kernelspec": {
   "display_name": "Python 3 (ipykernel)",
   "language": "python",
   "name": "python3"
  },
  "language_info": {
   "codemirror_mode": {
    "name": "ipython",
    "version": 3
   },
   "file_extension": ".py",
   "mimetype": "text/x-python",
   "name": "python",
   "nbconvert_exporter": "python",
   "pygments_lexer": "ipython3",
   "version": "3.9.7"
  },
  "vscode": {
   "interpreter": {
    "hash": "29475f8be425919747d373d827cb41e481e140756dd3c75aa328bf3399a0138e"
   }
  },
  "widgets": {
   "state": {},
   "version": "1.1.2"
  }
 },
 "nbformat": 4,
 "nbformat_minor": 4
}
