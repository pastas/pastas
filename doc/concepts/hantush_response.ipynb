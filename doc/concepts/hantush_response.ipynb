{
 "cells": [
  {
   "cell_type": "markdown",
   "metadata": {},
   "source": [
    "# Hantush response functions\n",
    "\n",
    "This notebook compares the two implementations of the Hantush response function in Pastas.\n",
    "\n",
    "*Developed by D.A. Brakenhoff (Artesia, 2021)*\n",
    "\n",
    "\n",
    "## Contents\n",
    "\n",
    "- [Hantush versus HantushWellModel](#Hantush-versus-HantushWellModel)\n",
    "- [Which Hantush should I use?](#Which-Hantush-should-I-use?)\n",
    "- [Synthetic example](#Synthetic-example)"
   ]
  },
  {
   "cell_type": "code",
   "execution_count": null,
   "metadata": {},
   "outputs": [],
   "source": [
    "import numpy as np\n",
    "import pandas as pd\n",
    "import pastas as ps\n",
    "import matplotlib.pyplot as plt\n",
    "\n",
    "ps.show_versions()\n",
    "ps.logger.setLevel(\"WARNING\")"
   ]
  },
  {
   "cell_type": "markdown",
   "metadata": {},
   "source": [
    "## Hantush versus HantushWellModel\n",
    "\n",
    "There are two implementations of the Hantush response functions in Pastas. The two implementations are very similar, but they differ in their intended application and their definition of the parameters. The table below shows the formulas for both implementations.\n",
    "\n",
    "\n",
    "| Name             | Fitting parameters  | Formula                                                                 | Description                                                                    |\n",
    "|------------------|-------------|:------------------------------------------------------------------------|--------------------------------------------------------------------------------|\n",
    "| Hantush          | 3 - A, a, b | $$ \\theta(t) = \\frac{A}{2t \\text{K}_0 \\left(2 \\sqrt{b} \\right)} e^{-t/a - ab/t} $$                               | Response function commonly used for groundwater abstraction wells.             |\n",
    "| HantushWellModel | 3 - A', a, b' | $$ \\theta(r,t) = \\frac{A^\\prime}{2t} e^{-t/a - ab^\\prime r^2/t} $$ | Implementation of the Hantush well function that allows scaling with distance. |"
   ]
  },
  {
   "cell_type": "markdown",
   "metadata": {},
   "source": [
    "The Hantush response function is intended for the simulation of the effect of a single pumping well. \n",
    "The Hantush implementation has three parameters: $A$, $a$, and $b$.  \n",
    "The parameter $A$ is also known as the \"gain\", which is equal to the steady-state contribution of a stress with unit 1. For example, the drawdown caused by a well with a continuous extraction rate of 1.0 (the units are determined by the units of the stress and head used in the model). The relationship between the parameters $A$, $a$, and $b$ and the physical parameters of the classic Hantush function are given in the notebook 'response_functions.ipynb'."
   ]
  },
  {
   "cell_type": "markdown",
   "metadata": {},
   "source": [
    "The HantushWellModel also has three parameters: $A^\\prime$, $a$, and $b'$. The HantushWellModel response function includes the distance $r$ between an extraction well and an observation well, which must be defined by the user as an input variable. This allows multiple wells to have the same response function, scaled by the distance $r$, which can be useful to reduce the number of parameters in a model with multiple extraction wells. Note that $r$ is a variable that must be provided by the user and is not a parameter that is optimized. The gain of the HantushWellModel function is\n",
    "$A^\\prime \\text{K}_0 \\left( 2 r \\sqrt{b^\\prime} \\right)$\n",
    "\n",
    "\n",
    "\n",
    "The relationship between the parameters of the Hantush function and the HantushWellModel function are\n",
    "$$\n",
    "\\begin{align*}\n",
    "\\frac{A}{\\text{K}_0(2r\\sqrt{b})} &= A^\\prime \\\\\n",
    "a &= a \\\\\n",
    "b &= b'r^2\n",
    "\\end{align*}\n",
    "$$\n",
    "\n"
   ]
  },
  {
   "cell_type": "markdown",
   "metadata": {},
   "source": [
    "## Pros and cons of both functions\n",
    "\n",
    "There advantages and disadvantages of both implementations are listed below.\n",
    "\n",
    "#### Hantush\n",
    "\n",
    "**Pro**:\n",
    "- Parameter A is the gain, which makes it easier to interpret the results.\n",
    "- Estimates the uncertainty of the gain directly.\n",
    "\n",
    "**Con**:\n",
    "- Cannot be used to simulate multiple wells.\n",
    "\n",
    "#### HantushWellModel\n",
    "\n",
    "**Pro**:\n",
    "- Can be used with WellModel to simulate multiple wells with one response function.\n",
    "\n",
    "**Con**:\n",
    "- Does not directly estimate the uncertainty of the gain; the uncertainty of the gain must be calculated using special methods.\n",
    "- More sensitive to the initial value of parameters. , The initial parameter values may have to be tweaked to get a good fit result.\n",
    "\n",
    "\n",
    "So which one should you use? It depends on your use-case:\n",
    "\n",
    "- Use `Hantush` if you are considering a single extraction well and you're interested in calculating the gain and the uncertainty of the gain.\n",
    "- Use `HantushWellModel` if you are simulating multiple extraction wells or want to pass the distance between extraction and observation well as a known parameter."
   ]
  },
  {
   "cell_type": "markdown",
   "metadata": {},
   "source": [
    "## Synthetic example \n",
    "\n",
    "A synthetic example is used to show both Hantush implementations. First, we create a synthetic timeseries generated with the Hantush response function to which we add autocorrelated residuals. We set the parameter values for the Hantush response function:"
   ]
  },
  {
   "cell_type": "code",
   "execution_count": null,
   "metadata": {},
   "outputs": [],
   "source": [
    "# A defined so that 100 m3/day results in 5 m drawdown\n",
    "Q = 100.0  # m3/day\n",
    "A = -5 / Q \n",
    "a = 200\n",
    "b = 0.5\n",
    "\n",
    "d = 0.0  # reference level"
   ]
  },
  {
   "cell_type": "code",
   "execution_count": null,
   "metadata": {},
   "outputs": [],
   "source": [
    "# auto-correlated residuals AR(1)\n",
    "sigma_n = 0.05\n",
    "alpha = 50\n",
    "sigma_r = sigma_n / np.sqrt(1 - np.exp(-2 * 14 / alpha))\n",
    "print(f'sigma_r = {sigma_r:.2f} m')"
   ]
  },
  {
   "cell_type": "markdown",
   "metadata": {},
   "source": [
    "Create a head observations timeseries and a timeseries with the well extraction rate."
   ]
  },
  {
   "cell_type": "code",
   "execution_count": null,
   "metadata": {},
   "outputs": [],
   "source": [
    "# head observations between 2000 and 2010\n",
    "idx = pd.date_range(\"2000\", \"2010\", freq=\"D\")\n",
    "ho = pd.Series(index=idx, data=0)\n",
    "\n",
    "# extraction of 100 m3/day between 2002 and 2006\n",
    "well = pd.Series(index=idx, data=0.0)\n",
    "well.loc[\"2002\":\"2006\"] = 100.0"
   ]
  },
  {
   "cell_type": "markdown",
   "metadata": {},
   "source": [
    "Create the synthetic head timeseries based on the extraction rate and the parameters we defined above."
   ]
  },
  {
   "cell_type": "code",
   "execution_count": null,
   "metadata": {},
   "outputs": [],
   "source": [
    "ml0 = ps.Model(ho) # alleen de tijdstippen waarop gemeten is worden gebruikt\n",
    "rm = ps.StressModel(well, ps.Hantush, name='well', up=False)\n",
    "ml0.add_stressmodel(rm)\n",
    "ml0.set_parameter('well_A', initial=A)\n",
    "ml0.set_parameter('well_a', initial=a)\n",
    "ml0.set_parameter('well_b', initial=b)\n",
    "ml0.set_parameter('constant_d', initial=d)\n",
    "hsynthetic_no_error = ml0.simulate()[ho.index]"
   ]
  },
  {
   "cell_type": "markdown",
   "metadata": {},
   "source": [
    "Add the auto-correlated residuals."
   ]
  },
  {
   "cell_type": "code",
   "execution_count": null,
   "metadata": {},
   "outputs": [],
   "source": [
    "delt = (ho.index[1:] - ho.index[:-1]).values / pd.Timedelta(\"1d\")\n",
    "np.random.seed(1)\n",
    "noise = sigma_n * np.random.randn(len(ho))\n",
    "residuals = np.zeros_like(noise)\n",
    "residuals[0] = noise[0]\n",
    "for i in range(1, len(ho)):\n",
    "    residuals[i] = np.exp(-delt[i - 1] / alpha) * residuals[i - 1] + noise[i]\n",
    "hsynthetic = hsynthetic_no_error + residuals"
   ]
  },
  {
   "cell_type": "markdown",
   "metadata": {},
   "source": [
    "Plot the timeseries."
   ]
  },
  {
   "cell_type": "code",
   "execution_count": null,
   "metadata": {},
   "outputs": [],
   "source": [
    "ax = hsynthetic_no_error.plot(label='synthetic heads (no error)', figsize=(10, 5))\n",
    "hsynthetic.plot(ax=ax, color=\"C1\", label=\"synthetic heads (with error)\")\n",
    "ax.legend(loc='best')\n",
    "ax.set_ylabel(\"head (m+ref)\")\n",
    "ax.grid(visible=True)"
   ]
  },
  {
   "cell_type": "markdown",
   "metadata": {},
   "source": [
    "Create three models:\n",
    "\n",
    "1. Model with `Hantush` response function.\n",
    "2. Model with `HantushWellModel` response function, but $r$ is not passed as a known parameter.\n",
    "3. Model with `WellModel`, which uses `HantushWellModel` and where $r$ is set to 1.0 m.\n",
    "\n",
    "All three models should yield the similar results and be able to estimate the true values of the parameters reasonably well."
   ]
  },
  {
   "cell_type": "code",
   "execution_count": null,
   "metadata": {},
   "outputs": [],
   "source": [
    "# Hantush\n",
    "ml_h1 = ps.Model(hsynthetic, name=\"gain\")\n",
    "wm_h1 = ps.StressModel(well, ps.Hantush, name='well', up=False)\n",
    "ml_h1.add_stressmodel(wm_h1)\n",
    "ml_h1.solve(report=False, noise=True)"
   ]
  },
  {
   "cell_type": "markdown",
   "metadata": {},
   "source": [
    "Solve with noise model and Hantush_scaled"
   ]
  },
  {
   "cell_type": "code",
   "execution_count": null,
   "metadata": {},
   "outputs": [],
   "source": [
    "# HantushWellModel\n",
    "ml_h2 = ps.Model(hsynthetic, name=\"scaled\")\n",
    "rfunc = ps.HantushWellModel()\n",
    "rfunc.set_distances(1.0)\n",
    "wm_h2 = ps.StressModel(well, rfunc, name='well', up=False)\n",
    "ml_h2.add_stressmodel(wm_h2)\n",
    "ml_h2.solve(report=False, noise=True)"
   ]
  },
  {
   "cell_type": "code",
   "execution_count": null,
   "metadata": {},
   "outputs": [],
   "source": [
    "# WellModel\n",
    "r = np.array([1.0])  # parameter r\n",
    "well.name = \"well\"\n",
    "\n",
    "ml_h3 = ps.Model(hsynthetic, name=\"wellmodel\")\n",
    "wm_h3 = ps.WellModel([well], ps.HantushWellModel, \"well\", r, up=False)\n",
    "ml_h3.add_stressmodel(wm_h3)\n",
    "ml_h3.solve(report=False, noise=True, solver=ps.LmfitSolve)"
   ]
  },
  {
   "cell_type": "markdown",
   "metadata": {},
   "source": [
    "Plot a comparison of all three models. The three models all yield similar results (all the lines overlap). "
   ]
  },
  {
   "cell_type": "code",
   "execution_count": null,
   "metadata": {},
   "outputs": [],
   "source": [
    "axes = ps.plots.compare([ml_h1, ml_h2, ml_h3], adjust_height=False, figsize=(13,8))\n"
   ]
  },
  {
   "cell_type": "markdown",
   "metadata": {},
   "source": [
    "Compare the optimized parameters for each model with the true values we defined at the beginning of this example. Note that we're comparing the value of the gain (not parameter $A$) and that each model has its own method for calculating the gain. As expected, the parameter estimates are reasonably close to the true values defined above."
   ]
  },
  {
   "cell_type": "code",
   "execution_count": null,
   "metadata": {},
   "outputs": [],
   "source": [
    "df = pd.DataFrame(index=[\"well_gain\", \"well_a\", \"well_b\"], \n",
    "                  columns=[\"True value\", \"Hantush\", \n",
    "                           \"HantushWellModel\", \"WellModel\"])\n",
    "\n",
    "df[\"True value\"] = A, a, b\n",
    "\n",
    "df[\"Hantush\"] = (\n",
    "    # gain (same as A in this case)\n",
    "    wm_h1.rfunc.gain(ml_h1.get_parameters(\"well\")),\n",
    "    # a\n",
    "    ml_h1.parameters.loc[\"well_a\", \"optimal\"],\n",
    "    # b\n",
    "    ml_h1.parameters.loc[\"well_b\", \"optimal\"] \n",
    ")\n",
    "\n",
    "df[\"HantushWellModel\"] = (\n",
    "    # gain (not same as A)\n",
    "    wm_h2.rfunc.gain(ml_h2.get_parameters(\"well\")), \n",
    "    # a\n",
    "    ml_h2.parameters.loc[\"well_a\", \"optimal\"],\n",
    "    # b\n",
    "    ml_h2.parameters.loc[\"well_b\", \"optimal\"]\n",
    ")\n",
    "\n",
    "df[\"WellModel\"] = (\n",
    "    # gain, use WellModel.get_parameters() to get params: A, a, b and r\n",
    "    wm_h3.rfunc.gain(wm_h3.get_parameters(model=ml_h3, istress=0)),  \n",
    "    # a\n",
    "    ml_h3.parameters.loc[\"well_a\", \"optimal\"],  \n",
    "    # b (multiply parameter value by r^2 for comparison)\n",
    "    ml_h3.parameters.loc[\"well_b\", \"optimal\"] * r[0]**2  \n",
    ")\n",
    "\n",
    "df"
   ]
  },
  {
   "cell_type": "markdown",
   "metadata": {},
   "source": [
    "Recall from earlier that when using `ps.Hantush` the gain and uncertainty of the gain are calculated directly. This is not the case for `ps.HantushWellModel`, so to obtain the uncertainty of the gain when using that response function there is a method called `ps.HantushWellModel.variance_gain()` that computes the variance based on the optimal values and (co)variance of parameters $A'$ and $b'$. There is also a convenience method `ps.WellModel.variance_gain()` that picks up the required variances and covariances from the parent model.\n",
    "\n",
    "The code below shows the calculated gain for each model, and how to calculate the variance and standard deviation of the gain for each model. The results show that the calculated values are all very close, as would be expected."
   ]
  },
  {
   "cell_type": "code",
   "execution_count": null,
   "metadata": {},
   "outputs": [],
   "source": [
    "# create dataframe\n",
    "var_gain = pd.DataFrame(index=df.columns[1:])\n",
    "\n",
    "# add calculated gain\n",
    "var_gain[\"gain\"] = df.iloc[0, 1:].values\n",
    "\n",
    "# Hantush: variance gain is computed directly\n",
    "var_gain.loc[\"Hantush\", \"var gain\"] = ml_h1.fit.pcov.loc[\"well_A\", \"well_A\"]\n",
    "\n",
    "# HantushWellModel: calculate variance gain explicitly providing values\n",
    "var_gain.loc[\"HantushWellModel\", \"var gain\"] = wm_h2.rfunc.variance_gain(\n",
    "    ml_h2.parameters.loc[\"well_A\", \"optimal\"],  # A\n",
    "    ml_h2.parameters.loc[\"well_b\", \"optimal\"],  # b\n",
    "    ml_h2.fit.pcov.loc[\"well_A\", \"well_A\"],  # var_A\n",
    "    ml_h2.fit.pcov.loc[\"well_b\", \"well_b\"],  # var_b\n",
    "    ml_h2.fit.pcov.loc[\"well_A\", \"well_b\"]  # cov_Ab\n",
    ")\n",
    "\n",
    "# WellModel: calculate variance gain providing only the parent model\n",
    "var_gain.loc[\"WellModel\", \"var gain\"] = wm_h3.variance_gain(ml_h3, istress=0)\n",
    "\n",
    "# calculate std dev gain\n",
    "var_gain[\"std gain\"] = np.sqrt(var_gain[\"var gain\"])\n",
    "\n",
    "# show table\n",
    "var_gain.style.format(\"{:.5e}\")"
   ]
  },
  {
   "cell_type": "code",
   "execution_count": null,
   "metadata": {},
   "outputs": [],
   "source": []
  }
 ],
 "metadata": {
  "kernelspec": {
   "display_name": "Python 3.9.7 ('pastas_dev')",
   "language": "python",
   "name": "python3"
  },
  "language_info": {
   "codemirror_mode": {
    "name": "ipython",
    "version": 3
   },
   "file_extension": ".py",
   "mimetype": "text/x-python",
   "name": "python",
   "nbconvert_exporter": "python",
   "pygments_lexer": "ipython3",
   "version": "3.9.7"
  },
  "vscode": {
   "interpreter": {
    "hash": "29475f8be425919747d373d827cb41e481e140756dd3c75aa328bf3399a0138e"
   }
  }
 },
 "nbformat": 4,
 "nbformat_minor": 4
}
