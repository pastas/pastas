{
 "cells": [
  {
   "cell_type": "code",
   "execution_count": 8,
   "id": "938b129f-c9ac-418d-879e-f2eba52298d4",
   "metadata": {},
   "outputs": [],
   "source": [
    "import numpy as np\n",
    "import matplotlib.pyplot as plt\n",
    "from scipy.integrate import quad\n",
    "import pastas as ps\n",
    "\n",
    "%load_ext autoreload\n",
    "%autoreload 2"
   ]
  },
  {
   "cell_type": "markdown",
   "id": "9a50691a-85cb-487b-87ad-a238224cdda2",
   "metadata": {},
   "source": [
    "### Gamma"
   ]
  },
  {
   "cell_type": "code",
   "execution_count": 9,
   "id": "c5a802df-52d5-49c7-95c0-aa026b94b4f6",
   "metadata": {},
   "outputs": [
    {
     "data": {
      "text/latex": [
       "$$ \\displaystyle \\begin{array}{l} \\left( A\\space,\\space n\\space,\\space a\\right)  = p \\\\ \\mathrm{theta}(t, p) = \\frac{A t^{n - {1}} \\exp{\\left({\\frac{-t}{a}}\\right)}}{a^{n} \\mathrm{{\\Gamma}}\\left(n\\right)} \\end{array} $$"
      ],
      "text/plain": [
       "<latexify.frontend.LatexifiedFunction at 0x7ff076002580>"
      ]
     },
     "execution_count": 9,
     "metadata": {},
     "output_type": "execute_result"
    }
   ],
   "source": [
    "ps.Gamma.impulse"
   ]
  },
  {
   "cell_type": "code",
   "execution_count": 10,
   "id": "7b8bf54b-44ac-444c-9f30-4fad27b5a546",
   "metadata": {},
   "outputs": [],
   "source": [
    "A = 5\n",
    "n = 1.5\n",
    "a = 50\n",
    "p = [A, n, a]\n",
    "\n",
    "gamma = ps.Gamma()\n",
    "tmax = gamma.get_tmax(p)\n",
    "t = np.arange(0, tmax)\n",
    "\n",
    "step = gamma.step(p)\n",
    "stepnum = np.zeros(len(t))\n",
    "for i in range(1, len(t)):\n",
    "    stepnum[i] = quad(gamma.impulse, 0, t[i], args=(p))[0]"
   ]
  },
  {
   "cell_type": "code",
   "execution_count": 11,
   "id": "41d2e835-bf3a-47e7-9f6b-7d0dce2d9c6b",
   "metadata": {},
   "outputs": [
    {
     "data": {
      "image/png": "[encoded data removed]",
      "text/plain": [
       "<Figure size 432x288 with 1 Axes>"
      ]
     },
     "metadata": {
      "needs_background": "light"
     },
     "output_type": "display_data"
    }
   ],
   "source": [
    "plt.plot(t[1:], step, label=\"analytic\")\n",
    "plt.plot(t, stepnum, \"--\", label=\"numerical\")\n",
    "plt.xlabel(\"time (d)\")\n",
    "plt.ylabel(\"step (m)\")\n",
    "plt.grid()\n",
    "plt.legend();"
   ]
  },
  {
   "cell_type": "markdown",
   "id": "94fb2160-3637-43c7-b8f1-25d508c9b485",
   "metadata": {},
   "source": [
    "### Exponential"
   ]
  },
  {
   "cell_type": "code",
   "execution_count": 12,
   "id": "c4508596-cf12-4ed4-b74a-567b25a88ee5",
   "metadata": {},
   "outputs": [
    {
     "data": {
      "text/latex": [
       "$$ \\displaystyle \\begin{array}{l} \\left( A\\space,\\space a\\right)  = p \\\\ \\mathrm{theta}(t, p) = \\frac{A}{a} \\exp{\\left({\\frac{-t}{a}}\\right)} \\end{array} $$"
      ],
      "text/plain": [
       "<latexify.frontend.LatexifiedFunction at 0x7ff075eaff40>"
      ]
     },
     "execution_count": 12,
     "metadata": {},
     "output_type": "execute_result"
    }
   ],
   "source": [
    "ps.Exponential.impulse"
   ]
  },
  {
   "cell_type": "code",
   "execution_count": 13,
   "id": "77ca80bb-c678-46c1-aab1-f0e2ec60ebdf",
   "metadata": {},
   "outputs": [],
   "source": [
    "A = 5\n",
    "a = 50\n",
    "p = [A, a]\n",
    "\n",
    "exponential = ps.Exponential()\n",
    "tmax = exponential.get_tmax(p)\n",
    "t = np.arange(0, tmax)\n",
    "\n",
    "step = exponential.step(p)\n",
    "stepnum = np.zeros(len(t))\n",
    "for i in range(1, len(t)):\n",
    "    stepnum[i] = quad(exponential.impulse, 0, t[i], args=(p))[0]"
   ]
  },
  {
   "cell_type": "code",
   "execution_count": 14,
   "id": "6172dd00-763c-4f25-b4f0-3c34a15b3c33",
   "metadata": {},
   "outputs": [
    {
     "data": {
      "image/png": "[encoded data removed]",
      "text/plain": [
       "<Figure size 432x288 with 1 Axes>"
      ]
     },
     "metadata": {
      "needs_background": "light"
     },
     "output_type": "display_data"
    }
   ],
   "source": [
    "plt.plot(t[1:], step, label=\"analytic\")\n",
    "plt.plot(t, stepnum, \"--\", label=\"numerical\")\n",
    "plt.xlabel(\"time (d)\")\n",
    "plt.ylabel(\"step (m)\")\n",
    "plt.grid()\n",
    "plt.legend();"
   ]
  },
  {
   "cell_type": "markdown",
   "id": "5d007aa2-7c99-4c3c-9c2a-f413a8f5a5a3",
   "metadata": {},
   "source": [
    "### Hantush"
   ]
  },
  {
   "cell_type": "code",
   "execution_count": 15,
   "id": "750373d0-402a-478c-b1f4-b3457cdb4812",
   "metadata": {},
   "outputs": [
    {
     "data": {
      "text/latex": [
       "$$ \\displaystyle \\begin{array}{l} \\left( A\\space,\\space a\\space,\\space b\\right)  = p \\\\ \\mathrm{theta}(t, p) = \\frac{A}{{2} t \\mathrm{K_0}\\left({2} \\sqrt{b}\\right)} \\exp{\\left({\\frac{-t}{a} - \\frac{a b}{t}}\\right)} \\end{array} $$"
      ],
      "text/plain": [
       "<latexify.frontend.LatexifiedFunction at 0x7ff075eaf460>"
      ]
     },
     "execution_count": 15,
     "metadata": {},
     "output_type": "execute_result"
    }
   ],
   "source": [
    "ps.Hantush.impulse"
   ]
  },
  {
   "cell_type": "code",
   "execution_count": 16,
   "id": "35790f67-b518-4367-90c3-2d5a425da0c2",
   "metadata": {},
   "outputs": [],
   "source": [
    "A = 5\n",
    "a = 50\n",
    "b = 2\n",
    "p = [A, a, b]\n",
    "\n",
    "hantush = ps.Hantush()\n",
    "tmax = hantush.get_tmax(p)\n",
    "t = np.arange(0, tmax)\n",
    "\n",
    "step = hantush.step(p)\n",
    "stepnum = np.zeros(len(t))\n",
    "for i in range(1, len(t)):\n",
    "    stepnum[i] = quad(hantush.impulse, 0, t[i], args=(p))[0]"
   ]
  },
  {
   "cell_type": "code",
   "execution_count": 17,
   "id": "e63a25d6-1b30-41a2-a02d-d4d013925c30",
   "metadata": {},
   "outputs": [
    {
     "data": {
      "image/png": "[encoded data removed]",
      "text/plain": [
       "<Figure size 432x288 with 1 Axes>"
      ]
     },
     "metadata": {
      "needs_background": "light"
     },
     "output_type": "display_data"
    }
   ],
   "source": [
    "plt.plot(t[1:], step, label=\"analytic\")\n",
    "plt.plot(t, stepnum, \"--\", label=\"numerical\")\n",
    "plt.xlabel(\"time (d)\")\n",
    "plt.ylabel(\"step (m)\")\n",
    "plt.grid()\n",
    "plt.legend();"
   ]
  },
  {
   "cell_type": "markdown",
   "id": "d5d822c8-f954-4e7c-96c6-de24895d4da8",
   "metadata": {},
   "source": [
    "### Polder - not correct yet"
   ]
  },
  {
   "cell_type": "code",
   "execution_count": 18,
   "id": "c2dd0ae6-fa59-482b-94b1-74b4b31e0a8a",
   "metadata": {},
   "outputs": [
    {
     "data": {
      "text/latex": [
       "$$ \\displaystyle \\begin{array}{l} \\left( A\\space,\\space a\\space,\\space b\\right)  = p \\\\ \\mathrm{theta}(t, p) = A t^{-{1.5}} \\exp{\\left({\\frac{-t}{a} - \\frac{b}{t}}\\right)} \\end{array} $$"
      ],
      "text/plain": [
       "<latexify.frontend.LatexifiedFunction at 0x7ff06cb719d0>"
      ]
     },
     "execution_count": 18,
     "metadata": {},
     "output_type": "execute_result"
    }
   ],
   "source": [
    "ps.Polder.impulse"
   ]
  },
  {
   "cell_type": "code",
   "execution_count": 19,
   "id": "2380888f-f7e3-4b78-8903-5c7b211dbd18",
   "metadata": {},
   "outputs": [
    {
     "data": {
      "text/latex": [
       "$$ \\displaystyle \\mathrm{polder\\_function}(x, y) = {0.5} \\exp{\\left({{2} x}\\right)} \\mathrm{erfc}\\left(\\frac{x}{y} + y\\right) + {0.5} \\exp{\\left({-{2} x}\\right)} \\mathrm{erfc}\\left(\\frac{x}{y} - y\\right) $$"
      ],
      "text/plain": [
       "<latexify.frontend.LatexifiedFunction at 0x7ff075eaf370>"
      ]
     },
     "execution_count": 19,
     "metadata": {},
     "output_type": "execute_result"
    }
   ],
   "source": [
    "ps.Polder.polder_function"
   ]
  },
  {
   "cell_type": "code",
   "execution_count": 20,
   "id": "2eaa17db-8cba-4731-926e-4f8479987063",
   "metadata": {},
   "outputs": [],
   "source": [
    "A = np.exp(-1)\n",
    "a = 100\n",
    "b = 0.25\n",
    "p = [A, a, b]\n",
    "\n",
    "polder = ps.Polder()\n",
    "tmax = polder.get_tmax(p)\n",
    "t = np.arange(0, tmax)\n",
    "\n",
    "step = polder.step(p)\n",
    "stepnum = np.zeros(len(t))\n",
    "for i in range(1, len(t)):\n",
    "    stepnum[i] = quad(polder.impulse, 0, t[i], args=(p))[0]"
   ]
  },
  {
   "cell_type": "code",
   "execution_count": 21,
   "id": "419cf91b-9a53-440d-958d-fc085ec0a4b8",
   "metadata": {},
   "outputs": [
    {
     "data": {
      "image/png": "[encoded data removed]",
      "text/plain": [
       "<Figure size 432x288 with 1 Axes>"
      ]
     },
     "metadata": {
      "needs_background": "light"
     },
     "output_type": "display_data"
    }
   ],
   "source": [
    "plt.plot(t[1:], step, label=\"analytic\")\n",
    "plt.plot(t, stepnum, \"--\", label=\"numerical\")\n",
    "plt.xlabel(\"time (d)\")\n",
    "plt.ylabel(\"step (m)\")\n",
    "plt.grid()\n",
    "plt.legend();"
   ]
  },
  {
   "cell_type": "markdown",
   "id": "cd0facf9-763d-47a6-b722-ebf50b02a2d1",
   "metadata": {},
   "source": [
    "### Four-parameter function"
   ]
  },
  {
   "cell_type": "code",
   "execution_count": 22,
   "id": "57d08799-3632-4bb6-84a1-509f72a5861a",
   "metadata": {},
   "outputs": [
    {
     "data": {
      "text/latex": [
       "$$ \\displaystyle \\begin{array}{l} \\left( A\\space,\\space n\\space,\\space a\\space,\\space b\\right)  = p \\\\ \\mathrm{theta}(t, p) = t^{n - {1}} \\exp{\\left({\\frac{-t}{a} - \\frac{a b}{t}}\\right)} \\end{array} $$"
      ],
      "text/plain": [
       "<latexify.frontend.LatexifiedFunction at 0x7ff0702a9430>"
      ]
     },
     "execution_count": 22,
     "metadata": {},
     "output_type": "execute_result"
    }
   ],
   "source": [
    "ps.FourParam.impulse"
   ]
  },
  {
   "cell_type": "code",
   "execution_count": 23,
   "id": "83601f06-0737-4ae9-b7eb-0b113a90bc85",
   "metadata": {},
   "outputs": [],
   "source": [
    "A = 1 # impulse response implemented for A=1 only\n",
    "n = 1.5\n",
    "a = 50\n",
    "b = 10\n",
    "p = [A, n, a, b]\n",
    "\n",
    "fourparam = ps.FourParam(quad=False) # use simple integration\n",
    "tmax = fourparam.get_tmax(p)\n",
    "t = np.arange(0, tmax)\n",
    "\n",
    "step = fourparam.step(p)\n",
    "stepnum = np.zeros(len(t))\n",
    "for i in range(1, len(t)):\n",
    "    stepnum[i] = quad(fourparam.impulse, 0, t[i], args=(p))[0]\n",
    "stepnum = stepnum / quad(fourparam.impulse, 0, np.inf, args=p)[0] # four param is scaled at the end "
   ]
  },
  {
   "cell_type": "code",
   "execution_count": 24,
   "id": "095f83cb-9a04-4651-8031-7f2f84445c54",
   "metadata": {},
   "outputs": [
    {
     "data": {
      "image/png": "[encoded data removed]",
      "text/plain": [
       "<Figure size 432x288 with 1 Axes>"
      ]
     },
     "metadata": {
      "needs_background": "light"
     },
     "output_type": "display_data"
    }
   ],
   "source": [
    "plt.plot(t[1:], step, label=\"analytic\")\n",
    "plt.plot(t, stepnum, \"--\", label=\"numerical\")\n",
    "plt.xlabel(\"time (d)\")\n",
    "plt.ylabel(\"step (m)\")\n",
    "plt.grid()\n",
    "plt.legend();"
   ]
  },
  {
   "cell_type": "markdown",
   "id": "d0396351-cd54-4666-b847-862ee442a032",
   "metadata": {},
   "source": [
    "### Double exponential function"
   ]
  },
  {
   "cell_type": "code",
   "execution_count": 25,
   "id": "07790a6a-8ec8-4b95-9160-a832b2aceed2",
   "metadata": {},
   "outputs": [
    {
     "data": {
      "text/latex": [
       "$$ \\displaystyle \\begin{array}{l} \\left( A\\space,\\space f\\space,\\space a\\space,\\space b\\right)  = p \\\\ \\mathrm{theta}(t, p) = A \\left( \\frac{{1} - f}{a} \\exp{\\left({\\frac{-t}{a}}\\right)} + \\frac{f}{b} \\exp{\\left({\\frac{-t}{b}}\\right)} \\right) \\end{array} $$"
      ],
      "text/plain": [
       "<latexify.frontend.LatexifiedFunction at 0x7ff075eaf730>"
      ]
     },
     "execution_count": 25,
     "metadata": {},
     "output_type": "execute_result"
    }
   ],
   "source": [
    "ps.DoubleExponential.impulse"
   ]
  },
  {
   "cell_type": "code",
   "execution_count": 26,
   "id": "42e26e95-9afb-4595-b170-0f5ee6e0a186",
   "metadata": {},
   "outputs": [],
   "source": [
    "A = 5 # impulse response implemented for A=1 only\n",
    "a = 10\n",
    "b = 50\n",
    "f = 0.4\n",
    "p = [A, f, a, b]\n",
    "\n",
    "doubexp = ps.DoubleExponential()\n",
    "tmax = doubexp.get_tmax(p)\n",
    "t = np.arange(0, tmax)\n",
    "\n",
    "step = doubexp.step(p)\n",
    "stepnum = np.zeros(len(t))\n",
    "for i in range(1, len(t)):\n",
    "    stepnum[i] = quad(doubexp.impulse, 0, t[i], args=(p))[0]"
   ]
  },
  {
   "cell_type": "code",
   "execution_count": 27,
   "id": "8299b68e-fe97-45cf-8b5b-7f61534d6a60",
   "metadata": {},
   "outputs": [
    {
     "data": {
      "image/png": "[encoded data removed]",
      "text/plain": [
       "<Figure size 432x288 with 1 Axes>"
      ]
     },
     "metadata": {
      "needs_background": "light"
     },
     "output_type": "display_data"
    }
   ],
   "source": [
    "plt.plot(t[1:], step, label=\"analytic\")\n",
    "plt.plot(t, stepnum, \"--\", label=\"numerical\")\n",
    "plt.xlabel(\"time (d)\")\n",
    "plt.ylabel(\"step (m)\")\n",
    "plt.grid()\n",
    "plt.legend();"
   ]
  },
  {
   "cell_type": "markdown",
   "id": "6998b64a-2fa2-4eb6-95e3-7ae8c61be688",
   "metadata": {},
   "source": [
    "### Edelman"
   ]
  },
  {
   "cell_type": "code",
   "execution_count": 28,
   "id": "97732bc9-2dbf-4667-a5d7-b761873d54a5",
   "metadata": {},
   "outputs": [
    {
     "data": {
      "text/latex": [
       "$$ \\displaystyle \\begin{array}{l} \\left( a\\right)  = p \\\\ \\mathrm{theta}(t, p) = \\frac{{1}}{\\sqrt{np.pi} a t^{{1.5}}} \\exp{\\left({\\frac{-{1}}{a^{{2}} t}}\\right)} \\end{array} $$"
      ],
      "text/plain": [
       "<latexify.frontend.LatexifiedFunction at 0x7ff0702a9970>"
      ]
     },
     "execution_count": 28,
     "metadata": {},
     "output_type": "execute_result"
    }
   ],
   "source": [
    "ps.Edelman.impulse"
   ]
  },
  {
   "cell_type": "code",
   "execution_count": 59,
   "id": "ec141804-bc3b-4b43-9494-60ee49a082c6",
   "metadata": {},
   "outputs": [
    {
     "name": "stderr",
     "output_type": "stream",
     "text": [
      "/var/folders/9x/5ftyyy7d065bf_fl790_tcrm0000gn/T/ipykernel_1413/4160822555.py:11: IntegrationWarning: The integral is probably divergent, or slowly convergent.\n",
      "  stepnum[i] = quad(edel.impulse, 1e-3, t[i], args=(p))[0]\n"
     ]
    }
   ],
   "source": [
    "a = 10\n",
    "p = [a]\n",
    "\n",
    "edel = ps.Edelman()\n",
    "tmax = edel.get_tmax(p)\n",
    "t = np.arange(0, tmax)\n",
    "\n",
    "#step = edel.step(p)\n",
    "stepnum = np.zeros(len(t))\n",
    "for i in range(1, len(t)):\n",
    "    stepnum[i] = quad(edel.impulse, 1e-3, t[i], args=(p))[0]"
   ]
  },
  {
   "cell_type": "code",
   "execution_count": 30,
   "id": "04449ea5-dd47-4272-8e29-434f9a31502b",
   "metadata": {},
   "outputs": [
    {
     "data": {
      "image/png": "[encoded data removed]",
      "text/plain": [
       "<Figure size 432x288 with 1 Axes>"
      ]
     },
     "metadata": {
      "needs_background": "light"
     },
     "output_type": "display_data"
    }
   ],
   "source": [
    "plt.plot(t[1:], step, label=\"analytic\")\n",
    "plt.plot(t, stepnum, \"--\", label=\"numerical\")\n",
    "plt.xlabel(\"time (d)\")\n",
    "plt.ylabel(\"step (m)\")\n",
    "plt.grid()\n",
    "plt.legend();"
   ]
  },
  {
   "cell_type": "code",
   "execution_count": 57,
   "id": "a7cad74a-b575-4a7b-a1b7-fd3d18beca26",
   "metadata": {},
   "outputs": [
    {
     "name": "stdout",
     "output_type": "stream",
     "text": [
      "0\n",
      "[ 0  1  2  3  4  5  6  7  8  9 10 11 12 13 14 15 16 17 18 19 20 21 22 23\n",
      " 24 25 26 27 28 29 30 31 32 33 34 35 36 37 38 39 40 41 42 43 44 45 46 47\n",
      " 48 49]\n"
     ]
    }
   ],
   "source": [
    "t = np.arange(0.0, 50)\n",
    "print(t[0])\n",
    "t[0] = 0.9\n",
    "print(t)"
   ]
  },
  {
   "cell_type": "code",
   "execution_count": 58,
   "id": "40f453cc-6cd0-431c-81cb-5c154a93b41a",
   "metadata": {},
   "outputs": [
    {
     "name": "stdout",
     "output_type": "stream",
     "text": [
      "[ 0.9  1.   2.   3.   4.   5.   6.   7.   8.   9.  10.  11.  12.  13.\n",
      " 14.  15.  16.  17.  18.  19.  20.  21.  22.  23.  24.  25.  26.  27.\n",
      " 28.  29.  30.  31.  32.  33.  34.  35.  36.  37.  38.  39.  40.  41.\n",
      " 42.  43.  44.  45.  46.  47.  48.  49. ]\n"
     ]
    },
    {
     "data": {
      "text/plain": [
       "[<matplotlib.lines.Line2D at 0x7ff07755e790>]"
      ]
     },
     "execution_count": 58,
     "metadata": {},
     "output_type": "execute_result"
    },
    {
     "data": {
      "image/png": "[encoded data removed]",
      "text/plain": [
       "<Figure size 432x288 with 1 Axes>"
      ]
     },
     "metadata": {
      "needs_background": "light"
     },
     "output_type": "display_data"
    }
   ],
   "source": [
    "t = np.arange(0.0, 50)\n",
    "t[0] = 0.9\n",
    "print(t)\n",
    "h = ps.Edelman.impulse(t, [a])\n",
    "plt.plot(t, h)"
   ]
  },
  {
   "cell_type": "code",
   "execution_count": 52,
   "id": "6eb8cc1b-5268-4943-9d9a-332fcb061000",
   "metadata": {},
   "outputs": [
    {
     "name": "stderr",
     "output_type": "stream",
     "text": [
      "/var/folders/9x/5ftyyy7d065bf_fl790_tcrm0000gn/T/ipykernel_1413/2404387558.py:1: RuntimeWarning: divide by zero encountered in true_divide\n",
      "  1 / (np.sqrt(np.pi) * a * t ** 1.5)\n"
     ]
    },
    {
     "data": {
      "text/plain": [
       "array([       inf, 0.18806319, 0.06649038, 0.03619278, 0.0235079 ,\n",
       "       0.01682088, 0.01279608, 0.01015446, 0.0083113 , 0.0069653 ,\n",
       "       0.00594708, 0.00515484, 0.0045241 , 0.00401226, 0.00359014,\n",
       "       0.00323718, 0.00293849, 0.00268306, 0.00246261, 0.00227077,\n",
       "       0.00210261, 0.00195423, 0.00182251, 0.00170495, 0.00159951,\n",
       "       0.00150451, 0.00141855, 0.00134047, 0.00126931, 0.00120422,\n",
       "       0.00114452, 0.00108959, 0.00103891, 0.00099205, 0.00094861,\n",
       "       0.00090824, 0.00087066, 0.00083561, 0.00080284, 0.00077216,\n",
       "       0.00074339, 0.00071635, 0.00069092, 0.00066696, 0.00064435,\n",
       "       0.000623  , 0.00060279, 0.00058366, 0.00056551, 0.00054829])"
      ]
     },
     "execution_count": 52,
     "metadata": {},
     "output_type": "execute_result"
    }
   ],
   "source": [
    "1 / (np.sqrt(np.pi) * a * t ** 1.5)"
   ]
  },
  {
   "cell_type": "code",
   "execution_count": 63,
   "id": "216aee33-89f6-4391-956b-8fff544e2ec9",
   "metadata": {},
   "outputs": [],
   "source": [
    "import pastas as ps"
   ]
  },
  {
   "cell_type": "code",
   "execution_count": 74,
   "id": "9bed4176-8c0d-4d1a-b4bc-651bc700de81",
   "metadata": {},
   "outputs": [
    {
     "ename": "TypeError",
     "evalue": "__init__() got an unexpected keyword argument 'cutoff'",
     "output_type": "error",
     "traceback": [
      "\u001b[0;31m---------------------------------------------------------------------------\u001b[0m",
      "\u001b[0;31mTypeError\u001b[0m                                 Traceback (most recent call last)",
      "Input \u001b[0;32mIn [74]\u001b[0m, in \u001b[0;36m<cell line: 1>\u001b[0;34m()\u001b[0m\n\u001b[0;32m----> 1\u001b[0m gam \u001b[38;5;241m=\u001b[39m \u001b[43mps\u001b[49m\u001b[38;5;241;43m.\u001b[39;49m\u001b[43mGamma\u001b[49m\u001b[43m(\u001b[49m\u001b[43mcutoff\u001b[49m\u001b[38;5;241;43m=\u001b[39;49m\u001b[38;5;241;43m0.99\u001b[39;49m\u001b[43m)\u001b[49m\n",
      "\u001b[0;31mTypeError\u001b[0m: __init__() got an unexpected keyword argument 'cutoff'"
     ]
    }
   ],
   "source": [
    "gam = ps.Gamma(cutoff=0.99)"
   ]
  },
  {
   "cell_type": "code",
   "execution_count": 73,
   "id": "1d0c6223-f3c6-4db3-8a40-0fdfac2b0f1c",
   "metadata": {},
   "outputs": [
    {
     "data": {
      "text/plain": [
       "array([0.88753708, 0.92034433, 0.93492531, 0.94362802, 0.94957097,\n",
       "       0.95395969, 0.95737158, 0.96012239, 0.96240129, 0.96432941,\n",
       "       0.96598839, 0.96743555, 0.96871242, 0.96984998, 0.97087185,\n",
       "       0.9717964 , 0.97263815, 0.97340877, 0.97411775, 0.97477288,\n",
       "       0.97538066, 0.97594652, 0.97647508, 0.97697026, 0.97743543,\n",
       "       0.9778735 , 0.97828701, 0.97867818, 0.97904893, 0.979401  ,\n",
       "       0.97973589, 0.98005496, 0.98035942, 0.98065035, 0.98092873,\n",
       "       0.98119542, 0.98145123, 0.98169688, 0.98193302, 0.98216025,\n",
       "       0.98237911, 0.98259011, 0.98279371, 0.98299033, 0.98318036,\n",
       "       0.98336416, 0.98354207, 0.98371438, 0.98388139, 0.98404337,\n",
       "       0.98420056, 0.9843532 , 0.98450149, 0.98464565, 0.98478586,\n",
       "       0.9849223 , 0.98505513, 0.98518451, 0.98531058, 0.9854335 ,\n",
       "       0.98555337, 0.98567034, 0.98578451, 0.98589599, 0.9860049 ,\n",
       "       0.98611131, 0.98621534, 0.98631706, 0.98641657, 0.98651393,\n",
       "       0.98660923, 0.98670254, 0.98679392, 0.98688345, 0.98697118,\n",
       "       0.98705717, 0.98714148, 0.98722417, 0.98730528, 0.98738486,\n",
       "       0.98746297, 0.98753964, 0.98761493, 0.98768886, 0.98776149,\n",
       "       0.98783285, 0.98790297, 0.98797189, 0.98803965, 0.98810628,\n",
       "       0.98817181, 0.98823626, 0.98829967, 0.98836207, 0.98842348,\n",
       "       0.98848393, 0.98854344, 0.98860204, 0.98865974, 0.98871658,\n",
       "       0.98877258, 0.98882775, 0.98888211, 0.98893569, 0.9889885 ,\n",
       "       0.98904056, 0.98909189, 0.9891425 , 0.98919242, 0.98924165,\n",
       "       0.98929022, 0.98933814, 0.98938541, 0.98943207, 0.98947811,\n",
       "       0.98952356, 0.98956843, 0.98961272, 0.98965645, 0.98969964,\n",
       "       0.98974229, 0.98978441, 0.98982602, 0.98986713, 0.98990774,\n",
       "       0.98994787, 0.98998752])"
      ]
     },
     "execution_count": 73,
     "metadata": {},
     "output_type": "execute_result"
    }
   ],
   "source": [
    "edel = ps.Edelman()\n",
    "tmax = edel.get_tmax([10], cutoff=0.9)\n",
    "edel.step([10], cutoff=0.99)"
   ]
  },
  {
   "cell_type": "code",
   "execution_count": 61,
   "id": "baeeaffb-bfe1-496b-834e-306a83b8fccf",
   "metadata": {},
   "outputs": [],
   "source": [
    "from scipy.special import erfc"
   ]
  },
  {
   "cell_type": "code",
   "execution_count": 62,
   "id": "ce365aaf-7b7f-4905-8946-147bf6b68f91",
   "metadata": {},
   "outputs": [
    {
     "data": {
      "text/plain": [
       "1.0"
      ]
     },
     "execution_count": 62,
     "metadata": {},
     "output_type": "execute_result"
    }
   ],
   "source": [
    "erfc(0)"
   ]
  },
  {
   "cell_type": "code",
   "execution_count": null,
   "id": "2060c6af-1b65-427d-833e-59109e030c89",
   "metadata": {},
   "outputs": [],
   "source": []
  }
 ],
 "metadata": {
  "kernelspec": {
   "display_name": "Python 3 (ipykernel)",
   "language": "python",
   "name": "python3"
  },
  "language_info": {
   "codemirror_mode": {
    "name": "ipython",
    "version": 3
   },
   "file_extension": ".py",
   "mimetype": "text/x-python",
   "name": "python",
   "nbconvert_exporter": "python",
   "pygments_lexer": "ipython3",
   "version": "3.9.12"
  }
 },
 "nbformat": 4,
 "nbformat_minor": 5
}
