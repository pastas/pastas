{
 "cells": [
  {
   "cell_type": "markdown",
   "id": "ba6dd28a",
   "metadata": {},
   "source": [
    "# Analyzing the results\n",
    "\n",
    "In this section we dive a bit deeper into the different post-processing options.\n",
    "\n",
    "- Visualisation\n",
    "- Metrics\n",
    "- Diagnostics"
   ]
  },
  {
   "attachments": {},
   "cell_type": "markdown",
   "id": "a3ed54a5",
   "metadata": {},
   "source": [
    "This notebook is not finished yet. For now we refer to the [Example notebooks](https://pastas.readthedocs.io/en/latest/examples/index.html) under Model Evaluation:\n",
    "\n",
    "- Comparing models visually\n",
    "- Diagnostics checking\n",
    "- Reducing autocorrelation\n",
    "- Uncertainty quantification\n",
    "- MCMC Uncertainty"
   ]
  }
 ],
 "metadata": {
  "kernelspec": {
   "display_name": "pastas_dev",
   "language": "python",
   "name": "python3"
  },
  "language_info": {
   "codemirror_mode": {
    "name": "ipython",
    "version": 3
   },
   "file_extension": ".py",
   "mimetype": "text/x-python",
   "name": "python",
   "nbconvert_exporter": "python",
   "pygments_lexer": "ipython3",
   "version": "3.9.15"
  },
  "vscode": {
   "interpreter": {
    "hash": "29475f8be425919747d373d827cb41e481e140756dd3c75aa328bf3399a0138e"
   }
  }
 },
 "nbformat": 4,
 "nbformat_minor": 5
}
