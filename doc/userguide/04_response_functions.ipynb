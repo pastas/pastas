{
 "cells": [
  {
   "attachments": {},
   "cell_type": "markdown",
   "id": "0618a1b0-4bdb-4fc1-89d8-419748f8c255",
   "metadata": {},
   "source": [
    "# Response functions\n",
    "This notebook provides an overview of the response functions that are available in Pastas. Response functions describe the response of the dependent variable (an `oseries` like groundwater heads) to an independent variable (a stress like precipitation or groundwater pumping) and form a fundamental part in approach implemented in Pastas. Depending on the problem under investigation, a response function may be required with a certain shape or with more degrees of freedom (parameters). Response functions are generally used in combination with a stress model, but in this notebook the response functions are discussed independently to provide an overview of the different response functions and what they represent."
   ]
  },
  {
   "cell_type": "code",
   "execution_count": null,
   "id": "7ff724cf-99a8-4fa4-979a-fc41800501bc",
   "metadata": {},
   "outputs": [],
   "source": [
    "import numpy as np\n",
    "import pandas as pd\n",
    "import pastas as ps\n",
    "import matplotlib.pyplot as plt\n",
    "\n",
    "ps.show_versions()"
   ]
  },
  {
   "cell_type": "markdown",
   "id": "177b838e-796c-4c69-a871-7c03921bff64",
   "metadata": {},
   "source": [
    "## Response functions available in Pastas\n",
    "The following response functions are available in Pastas:"
   ]
  },
  {
   "cell_type": "code",
   "execution_count": null,
   "id": "112aa122",
   "metadata": {},
   "outputs": [],
   "source": [
    "ps.rfunc.__all__"
   ]
  },
  {
   "attachments": {},
   "cell_type": "markdown",
   "id": "5c5b7e93",
   "metadata": {},
   "source": [
    "Below we discuss the some of the most used respons functions and what they represent:"
   ]
  },
  {
   "cell_type": "markdown",
   "id": "e930b596-39e7-418d-b588-0b5d2739e67a",
   "metadata": {},
   "source": [
    "### Exponential response function\n",
    "The exponential response function is the simplest response function with only two parameters: a scaling parameter $A$ and a shape parameter $a$. The response function may be used for stresses that start to have an immediate effect on the head, for example precipitation in a shallow aquifer. The step response function plateaus at $A$ (the gain is $A$). \n",
    "The equation for the impulse response is:"
   ]
  },
  {
   "cell_type": "code",
   "execution_count": null,
   "id": "cf060692-4af9-42a5-bac3-3774901c9082",
   "metadata": {},
   "outputs": [],
   "source": [
    "ps.Exponential.impulse"
   ]
  },
  {
   "cell_type": "markdown",
   "id": "3bae7259-a80a-4a43-be7b-aa2612076fcf",
   "metadata": {},
   "source": [
    "### Gamma response function\n",
    "The Gamma response function is slightly more complicated than the exponential response function and has one additional shape parameter $n$. When $n>1$, there is a delay in the response. When $n=1$, the Gamma response is the same as the Exponential response. When $n<1$ there is an immediate response. The response function is the most used response function in Pastas, as its shape is versatile and able to mimic many responses found in the field (it is also used in many other parts of hydrology to simulate a hydrological response).  The step response plateaus at $A$ (the gain is $A$). The equation for the impulse response is:"
   ]
  },
  {
   "cell_type": "code",
   "execution_count": null,
   "id": "d1563c41-541b-45e5-a43f-30d78c3db07e",
   "metadata": {},
   "outputs": [],
   "source": [
    "ps.Gamma.impulse"
   ]
  },
  {
   "cell_type": "markdown",
   "id": "bfce9b72-c010-418b-af5a-a47d7eb43da2",
   "metadata": {},
   "source": [
    "### Hantush response function\n",
    "The Hantush response function is intended for the simulation of the response of pumping wells. It is based on the classic Hantush function for pumping in a semi-confined aquifer. The response function has one scale parameter $A$ and two shape parameters $a$ and $b$.  \n",
    "The step response plateaus at $A$ (the gain is $A$). The equation for the impulse response is:"
   ]
  },
  {
   "cell_type": "code",
   "execution_count": null,
   "id": "d54da8c6-8845-4f03-9b21-65c05aebf56a",
   "metadata": {},
   "outputs": [],
   "source": [
    "ps.Hantush.impulse"
   ]
  },
  {
   "cell_type": "markdown",
   "id": "87cd9ad9-cd83-4b3e-98b0-c8aad4791ed5",
   "metadata": {},
   "source": [
    "### Double exponential function\n",
    "The Double exponential response function is intended for the simulation in a multi-aquifer system, with an initially a quick response and after that a slower response. It consists of two exponential functions and contains four parameters: the scale parameter $A$, two shape parameters $a_1$ and $a_2$, and a parameter $\\alpha$ that distributes the response between the two exponential functions. The step response plateaus at $A$ (the gain is $A$). The Double exponential function is not applied very often in practice. The equation for the impulse response is:"
   ]
  },
  {
   "cell_type": "code",
   "execution_count": null,
   "id": "3c01bd90-699d-4200-97e4-4e9141f92aca",
   "metadata": {},
   "outputs": [],
   "source": [
    "ps.DoubleExponential.impulse"
   ]
  },
  {
   "cell_type": "markdown",
   "id": "bdaabac7-0580-42e8-b6e1-a2ec67e0c70b",
   "metadata": {},
   "source": [
    "### Polder function\n",
    "The Polder response function is intended for the simulation of the response to variations of surface water levels. It is based on the response of a semi-confined aquifer to a variation in the surface water boundary. The response function has one scale parameter $A$ and two shape parameters $a$ and $b$. The step response plateaus at $A\\exp(-2\\sqrt{b})$ (the gain is $A\\exp(-2\\sqrt{b})$. The equation for the impulse response is:"
   ]
  },
  {
   "cell_type": "code",
   "execution_count": null,
   "id": "8c2ef10e-7953-42fb-8115-800ae747ce59",
   "metadata": {},
   "outputs": [],
   "source": [
    "ps.Polder.impulse"
   ]
  },
  {
   "cell_type": "markdown",
   "id": "ee5cb191-f37f-40a8-b278-be9970b5cbbf",
   "metadata": {},
   "source": [
    "### Four parameter function\n",
    "The four parameter function is a function with four parameters that includes the Exponential, Gamma, Hantush and Polder functions as a special case. It is the most general function, but it is relatively slow to compute. This function needs further documentation."
   ]
  },
  {
   "cell_type": "code",
   "execution_count": null,
   "id": "635a2e71-d385-4b83-aee9-1664280e4d4c",
   "metadata": {},
   "outputs": [],
   "source": [
    "ps.FourParam.impulse"
   ]
  },
  {
   "cell_type": "markdown",
   "id": "9da1170f-6d93-466e-ab1d-5fe198978520",
   "metadata": {},
   "source": [
    "### Examples of response functions\n",
    "A few example response functions are plotted below"
   ]
  },
  {
   "cell_type": "code",
   "execution_count": null,
   "id": "7519d1fb-fa04-4acf-8e13-e4dc0e807414",
   "metadata": {},
   "outputs": [],
   "source": [
    "# Default Settings\n",
    "cutoff = 0.999\n",
    "gain_scale_factor = 1\n",
    "up = True\n",
    "\n",
    "responses = {}\n",
    "exp = ps.Exponential()\n",
    "responses[\"Exponential\"] = exp\n",
    "\n",
    "gamma = ps.Gamma()\n",
    "responses[\"Gamma\"] = gamma\n",
    "\n",
    "hantush = ps.Hantush()\n",
    "responses[\"Hantush\"] = hantush\n",
    "\n",
    "polder = ps.Polder()\n",
    "responses[\"Polder\"] = polder\n",
    "\n",
    "fourp = ps.FourParam()\n",
    "responses[\"FourParam\"] = fourp\n",
    "\n",
    "DoubleExp = ps.DoubleExponential()\n",
    "responses[\"DoubleExponential\"] = DoubleExp\n",
    "\n",
    "parameters = pd.DataFrame()\n",
    "\n",
    "fig, [ax1, ax2] = plt.subplots(1, 2, sharex=True, figsize=(10, 3))\n",
    "\n",
    "for name, response in responses.items():\n",
    "    p = response.get_init_parameters(name)\n",
    "    parameters = pd.concat([parameters, p], axis=0)\n",
    "    ax1.plot(response.block(p.initial), label=name)\n",
    "    ax2.plot(response.step(p.initial), label=name)\n",
    "\n",
    "ax1.set_title(\"Block response\")\n",
    "ax1.grid()\n",
    "ax2.set_title(\"Step responses\")\n",
    "ax2.grid()\n",
    "ax1.set_xlabel(\"Time [days]\")\n",
    "ax2.set_xlabel(\"Time [days]\")\n",
    "ax1.legend()\n",
    "plt.xlim(1e-1, 500)\n",
    "plt.show()"
   ]
  }
 ],
 "metadata": {
  "kernelspec": {
   "display_name": "pastas_dev",
   "language": "python",
   "name": "python3"
  },
  "language_info": {
   "codemirror_mode": {
    "name": "ipython",
    "version": 3
   },
   "file_extension": ".py",
   "mimetype": "text/x-python",
   "name": "python",
   "nbconvert_exporter": "python",
   "pygments_lexer": "ipython3",
   "version": "3.9.15"
  },
  "vscode": {
   "interpreter": {
    "hash": "29475f8be425919747d373d827cb41e481e140756dd3c75aa328bf3399a0138e"
   }
  }
 },
 "nbformat": 4,
 "nbformat_minor": 5
}
