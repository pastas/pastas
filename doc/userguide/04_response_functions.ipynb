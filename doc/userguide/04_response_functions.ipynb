{
 "cells": [
  {
   "cell_type": "markdown",
   "id": "0618a1b0-4bdb-4fc1-89d8-419748f8c255",
   "metadata": {},
   "source": [
    "# Response functions\n",
    "This notebook provides an overview of the response functions that are available in Pastas. Response functions describe the response of the dependent variable (an `oseries` like groundwater heads) to an independent variable (a stress like precipitation or groundwater pumping) and form a fundamental part in approach implemented in Pastas. Depending on the problem under investigation, a response function may be required with a certain shape or with more degrees of freedom (parameters). Response function are generally used in combination with a stress model, but in this notebook the response functions are discussed independently to provide an overview of the different response functions and what they represent."
   ]
  },
  {
   "cell_type": "code",
   "execution_count": 1,
   "id": "7ff724cf-99a8-4fa4-979a-fc41800501bc",
   "metadata": {},
   "outputs": [
    {
     "name": "stdout",
     "output_type": "stream",
     "text": [
      "Python version: 3.9.13\n",
      "NumPy version: 1.21.5\n",
      "Pandas version: 1.4.4\n",
      "SciPy version: 1.9.1\n",
      "Matplotlib version: 3.5.2\n",
      "Numba version: 0.55.1\n",
      "LMfit version: Not Installed\n",
      "Latexify version: 0.2.0\n",
      "Pastas version: 1.0.0b\n"
     ]
    }
   ],
   "source": [
    "import numpy as np\n",
    "import pandas as pd\n",
    "import pastas as ps\n",
    "import matplotlib.pyplot as plt\n",
    "\n",
    "ps.show_versions()"
   ]
  },
  {
   "cell_type": "markdown",
   "id": "177b838e-796c-4c69-a871-7c03921bff64",
   "metadata": {},
   "source": [
    "## Response functions available in Pastas\n",
    "The following response functions are available in Pastas:"
   ]
  },
  {
   "cell_type": "markdown",
   "id": "e930b596-39e7-418d-b588-0b5d2739e67a",
   "metadata": {},
   "source": [
    "### Exponential response function\n",
    "The exponential response function is the simplest response function with only two parameters: a scaling parameter $A$ and a shape parameter $a$. The response function may be used for stresses that start to have an immediate effect on the head, for example precipitation in a shallow aquifer. The step response function plateaus at $A$ (the gain is $A$). \n",
    "The equation for the impulse response is:"
   ]
  },
  {
   "cell_type": "code",
   "execution_count": 2,
   "id": "cf060692-4af9-42a5-bac3-3774901c9082",
   "metadata": {},
   "outputs": [
    {
     "data": {
      "text/latex": [
       "$$ \\displaystyle \\begin{array}{l} \\left( A\\space,\\space a\\right)  = p \\\\ \\mathrm{theta}(t, p) = \\frac{A}{a} \\exp{\\left({\\frac{-t}{a}}\\right)} \\end{array} $$"
      ],
      "text/plain": [
       "<latexify.frontend.LatexifiedFunction at 0x7fa7b4ef9760>"
      ]
     },
     "execution_count": 2,
     "metadata": {},
     "output_type": "execute_result"
    }
   ],
   "source": [
    "ps.Exponential.impulse"
   ]
  },
  {
   "cell_type": "markdown",
   "id": "3bae7259-a80a-4a43-be7b-aa2612076fcf",
   "metadata": {},
   "source": [
    "### Gamma response function\n",
    "The Gamma response function is slightly more complicated than the exponential response function and has one additional shape parameter $n$. When $n>1$, there is a delay in the response. When $n=1$, the Gamma response is the same as the Exponential response. When $n<1$ there is an immediate response. The response function is the most used response function in Pastas, as its shape is versatile and able to mimic many responses found in the field (it is also used in many other parts of hydrology to simulate a hydrological response).  The step response plateaus at $A$ (the gain is $A$). The equation for the impulse response is:"
   ]
  },
  {
   "cell_type": "code",
   "execution_count": 3,
   "id": "d1563c41-541b-45e5-a43f-30d78c3db07e",
   "metadata": {},
   "outputs": [
    {
     "data": {
      "text/latex": [
       "$$ \\displaystyle \\begin{array}{l} \\left( A\\space,\\space n\\space,\\space a\\right)  = p \\\\ \\mathrm{theta}(t, p) = \\frac{A t^{n - {1}} \\exp{\\left({\\frac{-t}{a}}\\right)}}{a^{n} \\mathrm{{\\Gamma}}\\left(n\\right)} \\end{array} $$"
      ],
      "text/plain": [
       "<latexify.frontend.LatexifiedFunction at 0x7fa7b4e681f0>"
      ]
     },
     "execution_count": 3,
     "metadata": {},
     "output_type": "execute_result"
    }
   ],
   "source": [
    "ps.Gamma.impulse"
   ]
  },
  {
   "cell_type": "markdown",
   "id": "bfce9b72-c010-418b-af5a-a47d7eb43da2",
   "metadata": {},
   "source": [
    "### Hantush response function\n",
    "The Hantush response function is intended for the simulation of the response of pumping wells. It is based on the classic Hantush function for pumping in a semi-confined aquifer. The response function has one scale parameter $A$ and two shape parameters $a$ and $b$.  \n",
    "The step response plateaus at $A$ (the gain is $A$). The equation for the impulse response is:"
   ]
  },
  {
   "cell_type": "code",
   "execution_count": 4,
   "id": "d54da8c6-8845-4f03-9b21-65c05aebf56a",
   "metadata": {},
   "outputs": [
    {
     "data": {
      "text/latex": [
       "$$ \\displaystyle \\begin{array}{l} \\left( A\\space,\\space a\\space,\\space b\\right)  = p \\\\ \\mathrm{theta}(t, p) = \\frac{A}{{2} t \\mathrm{K_0}\\left({2} \\sqrt{b}\\right)} \\exp{\\left({\\frac{-t}{a} - \\frac{a b}{t}}\\right)} \\end{array} $$"
      ],
      "text/plain": [
       "<latexify.frontend.LatexifiedFunction at 0x7fa7b4f18c40>"
      ]
     },
     "execution_count": 4,
     "metadata": {},
     "output_type": "execute_result"
    }
   ],
   "source": [
    "ps.Hantush.impulse"
   ]
  },
  {
   "cell_type": "markdown",
   "id": "87cd9ad9-cd83-4b3e-98b0-c8aad4791ed5",
   "metadata": {},
   "source": [
    "### Double exponential function\n",
    "The Double exponential response function is intended for the simulation in a multi-aquifer system, with an initially a quick response and after that a slower response. It consists of two exponential functions and contains four parameters: the scale parameter $A$, two shape parameters $a_1$ and $a_2$, and a parameter $\\alpha$ that distributes the response between the two exponential functions. The step response plateaus at $A$ (the gain is $A$). The Double exponential function is not applied very often in practice. The equation for the impulse response is:"
   ]
  },
  {
   "cell_type": "code",
   "execution_count": 5,
   "id": "3c01bd90-699d-4200-97e4-4e9141f92aca",
   "metadata": {},
   "outputs": [
    {
     "data": {
      "text/latex": [
       "$$ \\displaystyle \\begin{array}{l} \\left( A\\space,\\space {\\alpha}\\space,\\space a_1\\space,\\space a_2\\right)  = p \\\\ \\mathrm{theta}(t, p) = A \\left( \\frac{{1} - {\\alpha}}{a_1} \\exp{\\left({\\frac{-t}{a_1}}\\right)} + \\frac{{\\alpha}}{a_2} \\exp{\\left({\\frac{-t}{a_2}}\\right)} \\right) \\end{array} $$"
      ],
      "text/plain": [
       "<latexify.frontend.LatexifiedFunction at 0x7fa7b4e68310>"
      ]
     },
     "execution_count": 5,
     "metadata": {},
     "output_type": "execute_result"
    }
   ],
   "source": [
    "ps.DoubleExponential.impulse"
   ]
  },
  {
   "cell_type": "markdown",
   "id": "bdaabac7-0580-42e8-b6e1-a2ec67e0c70b",
   "metadata": {},
   "source": [
    "### Polder function\n",
    "The Polder response function is intended for the simulation of the response to variations of surface water levels. It is based on the response of a semi-confined aquifer to a variation in the surface water boundary. The response function has one scale parameter $A$ and two shape parameters $a$ and $b$. The step response plateaus at $A\\exp(-2\\sqrt{b})$ (the gain is $A\\exp(-2\\sqrt{b})$. The equation for the impulse response is:"
   ]
  },
  {
   "cell_type": "code",
   "execution_count": 6,
   "id": "8c2ef10e-7953-42fb-8115-800ae747ce59",
   "metadata": {},
   "outputs": [
    {
     "data": {
      "text/latex": [
       "$$ \\displaystyle \\begin{array}{l} \\left( A\\space,\\space a\\space,\\space b\\right)  = p \\\\ \\mathrm{theta}(t, p) = A \\sqrt{\\frac{a b}{{\\pi}}} t^{-{1.5}} \\exp{\\left({\\frac{-t}{a} - \\frac{a b}{t}}\\right)} \\end{array} $$"
      ],
      "text/plain": [
       "<latexify.frontend.LatexifiedFunction at 0x7fa7b4f6b9a0>"
      ]
     },
     "execution_count": 6,
     "metadata": {},
     "output_type": "execute_result"
    }
   ],
   "source": [
    "ps.Polder.impulse"
   ]
  },
  {
   "cell_type": "markdown",
   "id": "ee5cb191-f37f-40a8-b278-be9970b5cbbf",
   "metadata": {},
   "source": [
    "### Four parameter function\n",
    "The four parameter function is a function with four parameters that includes the Exponential, Gamma, Hantush and Polder functions as a special case. It is the most general function, but it is relatively slow to compute. This function needs further documentation."
   ]
  },
  {
   "cell_type": "code",
   "execution_count": 7,
   "id": "635a2e71-d385-4b83-aee9-1664280e4d4c",
   "metadata": {},
   "outputs": [
    {
     "data": {
      "text/latex": [
       "$$ \\displaystyle \\begin{array}{l} \\left( _\\space,\\space n\\space,\\space a\\space,\\space b\\right)  = p \\\\ \\mathrm{theta}(t, p) = t^{n - {1}} \\exp{\\left({\\frac{-t}{a} - \\frac{a b}{t}}\\right)} \\end{array} $$"
      ],
      "text/plain": [
       "<latexify.frontend.LatexifiedFunction at 0x7fa7b4f6b580>"
      ]
     },
     "execution_count": 7,
     "metadata": {},
     "output_type": "execute_result"
    }
   ],
   "source": [
    "ps.FourParam.impulse"
   ]
  },
  {
   "cell_type": "code",
   "execution_count": null,
   "id": "7519d1fb-fa04-4acf-8e13-e4dc0e807414",
   "metadata": {},
   "outputs": [],
   "source": []
  }
 ],
 "metadata": {
  "kernelspec": {
   "display_name": "Python 3 (ipykernel)",
   "language": "python",
   "name": "python3"
  },
  "language_info": {
   "codemirror_mode": {
    "name": "ipython",
    "version": 3
   },
   "file_extension": ".py",
   "mimetype": "text/x-python",
   "name": "python",
   "nbconvert_exporter": "python",
   "pygments_lexer": "ipython3",
   "version": "3.9.13"
  }
 },
 "nbformat": 4,
 "nbformat_minor": 5
}
