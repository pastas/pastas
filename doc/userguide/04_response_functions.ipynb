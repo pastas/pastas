{
 "cells": [
  {
   "cell_type": "markdown",
   "metadata": {},
   "source": [
    "# Response functions\n",
    "This notebook provides an overview of the response functions that are available in Pastas. Response functions describe the response of the dependent variable (e.g., groundwater levels) to an independent variable (e.g., groundwater pumping) and form a fundamental part in the transfer function noise models implemented in Pastas. Depending on the problem under investigation, a less or more complex response function may be required, where the complexity is quantified by the number of parameters. Response function are generally used in combination with a stressmodel, but in this notebook the response functions are studied independently to provide an overview of the different response functions and what they represent."
   ]
  },
  {
   "cell_type": "code",
   "execution_count": null,
   "metadata": {
    "pycharm": {
     "is_executing": false
    }
   },
   "outputs": [],
   "source": [
    "import numpy as np\n",
    "import pandas as pd\n",
    "import pastas as ps\n",
    "\n",
    "import matplotlib.pyplot as plt\n",
    "\n",
    "ps.show_versions()"
   ]
  },
  {
   "cell_type": "markdown",
   "metadata": {},
   "source": [
    "## The use of response functions\n",
    "Depending on the stress type (e.g., recharge, river levels or groundwater pumping) different response function may be used. All response functions that are tested and supported in Pastas are summarized in the table below for reference. The equation in the third column is the formula for the impulse response function ($\\theta(t)$).\n",
    "\n",
    "| Name             | Fitting parameters  | Formula                                                                 | Description                                                                    |\n",
    "|------------------|-------------|:------------------------------------------------------------------------|--------------------------------------------------------------------------------|\n",
    "| FourParam | 4 - A, n, a, b | $$ \\theta(t) = A \\frac{t^{n-1}}{a^n \\Gamma \\left(n \\right)} e^{-t/a- ab/t} $$ | Response function with four parameters that may be used for many purposes. Many other response function are a simplification of this function. |\n",
    "| Gamma |3 - A, a, n | $$ \\theta(t) = A \\frac{t^{n-1}}{a^n \\Gamma \\left(n \\right)} e^{-t/a} $$ | Three parameter version of FourParam, used for all sorts of stresses ($b=0$) |\n",
    "| Exponential | 2 - A, a | $$ \\theta(t) = \\frac{A}{a} e^{-t/a} $$ | Response function that can be used for stresses that have an (almost) instant effect. ($n=1$ and $b=0$) |\n",
    "| Hantush | 3 - A, a, b | $$ \\theta(t) = \\frac{A}{2t \\text{K}_0 \\left(2 \\sqrt{b} \\right)} e^{-t/a - ab/t} $$ | Response function commonly used for groundwater extraction wells ($n=0$) |\n",
    "| Polder | 3 - a, b, c | $$ \\theta(t) = At^{-3/2} e^{-t/a -b/t} $$ | Response function commonly used to simulate the effects of (river) water levels on the groundwater levels ($n=-1/2$) |\n",
    "| DoubleExponential | 4 - A, $\\alpha$, $a_1$, $a_2$ | $$ \\theta(t) = A \\left(1 - \\alpha \\right) e^{-t/a_1} + A \\alpha e^{-t/a_2} $$ | Response Function with a double exponential, simulating a fast and slow response. |\n",
    "| Edelman | 1 - $\\beta$ | $$ \\theta(t) = \\text{?} $$ | The function of Edelman, describing the propagation of an instantaneous water level change into an adjacent half-infinite aquifer. | \n",
    "| HantushWellModel | 3 - $A^\\prime$, a, $b^\\prime$ | $$ \\theta(r,t) = \\frac{A^\\prime}{2t} e^{-t/a - a r^2 \\exp(b^\\prime) /t} $$ | A special implementation of the Hantush well function for multiple wells. |\n",
    "\n",
    "Below the different response functions are plotted."
   ]
  },
  {
   "cell_type": "code",
   "execution_count": null,
   "metadata": {
    "pycharm": {
     "is_executing": false
    }
   },
   "outputs": [],
   "source": [
    "# Default Settings\n",
    "cutoff = 0.999\n",
    "gain_scale_factor = 1\n",
    "up = True\n",
    "\n",
    "responses = {}\n",
    "exp = ps.Exponential()\n",
    "responses[\"Exponential\"] = exp\n",
    "\n",
    "gamma = ps.Gamma()\n",
    "responses[\"Gamma\"] = gamma\n",
    "\n",
    "hantush = ps.Hantush()\n",
    "responses[\"Hantush\"] = hantush\n",
    "\n",
    "polder = ps.Polder()\n",
    "responses[\"Polder\"] = polder\n",
    "\n",
    "fourp = ps.FourParam()\n",
    "responses[\"FourParam\"] = fourp\n",
    "\n",
    "DoubleExp = ps.DoubleExponential()\n",
    "responses[\"DoubleExponential\"] = DoubleExp\n",
    "\n",
    "parameters = pd.DataFrame()\n",
    "\n",
    "fig, [ax1, ax2] = plt.subplots(1, 2, sharex=True, figsize=(10, 3))\n",
    "\n",
    "for name, response in responses.items():\n",
    "    p = response.get_init_parameters(name)\n",
    "    parameters = pd.concat([parameters, p], axis=0)\n",
    "    ax1.plot(response.block(p.initial), label=name)\n",
    "    ax2.plot(response.step(p.initial), label=name)\n",
    "\n",
    "ax1.set_title(\"Block response\")\n",
    "ax2.set_title(\"Step responses\")\n",
    "ax1.set_xlabel(\"Time [days]\")\n",
    "ax2.set_xlabel(\"Time [days]\")\n",
    "ax1.legend()\n",
    "plt.xlim(1e-1, 500)\n",
    "plt.show()"
   ]
  },
  {
   "cell_type": "markdown",
   "metadata": {},
   "source": [
    "### Scaling of the step response functions\n",
    "An important characteristic is the so-called \"gain\" of a response function. The gain is the final increase or decrease that results from a unit increase or decrease in a stress that continues infinitely in time (e.g., pumping at a constant rate forever). This can be visually inspected by the value of the step response function for large values of $t$ but can also be inferred from the parameters as follows:\n",
    "\n",
    "- The FourParam, Gamma, Exponential, and Hantush step functions are scaled such that the gain equals $A$\n",
    "- The Polder function is scaled such that the gain equals $\\exp\\left(-2\\sqrt{b}\\right)$\n",
    "- The gain of the Edelman function always equals 1, but this will take an infinite amount of time.\n",
    "\n",
    "## Comparison of the different response functions\n",
    "The `Gamma`, `Exponential`, `Polder`, and `Hantush` response function can all be derived from the more general `FourParam` response function by fixing the parameters $n$ and/or $b$ to a specific value. The `DoubleExponential`, `Edelman`, and `HantushWellModel` cannot be written as some form of the `FourParam` function. Below the response function that are special forms of the four parameter function are are shown for different values of $n$ and $b$."
   ]
  },
  {
   "cell_type": "code",
   "execution_count": null,
   "metadata": {},
   "outputs": [],
   "source": [
    "A = 1\n",
    "a = 50\n",
    "b = 0.4\n",
    "plt.figure(figsize=(16, 8))\n",
    "for i, n in enumerate([-0.5, 1e-6, 0.5, 1, 1.5]):\n",
    "    plt.subplot(2, 3, i + 1)\n",
    "    plt.title(f\"n={n:0.1f}\")\n",
    "    fp = fourp.step([A, n, a, b], dt=1, cutoff=0.95)\n",
    "    plt.plot(np.arange(1, len(fp) + 1), fp, \"C0\", label=\"4-param\")\n",
    "    e = exp.step([A, a], dt=1, cutoff=0.95)\n",
    "    plt.plot(np.arange(1, len(e) + 1), e, \"C1\", label=\"exp\")\n",
    "    if n > 0:\n",
    "        g = gamma.step([A, n, a], dt=1, cutoff=0.95)\n",
    "        plt.plot(np.arange(1, len(g) + 1), g, \"C2\", label=\"gamma\")\n",
    "    h = hantush.step([A, a, b], dt=1, cutoff=0.95) / hantush.gain([A, a, b])\n",
    "    plt.plot(np.arange(1, len(h) + 1), h, \"C3\", label=\"hantush\")\n",
    "    p = polder.step([A, a, b], dt=1, cutoff=0.95) / polder.gain([A, a, b])\n",
    "    plt.plot(np.arange(1, len(p) + 1), p, \"C4\", label=\"polder\")\n",
    "    plt.xlim(0, 200)\n",
    "    plt.legend()\n",
    "    if n > 0:\n",
    "        print(\"fp, e, g, h, p:\", fp[-1], e[-1], g[-1], h[-1], p[-1])\n",
    "    else:\n",
    "        print(\"fp, e, h, p:\", fp[-1], e[-1], h[-1], p[-1])\n",
    "    plt.axhline(0.95, linestyle=\":\", label=\"95\\% cutoff\")"
   ]
  },
  {
   "attachments": {},
   "cell_type": "markdown",
   "metadata": {
    "pycharm": {
     "name": "#%% md\n"
    }
   },
   "source": [
    "## Parameter settings\n",
    "- **up** : This parameters determines whether the influence of the stress goes up or down, hence a positive or a negative response function. For example, when groundwater pumping is defined as a positive flux, `up=False` because we want the groundwater levels to decrease as a result of pumping.\n",
    "- **gain_scale_factor** : This parameter is used to estimate the initial value of the stationary effect of a stress. Hence the effect when a stress stays at an unit level for infinite amount of time. This parameter is usually referred from the stress time series and does not have to be provided by the user.\n",
    "- **cutoff** : This parameter determines for how many time steps the response is calculated. This reduces calculation times as it reduces the length of the array the stress is convolved with. The default value is 0.999, meaning that the response is cutoff after 99.9% of the effect of the stress impulse has occurred. A minimum of length of three times the simulation time step is applied. \n",
    "\n",
    "The default parameter values for each of the response function are as follows:"
   ]
  },
  {
   "cell_type": "code",
   "execution_count": null,
   "metadata": {
    "collapsed": false,
    "jupyter": {
     "outputs_hidden": false
    },
    "pycharm": {
     "name": "#%% \n"
    }
   },
   "outputs": [],
   "source": [
    "parameters"
   ]
  },
  {
   "cell_type": "markdown",
   "metadata": {},
   "source": [
    "## Comparison to classical analytical response functions\n",
    "\n",
    "### Polder step function compared to classic polder function\n",
    "The classic polder function is (Eq. 123.32 in Bruggeman, 1999)\n",
    "\n",
    "$$\n",
    "h(t) = \\Delta h \\text{P}\\left(\\frac{x}{2\\lambda}, \\sqrt{\\frac{t}{cS}}\\right)\n",
    "$$\n",
    "\n",
    "where P is the polder function."
   ]
  },
  {
   "cell_type": "code",
   "execution_count": null,
   "metadata": {},
   "outputs": [],
   "source": [
    "from scipy.special import erfc\n",
    "\n",
    "\n",
    "def polder_classic(t, x, T, S, c):\n",
    "    X = x / (2 * np.sqrt(T * c))\n",
    "    Y = np.sqrt(t / (c * S))\n",
    "    rv = 0.5 * np.exp(2 * X) * erfc(X / Y + Y) + 0.5 * np.exp(-2 * X) * erfc(X / Y - Y)\n",
    "    return rv\n",
    "\n",
    "\n",
    "delh = 2\n",
    "T = 20\n",
    "c = 5000\n",
    "S = 0.01\n",
    "x = 400\n",
    "x / np.sqrt(c * T)\n",
    "t = np.arange(1, 121)\n",
    "h_polder_classic = np.zeros(len(t))\n",
    "for i in range(len(t)):\n",
    "    h_polder_classic[i] = delh * polder_classic(t[i], x=x, T=T, S=S, c=c)\n",
    "#\n",
    "A = delh\n",
    "a = c * S\n",
    "b = x**2 / (4 * T * c)\n",
    "hpd = polder.step([A, a, b], dt=1, cutoff=0.95)\n",
    "#\n",
    "plt.plot(t, h_polder_classic, label=\"Polder classic\")\n",
    "plt.plot(np.arange(1, len(hpd) + 1), hpd, label=\"Polder Pastas\", linestyle=\"--\")\n",
    "plt.legend()"
   ]
  },
  {
   "cell_type": "markdown",
   "metadata": {
    "tags": []
   },
   "source": [
    "### Hantush step function compared to classic Hantush function\n",
    "The classic Hantush function is \n",
    "\n",
    "$$\n",
    "h(r, t) = \\frac{-Q}{4\\pi T}\\int_u  ^\\infty  \\exp\\left(-y - \\frac{r^2}{4  \\lambda^2 y} \\right) \\frac{\\text{d}y}{y} \n",
    "$$\n",
    "\n",
    "where\n",
    "\n",
    "$$\n",
    "u=\\frac{r^2 S}{4 T t}\n",
    "$$\n",
    "\n",
    "For large time, the classic Hantush function goes to\n",
    "\n",
    "$$\n",
    "\\lim_{t\\to\\infty} h(r, t) = \\frac{-Q}{2\\pi T}\\text{K}_0(r/\\lambda)\n",
    "$$\n",
    "\n",
    "where $\\lambda^2=cT$. \n",
    "The classic Hantush function is a step function. The impulse response function $\\theta$ is obtained by differentiation\n",
    "\n",
    "$$\n",
    "\\theta(t) = \\frac{\\partial h}{\\partial t} = \\frac{-Q}{4\\pi Tt} \\exp\\left(\\frac{-t}{cS} -\\frac{r^2cS}{4cTt}\\right)\n",
    "$$\n",
    "\n",
    "The Hantush impulse response function used in Pastas is defined as\n",
    "\n",
    "$$\n",
    "\\theta(t) = A\\frac{1}{2\\text{K}_0(2\\sqrt{b})} \\frac{1}{t} e^{-t/a - ab/t} \n",
    "$$\n",
    "\n",
    "Hence, the parameters in Pastas are related to the classic Hantush function as\n",
    "\n",
    "$$\n",
    "A = -\\frac{\\text{K}_0(2\\sqrt{b})}{2\\pi T}\n",
    "$$\n",
    "\n",
    "$$\n",
    "a = cS\n",
    "$$\n",
    "\n",
    "$$\n",
    "b = \\frac{r^2}{4\\lambda^2}\n",
    "$$"
   ]
  },
  {
   "cell_type": "code",
   "execution_count": null,
   "metadata": {},
   "outputs": [],
   "source": [
    "from scipy.integrate import quad\n",
    "from scipy.special import k0\n",
    "\n",
    "\n",
    "def integrand_hantush(y, r, lab):\n",
    "    return np.exp(-y - r**2 / (4 * lab**2 * y)) / y\n",
    "\n",
    "\n",
    "def hantush_classic(t=1, r=1, Q=1, T=100, S=1e-4, c=1000):\n",
    "    lab = np.sqrt(T * c)\n",
    "    u = r**2 * S / (4 * T * t)\n",
    "    F = quad(integrand_hantush, u, np.inf, args=(r, lab))[0]\n",
    "    return -Q / (4 * np.pi * T) * F\n",
    "\n",
    "\n",
    "c = 1000  # d\n",
    "S = 0.01  # -\n",
    "T = 100  # m^2/d\n",
    "r = 500  # m\n",
    "Q = 20  # m^3/d\n",
    "lab = np.sqrt(T * c)\n",
    "#\n",
    "A = k0(r / lab) / (2 * np.pi * T)\n",
    "a = c * S\n",
    "b = r**2 / (4 * T * c)\n",
    "\n",
    "#\n",
    "ht = hantush.step([A, a, b], dt=1, cutoff=0.99) * -Q  # multiply by Q\n",
    "\n",
    "# calculate classic Hantush\n",
    "t = np.arange(1, len(ht) + 1)\n",
    "h_hantush_classic = np.zeros(len(t))\n",
    "for i in range(len(t)):\n",
    "    h_hantush_classic[i] = hantush_classic(t[i], r=r, Q=Q, T=T, S=S, c=c)\n",
    "\n",
    "# plot comparison\n",
    "plt.plot(t, h_hantush_classic, label=\"Hantush classic\")\n",
    "plt.plot(np.arange(1, len(ht) + 1), ht, \"--\", label=\"Hantush Pastas\")\n",
    "plt.axhline(-Q * A, ls=\"dashed\", c=\"k\", label=\"Q*A\")\n",
    "plt.grid()\n",
    "plt.legend();"
   ]
  },
  {
   "cell_type": "markdown",
   "metadata": {},
   "source": [
    "### HantushWellModel step function in Pastas compared to classic Hantush function and Hantush function in Pastas\n",
    "The impulse response of the classic Hantush function is\n",
    "\n",
    "$$\n",
    "\\theta(t) = \\frac{\\partial h}{\\partial t} = \\frac{-Q}{4\\pi Tt} \\exp\\left(\\frac{-t}{cS} -\\frac{r^2cS}{4cTt}\\right)\n",
    "$$\n",
    "\n",
    "The impulse response used for the HantushWellModel is\n"
   ]
  },
  {
   "cell_type": "markdown",
   "metadata": {},
   "source": [
    "The HantushWellModel impulse response function used in Pastas is defined as\n",
    "\n",
    "$$\n",
    "\\theta(r, t) = \\frac{A^\\prime}{2t} e^{-t/a - a r^2 \\exp(b^\\prime) /t} \n",
    "$$\n",
    "\n",
    "Where $ A^\\prime $, $a$, and $b^\\prime$ are fitting parameters. The parameters are named $A^\\prime $ and $b^\\prime$ to distinguish them from $A$ and $b$ in the original Hantush formulation. The fitting parameters are related to the geohydrological parameters as\n",
    "\n",
    "$$\n",
    "A^\\prime = -\\frac{1}{2\\pi T}\n",
    "$$\n",
    "\n",
    "$$\n",
    "a = cS\n",
    "$$\n",
    "\n",
    "$$\n",
    "b^\\prime = \\ln \\left( \\frac{1}{4\\lambda^2} \\right)\n",
    "$$\n",
    "\n",
    "and the gain of the HantushWellModel is\n",
    "\n",
    "$$\n",
    "\\text{gain} = A^\\prime\\text{K}_0 \\left( 2 r \\exp \\left( \\frac{b^\\prime}{2} \\right) \\right)\n",
    "$$"
   ]
  },
  {
   "cell_type": "code",
   "execution_count": null,
   "metadata": {},
   "outputs": [],
   "source": [
    "# compare pastas.Hantush to pastas.HantushWellModel\n",
    "\n",
    "hantush = ps.Hantush()\n",
    "hantush._update_rfunc_settings(up=-1)\n",
    "hantushwm = ps.HantushWellModel()\n",
    "hantushwm._update_rfunc_settings(up=-1)\n",
    "hantushwm.set_distances = 1.0\n",
    "\n",
    "bprime = np.log(1 / (4 * T * c))\n",
    "Aprime = A / k0(2 * r * np.exp(bprime / 2))\n",
    "\n",
    "h = hantush.step([A, a, b], dt=1, cutoff=0.99)\n",
    "hwm = hantushwm.step([Aprime, a, bprime, r], dt=1, cutoff=0.99)\n",
    "\n",
    "plt.plot(hwm, \"-\", label=\"HantushWellModel\")\n",
    "plt.plot(h, \".\", label=\"Hantush\")\n",
    "plt.axhline(A, ls=\"dashed\", color=\"k\", label=\"Gain\")\n",
    "plt.legend()\n",
    "plt.grid();"
   ]
  },
  {
   "cell_type": "code",
   "execution_count": null,
   "metadata": {},
   "outputs": [],
   "source": []
  }
 ],
 "metadata": {
  "kernelspec": {
   "display_name": "pastas_dev",
   "language": "python",
   "name": "python3"
  },
  "language_info": {
   "codemirror_mode": {
    "name": "ipython",
    "version": 3
   },
   "file_extension": ".py",
   "mimetype": "text/x-python",
   "name": "python",
   "nbconvert_exporter": "python",
   "pygments_lexer": "ipython3",
   "version": "3.9.15 | packaged by conda-forge | (main, Nov 22 2022, 08:41:22) [MSC v.1929 64 bit (AMD64)]"
  },
  "latex_envs": {
   "LaTeX_envs_menu_present": true,
   "autoclose": false,
   "autocomplete": true,
   "bibliofile": "biblio.bib",
   "cite_by": "apalike",
   "current_citInitial": 1,
   "eqLabelWithNumbers": true,
   "eqNumInitial": 1,
   "hotkeys": {
    "equation": "Ctrl-E",
    "itemize": "Ctrl-I"
   },
   "labels_anchors": false,
   "latex_user_defs": false,
   "report_style_numbering": false,
   "user_envs_cfg": false
  },
  "pycharm": {
   "stem_cell": {
    "cell_type": "raw",
    "metadata": {
     "collapsed": false
    },
    "source": []
   }
  },
  "vscode": {
   "interpreter": {
    "hash": "29475f8be425919747d373d827cb41e481e140756dd3c75aa328bf3399a0138e"
   }
  }
 },
 "nbformat": 4,
 "nbformat_minor": 4
}
