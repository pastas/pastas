{
 "cells": [
  {
   "cell_type": "markdown",
   "metadata": {},
   "source": [
    "# Time series in Pastas\n",
    "\n",
    "Time series are at the heart of Pastas and modeling hydraulic head fluctuations. In this section background information is provided on important characteristics of time series and how these may influence your modeling results."
   ]
  },
  {
   "cell_type": "code",
   "execution_count": null,
   "metadata": {
    "tags": [
     "hide-input"
    ]
   },
   "outputs": [],
   "source": [
    "import numpy as np\n",
    "import pandas as pd\n",
    "import matplotlib.pyplot as plt\n",
    "import pastas as ps"
   ]
  },
  {
   "cell_type": "markdown",
   "metadata": {},
   "source": [
    "## Different types of time series\n",
    "\n",
    "### regular and irregular time series\n",
    "\n",
    "Time series data may be defined as a set of data values measured at certain times, ordered in a way that the time indices are increasing. Many time series analysis and modeling methods require that the time step between the measurements is always the same or in other words, equidistant. Such regular time series may have missing data, but it will still be possible to lay the values on a time-grid with constant time steps. Often hydraulic heads were measured at irregular time intervals, and the time series is irregular. This is especially true for historic time series that were measured by hand. The result is that the measurements can not be laid on a regular time grid. The figure below graphically shows the difference between the three types of time series."
   ]
  },
  {
   "cell_type": "code",
   "execution_count": null,
   "metadata": {
    "tags": [
     "hide-input"
    ]
   },
   "outputs": [],
   "source": [
    "regular = pd.Series(\n",
    "    index=pd.date_range(\"2000-01-01\", \"2000-01-10\", freq=\"D\"), data=np.ones(10)\n",
    ")\n",
    "missing_data = regular.copy()\n",
    "missing_data.loc[[\"2000-01-03\", \"2000-01-08\"]] = np.nan\n",
    "\n",
    "index = [t + pd.Timedelta(np.random.rand() * 24, unit=\"H\") for t in missing_data.index]\n",
    "irregular = missing_data.copy()\n",
    "irregular.index = index\n",
    "\n",
    "fig, axes = plt.subplots(3, 1, figsize=(6, 3), sharex=True, sharey=True)\n",
    "\n",
    "regular.plot(ax=axes[0], linestyle=\" \", marker=\"o\", x_compat=True)\n",
    "missing_data.plot(ax=axes[1], linestyle=\" \", marker=\"o\", x_compat=True)\n",
    "irregular.plot(ax=axes[2], linestyle=\" \", marker=\"o\", x_compat=True)\n",
    "\n",
    "for i, name in enumerate(\n",
    "    [\"(a) Regular time steps\", \"(b) Missing Data\", \"(c) Irregular time steps\"]\n",
    "):\n",
    "    axes[i].grid()\n",
    "    axes[i].set_title(name)\n",
    "plt.tight_layout()"
   ]
  },
  {
   "cell_type": "markdown",
   "metadata": {},
   "source": [
    "### Independent and dependent time series \n",
    "\n",
    "We can differentiate between two types of input time series for Pastas models: the dependent and independent time series. The dependent time series are those that we want to explain (e.g., the groundwater levels), and are referred to as the `oseries` in pastas. The independent time series are those that we use to model the dependent time series (e.g., precipitation or evaporation), and are referred to as `stresses` in Pastas. The requirements for these time series are different:\n",
    "\n",
    "- The dependent time series may be of any kind: regular, missing data or irregular.\n",
    "- The stress time series needs to have regular time steps.\n",
    "\n",
    "### A word on timestamps and measurements\n",
    "\n",
    "Often the measurements represent a flux measured over a certain time period. For example, precipitation is often provided in mm/day, and the value represent the cumulative precipitation amount for a day. This is recorded at the end of the day, e.g., 2000-01-01 24:00:00 represents the total precipitation that fell on the first of January.\n",
    "\n",
    "## The Python package for time series data: Pandas\n",
    "\n",
    "Pandas provides a lot of methods to deal with time series data, for example resampling, gap-filling, and computing descriptive statistics. Another important functionality of Pandas are the `Pandas.read_csv` and related methods, which allows you to easily load data from csv-files and other popular data storage formats. For more information and user guidance on Pandas please see their documentation website (https://pandas.pydata.org).\n",
    "\n",
    "All time series should be provided to Pastas as `pandas.Series` with a `pandas.DatetimeIndex`. Internally, these time series are stored in a `pastas.TimeSeries` object, which adds functionality for resampling and extending the time series in time. More on that later. Pandas provides a lot of methods to deal with time series data, for example resampling, gap-filling, and computing descriptive statistics. Another important functionality of Pandas are the `Pandas.read_csv` and related methods, which  \n",
    "\n",
    "<div class=\"alert alert-info\">\n",
    "\n",
    "<b>Note</b>\n",
    "    \n",
    "* The dtype for a date should be the `pandas.Timestamp`.\n",
    "* The dtype for a sequence of dates should be the `pandas.DatetimeIndex` with `pandas.Timestamp`s.\n",
    "* The dtype for a time series should be a `pandas.Series` with a `pandas.DatetimeIndex`.\n",
    "* The dtype for the values of a `pandas.Series` should be `float`.    \n",
    "    \n",
    "</div>\n",
    "\n",
    "## Validating user-provided time series\n",
    "\n",
    "As is clear from the descriptions above, the user is required to provide time series in a certain format and with certain characteristics, depending on the type of time series. To prevent issues later in the modelng chain, all user-provided time series are internally checked on a number of things. This is done using the `pastas.validate_stress` and `pastas.validate_oseries` methods, which can also be called directly by the user. Let's look at the docstring of these methods to see what is checked:"
   ]
  },
  {
   "cell_type": "code",
   "execution_count": null,
   "metadata": {},
   "outputs": [],
   "source": [
    "?ps.validate_stress"
   ]
  },
  {
   "cell_type": "markdown",
   "metadata": {},
   "source": [
    "The last check (equidistant time steps) is not required for `oseries`. If any of these checks fail, the `pastas.validate_stress` and `pastas.validate_oseries` methods will return an Error with pointers on how to solve the problem and fix the time series. We refer to the Examples-section for more example of how to pre-process the user-provided time series."
   ]
  },
  {
   "cell_type": "markdown",
   "metadata": {},
   "source": [
    "## Settings for user-provided time series\n",
    "\n",
    "As mentioned before the user-provided time series are internally stored as `pastas.TimeSeries` objects. The TimeSeries class is used internally to:\n",
    "\n",
    "1. extend the time series forward and backward in time, \n",
    "2. to resample the time series to a different frequency.\n",
    "\n",
    "It should be noted that if these operations are not required (e.g., th time series is long enough or/and the right frequency) Pastas will use the user-provided time series directly. How these two operations are performed (only if required) depends on the `settings` that are provided. Providing these setting is done when creating a stress model object. By default, all the stressmodels have sensible predefined values for this. These predefined options can accessed through `ps.rcParams[\"timeseries\"]`:"
   ]
  },
  {
   "cell_type": "code",
   "execution_count": null,
   "metadata": {},
   "outputs": [],
   "source": [
    "pd.DataFrame.from_dict(ps.rcParams[\"timeseries\"])"
   ]
  },
  {
   "cell_type": "markdown",
   "metadata": {},
   "source": [
    "Each column name is a valid option for the `settings` argument. For example, the default setting for the precipitation stress provided to the `ps.RechargeModel` object is \"prec\" (see the docstring of `ps.RechargeModel`). This means that the following settings is used:"
   ]
  },
  {
   "cell_type": "code",
   "execution_count": null,
   "metadata": {},
   "outputs": [],
   "source": [
    "ps.rcParams[\"timeseries\"][\"prec\"]\n",
    "\n",
    "# sm = ps.Stressmodel(stress, settings=\"prec\")"
   ]
  },
  {
   "cell_type": "markdown",
   "metadata": {},
   "source": [
    "Alternatively, one may provide a dictionary to a stress model object with the settings. "
   ]
  },
  {
   "cell_type": "code",
   "execution_count": null,
   "metadata": {},
   "outputs": [],
   "source": [
    "settings = {\n",
    "    \"fill_before\": 0.0,\n",
    "    \"fill_after\": 0.0,\n",
    "    # Etcetera\n",
    "}\n",
    "# sm = ps.Stressmodel(stress, settings=settings)"
   ]
  },
  {
   "cell_type": "markdown",
   "metadata": {},
   "source": [
    "If Pastas does an operation on the original time series, it will **always** output an INFO message describing what is done. To see these, make sure the log_level of Pastas is set to \"INFO\" by running `ps.set_log_level(\"INFO\")` before."
   ]
  }
 ],
 "metadata": {
  "kernelspec": {
   "display_name": "Python 3 (ipykernel)",
   "language": "python",
   "name": "python3"
  },
  "language_info": {
   "codemirror_mode": {
    "name": "ipython",
    "version": 3
   },
   "file_extension": ".py",
   "mimetype": "text/x-python",
   "name": "python",
   "nbconvert_exporter": "python",
   "pygments_lexer": "ipython3",
   "version": "3.10.5"
  }
 },
 "nbformat": 4,
 "nbformat_minor": 4
}
