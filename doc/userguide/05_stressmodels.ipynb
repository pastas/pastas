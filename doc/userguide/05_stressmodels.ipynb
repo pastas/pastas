{
 "cells": [
  {
   "attachments": {},
   "cell_type": "markdown",
   "id": "e9d670aa",
   "metadata": {},
   "source": [
    "# Stress models\n",
    "\n",
    "In this notebook we dive a bit deeper into which stressmodels are available in Pastas. Pastas uses Stressmodels to translate a hydrological stress to a contribution to a observed head time series. There are different stressmodels for unique use-cases. \n",
    "In Pastas we have the following StressModels:"
   ]
  },
  {
   "cell_type": "code",
   "execution_count": null,
   "id": "09feef34",
   "metadata": {},
   "outputs": [],
   "source": [
    "import pastas as ps\n",
    "\n",
    "ps.stressmodels.__all__"
   ]
  },
  {
   "attachments": {},
   "cell_type": "markdown",
   "id": "3deaeaac",
   "metadata": {},
   "source": [
    "## Attributes\n",
    "Each stressmodel has the following attributes:\n",
    "- stress (pandas Series)\n",
    "- name (str, must be unique within a Model)\n",
    "- rfunc (Pastas response function instance)\n",
    "\n",
    "These attributes are optional but can be parsed:\n",
    "- settings (dict or str)\n",
    "- metadata (dict)\n",
    "- up (bool, indication whether contribution to the head is positive or negative, given that stress is positive)\n",
    "- gain_scale_factor (float, inital value estimator for the gain based on stress)\n",
    "\n",
    "And these settings are infered based on the stress / settings:\n",
    "- tmin (Timestamp) \n",
    "- tmax (Timestamp)\n",
    "- freq (str, frequency)\n",
    "- parameters (pandas DataFrame)\n",
    "\n",
    "So lets create a test where we read data and add it to the basic StressModel:"
   ]
  },
  {
   "cell_type": "code",
   "execution_count": null,
   "id": "e09f7020",
   "metadata": {},
   "outputs": [],
   "source": [
    "import pandas as pd\n",
    "\n",
    "prec = pd.read_csv(\n",
    "    \"../examples/data/rain_nb1.csv\", index_col=0, parse_dates=True\n",
    ").squeeze()\n",
    "evap = pd.read_csv(\n",
    "    \"../examples/data/evap_nb1.csv\", index_col=0, parse_dates=True\n",
    ").squeeze()"
   ]
  },
  {
   "cell_type": "code",
   "execution_count": null,
   "id": "71a604a5",
   "metadata": {},
   "outputs": [],
   "source": [
    "sm = ps.StressModel(\n",
    "    stress=prec,\n",
    "    rfunc=ps.Gamma(),\n",
    "    name=\"precipitation\",\n",
    "    settings=\"prec\",  #\n",
    "    metadata={\"station\": \"location_x\"},  # default is None\n",
    "    up=True,  # default (head goes up if it rains)\n",
    "    gain_scale_factor=None,  # default, retrieved from stress\n",
    ")"
   ]
  },
  {
   "attachments": {},
   "cell_type": "markdown",
   "id": "40ef6b29",
   "metadata": {},
   "source": [
    "Parsing the settings based with a string is equivalent to getting them from the rcParams which has some build-in logic for up- and downsampling and filling missing data."
   ]
  },
  {
   "cell_type": "code",
   "execution_count": null,
   "id": "9d64425c",
   "metadata": {},
   "outputs": [],
   "source": [
    "settings = ps.rcParams[\"timeseries\"][\"prec\"]\n",
    "settings"
   ]
  },
  {
   "attachments": {},
   "cell_type": "markdown",
   "id": "8a888bd6",
   "metadata": {},
   "source": [
    "Since evap is a positive series (>0), up has to be false because evaporation makes the head go down."
   ]
  },
  {
   "cell_type": "code",
   "execution_count": null,
   "id": "893696f7",
   "metadata": {},
   "outputs": [],
   "source": [
    "sm2 = ps.StressModel(\n",
    "    stress=evap,\n",
    "    rfunc=ps.Gamma(),\n",
    "    name=\"precipitation\",\n",
    "    settings=\"evap\",  #\n",
    "    metadata={\"station\": \"location_x\"},  # default is None\n",
    "    up=False,  # default (head goes up if it rains)\n",
    "    gain_scale_factor=None,  # default, retrieved from stress\n",
    ")"
   ]
  },
  {
   "attachments": {},
   "cell_type": "markdown",
   "id": "4bb2bccc",
   "metadata": {},
   "source": [
    "The RechargeModel combines the precipitation and evaporation series giving them the same response in a linear / nonlinear recharge combination."
   ]
  },
  {
   "cell_type": "code",
   "execution_count": null,
   "id": "6402011c",
   "metadata": {},
   "outputs": [],
   "source": [
    "rm = ps.RechargeModel(\n",
    "    prec=prec,\n",
    "    evap=evap,\n",
    "    rfunc=ps.Exponential(),  # default\n",
    "    name=\"recharge\",  # default\n",
    "    recharge=ps.rch.Linear(),  # default, other options are ps.rch.FlexModel(), ps.rch.Peterson(), ps.rch.Berendrecht()\n",
    "    settings=(\"prec\", \"evap\"),  # default\n",
    ")"
   ]
  }
 ],
 "metadata": {
  "kernelspec": {
   "display_name": "pastas_dev",
   "language": "python",
   "name": "python3"
  },
  "language_info": {
   "codemirror_mode": {
    "name": "ipython",
    "version": 3
   },
   "file_extension": ".py",
   "mimetype": "text/x-python",
   "name": "python",
   "nbconvert_exporter": "python",
   "pygments_lexer": "ipython3",
   "version": "3.9.15"
  },
  "vscode": {
   "interpreter": {
    "hash": "29475f8be425919747d373d827cb41e481e140756dd3c75aa328bf3399a0138e"
   }
  }
 },
 "nbformat": 4,
 "nbformat_minor": 5
}
