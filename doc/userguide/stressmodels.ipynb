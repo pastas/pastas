{
 "cells": [
  {
   "attachments": {},
   "cell_type": "markdown",
   "id": "e9d670aa",
   "metadata": {},
   "source": [
    "# StressModels\n",
    "\n",
    "In this notebook we give a quick start guide to StressModels in Pastas. Pastas uses StressModels to translate a hydrological stress to a contribution to a observed head time series. There are different stressmodels for unique use-cases. In Pastas we have the following StressModels:"
   ]
  },
  {
   "cell_type": "code",
   "execution_count": null,
   "id": "09feef34",
   "metadata": {},
   "outputs": [],
   "source": [
    "import pastas as ps\n",
    "\n",
    "ps.stressmodels.__all__"
   ]
  },
  {
   "attachments": {},
   "cell_type": "markdown",
   "id": "3deaeaac",
   "metadata": {},
   "source": [
    "## StressModel Attributes\n",
    "Each stressmodel has the following attributes:\n",
    "\n",
    "- stress (pandas Series)\n",
    "- name (str, must be unique within a Model)\n",
    "- rfunc (Pastas response function instance)\n",
    "\n",
    "These attributes are optional but can be parsed:\n",
    "\n",
    "- settings (dict or str, recommended)\n",
    "- metadata (dict, optional)\n",
    "- up (bool, indication whether contribution to the head is positive (`up=True`) or negative (`up=False`), given that stress is positive)\n",
    "- gain_scale_factor (float, inital value estimator for the gain based on stress)\n",
    "\n",
    "And these settings are infered based on the stress / settings:\n",
    "\n",
    "- tmin (Timestamp) \n",
    "- tmax (Timestamp)\n",
    "- freq (str, frequency)\n",
    "- parameters (pandas DataFrame)\n",
    "\n",
    "\n",
    "## Stresses\n",
    "Lets read some stresses and visualize them:"
   ]
  },
  {
   "cell_type": "code",
   "execution_count": null,
   "id": "e09f7020",
   "metadata": {},
   "outputs": [],
   "source": [
    "import pandas as pd\n",
    "\n",
    "head = pd.read_csv(\n",
    "    \"../examples/data/head_nb1.csv\", index_col=0, parse_dates=True\n",
    ").squeeze()\n",
    "prec = pd.read_csv(\n",
    "    \"../examples/data/rain_nb1.csv\", index_col=0, parse_dates=True\n",
    ").squeeze()\n",
    "evap = pd.read_csv(\n",
    "    \"../examples/data/evap_nb1.csv\", index_col=0, parse_dates=True\n",
    ").squeeze()\n",
    "\n",
    "# quick visualization\n",
    "ps.plots.series(head=head, stresses=[prec, evap], hist=False);"
   ]
  },
  {
   "attachments": {},
   "cell_type": "markdown",
   "id": "40b12ffd",
   "metadata": {},
   "source": [
    "__Figure 1: Observed head and stresses, in this case precipitation and evaporation (both positive)__"
   ]
  },
  {
   "attachments": {},
   "cell_type": "markdown",
   "id": "963fa7c9",
   "metadata": {},
   "source": [
    "## Creating a StressModel"
   ]
  },
  {
   "cell_type": "code",
   "execution_count": null,
   "id": "71a604a5",
   "metadata": {},
   "outputs": [],
   "source": [
    "sm = ps.StressModel(\n",
    "    stress=prec,\n",
    "    rfunc=ps.Gamma(),\n",
    "    name=\"precipitation\",\n",
    "    settings=\"prec\",  #\n",
    "    metadata={\"station\": \"location_x\"},  # default is None\n",
    "    up=True,  # default (head goes up if it rains)\n",
    "    gain_scale_factor=None,  # default, retrieved from stress\n",
    ")"
   ]
  },
  {
   "attachments": {},
   "cell_type": "markdown",
   "id": "40ef6b29",
   "metadata": {},
   "source": [
    "### Stressmodel settings\n",
    "\n",
    "Parsing the settings based with a string is equivalent to getting them from the rcParams which contains some build-in logic for up- and downsampling and filling missing data."
   ]
  },
  {
   "cell_type": "code",
   "execution_count": null,
   "id": "9d64425c",
   "metadata": {},
   "outputs": [],
   "source": [
    "settings = ps.rcParams[\"timeseries\"][\"prec\"]\n",
    "settings"
   ]
  },
  {
   "attachments": {},
   "cell_type": "markdown",
   "id": "8a888bd6",
   "metadata": {},
   "source": [
    "Since evap is a positive series (>0), up has to be false because evaporation makes the head go down. Adding `stess=-evap` and using `up = True` would yield the same result in the simulation."
   ]
  },
  {
   "cell_type": "code",
   "execution_count": null,
   "id": "893696f7",
   "metadata": {},
   "outputs": [],
   "source": [
    "sm2 = ps.StressModel(\n",
    "    stress=evap,\n",
    "    rfunc=ps.Gamma(),\n",
    "    name=\"evaporation\",\n",
    "    settings=\"evap\",  #\n",
    "    metadata={\"station\": \"location_x\"},  # default is None\n",
    "    up=False,\n",
    "    gain_scale_factor=None,  # default, retrieved from stress\n",
    ")"
   ]
  },
  {
   "attachments": {},
   "cell_type": "markdown",
   "id": "4bb2bccc",
   "metadata": {},
   "source": [
    "The RechargeModel combines the precipitation and evaporation series giving them the same response in a linear / nonlinear recharge combination."
   ]
  },
  {
   "cell_type": "code",
   "execution_count": null,
   "id": "6402011c",
   "metadata": {},
   "outputs": [],
   "source": [
    "rm = ps.RechargeModel(\n",
    "    prec=prec,\n",
    "    evap=evap,\n",
    "    rfunc=ps.Exponential(),  # default\n",
    "    name=\"recharge\",  # default\n",
    "    recharge=ps.rch.Linear(),  # default, other options are ps.rch.FlexModel(), ps.rch.Peterson(), ps.rch.Berendrecht()\n",
    "    settings=(\"prec\", \"evap\"),  # default\n",
    ")"
   ]
  },
  {
   "attachments": {},
   "cell_type": "markdown",
   "id": "280fd48e",
   "metadata": {},
   "source": [
    "Stressmodels are added to a Model using the `.add_stressmodel()` method and can be parsed seperately or as a list of stressmodels."
   ]
  },
  {
   "cell_type": "code",
   "execution_count": null,
   "id": "44dbd25e",
   "metadata": {},
   "outputs": [],
   "source": [
    "ml = ps.Model(head)\n",
    "ml.add_stressmodel(rm)\n",
    "ml.add_stressmodel([sm, sm2])"
   ]
  },
  {
   "attachments": {},
   "cell_type": "markdown",
   "id": "7bd600f5",
   "metadata": {},
   "source": [
    "### Other usecases for stressmodels\n",
    "\n",
    "There are many other usecases for the different StressModels in Pastas. For each usecase there is an example such as:\n",
    "\n",
    "- adding surface water levels / rivers\n",
    "- adding (multiple) pumping wells\n",
    "- adding trends\n",
    "- changing responses\n",
    "\n",
    "All these more specific examples with their settings can be found in the examples on [readthedocs](https://pastas.readthedocs.io/en/latest/examples/index.html)"
   ]
  }
 ],
 "metadata": {
  "kernelspec": {
   "display_name": "pastas_dev",
   "language": "python",
   "name": "python3"
  },
  "language_info": {
   "codemirror_mode": {
    "name": "ipython",
    "version": 3
   },
   "file_extension": ".py",
   "mimetype": "text/x-python",
   "name": "python",
   "nbconvert_exporter": "python",
   "pygments_lexer": "ipython3",
   "version": "3.9.15"
  },
  "vscode": {
   "interpreter": {
    "hash": "29475f8be425919747d373d827cb41e481e140756dd3c75aa328bf3399a0138e"
   }
  }
 },
 "nbformat": 4,
 "nbformat_minor": 5
}
