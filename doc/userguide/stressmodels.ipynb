{
 "cells": [
  {
   "cell_type": "markdown",
   "id": "1c4c287b",
   "metadata": {},
   "source": [
    "# Stress models\n",
    "\n",
    "In this notebook we give a quick start guide to StressModels in Pastas. Pastas uses smaller submodels to translate one or multiple hydrological stress(es) (e.g., precipitation, river stages) to a contribution to the head fluctuations. The submodels are named \"stress models\" in Pastas. All stress models are contained in the `stressmodels` module. There are different stress models for a variety of use-cases. It is the task of the hydrologist to select a specific stress model to simulate the head contribution from a particular stress. \n",
    "\n",
    "The following stress models are available:"
   ]
  },
  {
   "cell_type": "code",
   "execution_count": null,
   "id": "a0de9140",
   "metadata": {},
   "outputs": [],
   "source": [
    "import pastas as ps"
   ]
  },
  {
   "cell_type": "markdown",
   "id": "eecadfb5",
   "metadata": {},
   "source": [
    "## Stresses\n",
    "\n",
    "To start, let's read some common stresses and visualize them:"
   ]
  },
  {
   "cell_type": "code",
   "execution_count": null,
   "id": "578ef880",
   "metadata": {},
   "outputs": [],
   "source": [
    "import pandas as pd\n",
    "\n",
    "head = pd.read_csv(\n",
    "    \"../examples/data/head_nb1.csv\", index_col=0, parse_dates=True\n",
    ").squeeze()\n",
    "prec = pd.read_csv(\n",
    "    \"../examples/data/rain_nb1.csv\", index_col=0, parse_dates=True\n",
    ").squeeze()\n",
    "evap = pd.read_csv(\n",
    "    \"../examples/data/evap_nb1.csv\", index_col=0, parse_dates=True\n",
    ").squeeze()\n",
    "\n",
    "# quick visualization\n",
    "ps.plots.series(head=head, stresses=[prec, evap], hist=False);"
   ]
  },
  {
   "cell_type": "markdown",
   "id": "21178f65",
   "metadata": {},
   "source": [
    "__Figure 1: Observed head and stresses, in this case precipitation and evaporation (both positive)__"
   ]
  },
  {
   "cell_type": "markdown",
   "id": "cf0697c5",
   "metadata": {},
   "source": [
    "## Creating a StressModel\n",
    "\n",
    "One of the most commonly used stress models is the `ps.StressModel`. This model takes a single stress (e.g., precipitation), and convolves that stress with an impulse response function to compute the contribution of the precipitation to the head fluctuations. Here is how to create a stress model instance. "
   ]
  },
  {
   "cell_type": "code",
   "execution_count": null,
   "id": "c59d2ff9",
   "metadata": {},
   "outputs": [],
   "source": [
    "sm = ps.StressModel(\n",
    "    stress=prec,\n",
    "    rfunc=ps.Gamma(),\n",
    "    name=\"precipitation\",\n",
    "    up=True,  # default (head goes up if it rains)\n",
    ")"
   ]
  },
  {
   "cell_type": "markdown",
   "id": "0c83b497",
   "metadata": {},
   "source": [
    "This stress model takes in a few required arguments, the `stress` time series, the response function `rfunc`, and the `name` of the stress model. This name has to be unique among the stress models added to the model. In the example above, the argument `up=True` is provided as well, which means that the head response to precipitation is positive (it rains, heads increase). Depending on the stress model, more or less input arguments are required. For each stress model, these arguments are described in the docstring.  \n",
    "\n",
    "As the stress models are actually mini models, each stress model has a `simulate` method that simulates the head contributions. One does typically not use these methods, as these are called internally by the `Model`. However, for illustrative purposes we simulate the contribution here, using the initial parameters:"
   ]
  },
  {
   "cell_type": "code",
   "execution_count": null,
   "id": "9e034c4f",
   "metadata": {},
   "outputs": [],
   "source": [
    "p = sm.parameters.initial.values\n",
    "\n",
    "sm.simulate(p=p, tmin=\"2005\", tmax=\"2010\").plot(figsize=(6, 2));"
   ]
  },
  {
   "cell_type": "markdown",
   "id": "caba0529",
   "metadata": {},
   "source": [
    "### Add stress models to the main Model\n",
    "\n",
    "As stated before, stress models are typically not used on their own, but as part of a larger model, the pastas Model. Stress models are added to a Model using the `.add_stressmodel()` method and can be parsed seperately or as a list of stress models. This means that you can add multiple stress models if you want. Below we add a single stress model to the main model."
   ]
  },
  {
   "cell_type": "code",
   "execution_count": null,
   "id": "7d95ce18",
   "metadata": {},
   "outputs": [],
   "source": [
    "ml = ps.Model(head)\n",
    "ml.add_stressmodel(sm)  # Adding the stress model\n",
    "\n",
    "ml.simulate(tmin=\"2005\", tmax=\"2010\").plot(figsize=(6, 2));"
   ]
  },
  {
   "cell_type": "markdown",
   "id": "3f91a4d1",
   "metadata": {},
   "source": [
    "Note how the simulated head is similar to that simulated by the stress model created above, plus the constant. \n",
    "\n",
    "### Creating and adding more stress models\n",
    "\n",
    "Often multiple stresses are causing the head fluctuations. For example, if evaporation is affecting the head fluctuations, we can create a second stress model that simulate that contribution. As evaporation has a lowering effect on the heads, we set `up=False`."
   ]
  },
  {
   "cell_type": "code",
   "execution_count": null,
   "id": "49e492a6",
   "metadata": {},
   "outputs": [],
   "source": [
    "sm2 = ps.StressModel(\n",
    "    stress=evap,\n",
    "    rfunc=ps.Gamma(),\n",
    "    name=\"evaporation\",\n",
    "    up=False,\n",
    ")\n",
    "\n",
    "p = sm2.parameters.initial.values\n",
    "\n",
    "sm2.simulate(p=p, tmin=\"2005\", tmax=\"2010\").plot(figsize=(6, 2));"
   ]
  },
  {
   "cell_type": "markdown",
   "id": "542c44ef",
   "metadata": {},
   "source": [
    "Now we add the second stress model to the main model. We do not have to create a new Model instance again, but can just add it to the one we created earlier."
   ]
  },
  {
   "cell_type": "code",
   "execution_count": null,
   "id": "b4dfa5bf",
   "metadata": {},
   "outputs": [],
   "source": [
    "ml.add_stressmodel(sm2)  # Adding the second stress model\n",
    "ml.simulate(tmin=\"2005\", tmax=\"2010\").plot(figsize=(6, 2));"
   ]
  },
  {
   "cell_type": "markdown",
   "id": "356a4b21",
   "metadata": {},
   "source": [
    "This start to look like a real model, let's estimate the parameters by calling `ml.solve` and plot the estimated contributions of the two stresses to the head fluctuations using the `ml.plots.decomposition` method."
   ]
  },
  {
   "cell_type": "code",
   "execution_count": null,
   "id": "8e08bcd3",
   "metadata": {},
   "outputs": [],
   "source": [
    "ml.solve(tmin=\"2005\", tmax=\"2010\", report=False)\n",
    "ml.plots.decomposition(tmin=\"2005\", tmax=\"2010\", figsize=(5, 4));"
   ]
  },
  {
   "cell_type": "markdown",
   "id": "8c494faa",
   "metadata": {},
   "source": [
    "### Stress model settings\n",
    "\n",
    "We now understand what stress models are, how they work, and how to add them to the model. Before we discuss other stress models, let's dive a bit deeper into one particular argument that each stress model has: the `settings` argument. \n",
    "\n",
    "The settings determine how the stress time series are internally updated if necessary for simulation, for example if a different simulation frequency is chosen or if the time series need to be extended in time (for example to create data for a warmup period). The creation of the stress model is where these settings are chosen. \n",
    "\n",
    "Some stress models have default settings for this, and use one of the predefined settings dictionaries (defined in `ps.rcParams[\"timeseries\"]`). Others have no default settings. In all cases, the user can always provide user-defined settings. Here's how to use and set the settings:"
   ]
  },
  {
   "cell_type": "code",
   "execution_count": null,
   "id": "fe6a4fe3",
   "metadata": {},
   "outputs": [],
   "source": [
    "settings = ps.rcParams[\"timeseries\"][\"prec\"]  # Select from predefined settings options\n",
    "settings"
   ]
  },
  {
   "cell_type": "code",
   "execution_count": null,
   "id": "2d32b301",
   "metadata": {},
   "outputs": [],
   "source": [
    "sm = ps.StressModel(\n",
    "    stress=prec,\n",
    "    rfunc=ps.Gamma(),\n",
    "    name=\"prec\",\n",
    "    settings=\"prec\",  # identical to settings=ps.rcParams[\"timeseries\"][\"prec\"]\n",
    ")"
   ]
  },
  {
   "cell_type": "markdown",
   "id": "dea3f8ba",
   "metadata": {},
   "source": [
    "## Other stress models in Pastas\n",
    "\n",
    "Pastas contains a number of other stress models for different hydrological stresses. The following stress models are available:"
   ]
  },
  {
   "cell_type": "code",
   "execution_count": null,
   "id": "c95e9955",
   "metadata": {},
   "outputs": [],
   "source": [
    "ps.stressmodels.__all__"
   ]
  },
  {
   "cell_type": "markdown",
   "id": "576d0698",
   "metadata": {},
   "source": [
    "From these, the `LinearTrend` and `StepModel` stress models add a specific kind of trend that do not require a stress. In these cases, the modeller should have a clear idea of what is causing the trend or step. The `ChangeModel` simulates a changing response function over time, to translate a single stress. The `WellModel` deals with one or multiple wells which are pumping groundwater and cause a lowering head. For all of these stress models examples can be found in the examples section on [readthedocs](https://pastas.readthedocs.io/en/latest/examples/index.html).\n",
    "\n",
    "Two other models deal with precipitation and evaporation in a single stress model: `RechargeModel` and `TarsoModel`. The `TarsoModel` simulates a threshold-nonlinearity where the head responds differrently to precipitation and evaporation depending on the head itself.\n",
    "\n",
    "Perhaps the most used model is the `RechargeModel`, which takes in precipitation and potential evaporation and simulates recharge from these two stresses and finally the head contribution. How the model simulates the recharge depends on the `recharge` model which is chosen."
   ]
  },
  {
   "cell_type": "code",
   "execution_count": null,
   "id": "9a917b73",
   "metadata": {},
   "outputs": [],
   "source": [
    "sm3 = ps.RechargeModel(\n",
    "    prec=prec,\n",
    "    evap=evap,\n",
    "    rfunc=ps.Exponential(),  # default\n",
    "    name=\"recharge\",  # default\n",
    "    recharge=ps.rch.FlexModel(),  # other options are ps.rch.Linear(), ps.rch.Peterson(), ps.rch.Berendrecht()\n",
    "    settings=(\"prec\", \"evap\"),  # default\n",
    ")"
   ]
  },
  {
   "cell_type": "markdown",
   "id": "130a2fe1",
   "metadata": {},
   "source": [
    "### Other use cases for stressmodels\n",
    "\n",
    "There are many other use cases for the different stress models in Pastas. For more example check out the examples section."
   ]
  }
 ],
 "metadata": {
  "kernelspec": {
   "display_name": "Python 3 (ipykernel)",
   "language": "python",
   "name": "python3"
  },
  "language_info": {
   "codemirror_mode": {
    "name": "ipython",
    "version": 3
   },
   "file_extension": ".py",
   "mimetype": "text/x-python",
   "name": "python",
   "nbconvert_exporter": "python",
   "pygments_lexer": "ipython3",
   "version": "3.10.5"
  },
  "vscode": {
   "interpreter": {
    "hash": "29475f8be425919747d373d827cb41e481e140756dd3c75aa328bf3399a0138e"
   }
  }
 },
 "nbformat": 4,
 "nbformat_minor": 5
}
