{
 "cells": [
  {
   "cell_type": "markdown",
   "id": "46806847",
   "metadata": {},
   "source": [
    "# Modeling workflow\n",
    "\n",
    "In this section the general workflow for modeling and analyzing hydraulic head time series with Pastas is explained. \n",
    "\n",
    "- Modeling workflow\n",
    "- Creating a model\n",
    "- Adding stressmodels\n",
    "    - response functions\n",
    "    - recharge models\n",
    "- Solving the model\n",
    "- Analyzing the results\n",
    "    - Visualisation\n",
    "    - Metrics\n",
    "    - Diagnostics"
   ]
  },
  {
   "cell_type": "code",
   "execution_count": null,
   "id": "108f6f8b",
   "metadata": {},
   "outputs": [],
   "source": []
  }
 ],
 "metadata": {
  "kernelspec": {
   "display_name": "Python 3 (ipykernel)",
   "language": "python",
   "name": "python3"
  },
  "language_info": {
   "codemirror_mode": {
    "name": "ipython",
    "version": 3
   },
   "file_extension": ".py",
   "mimetype": "text/x-python",
   "name": "python",
   "nbconvert_exporter": "python",
   "pygments_lexer": "ipython3",
   "version": "3.10.5"
  }
 },
 "nbformat": 4,
 "nbformat_minor": 5
}
